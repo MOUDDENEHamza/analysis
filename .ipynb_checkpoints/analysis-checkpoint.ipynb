{
 "cells": [
  {
   "cell_type": "markdown",
   "metadata": {},
   "source": [
    "# Analyse de données et grands systèmes linéaires"
   ]
  },
  {
   "cell_type": "markdown",
   "metadata": {},
   "source": [
    "### Importation des bibliothèques système permettant l'éxecution du programme"
   ]
  },
  {
   "cell_type": "code",
   "execution_count": 106,
   "metadata": {},
   "outputs": [],
   "source": [
    "%matplotlib inline"
   ]
  },
  {
   "cell_type": "code",
   "execution_count": 107,
   "metadata": {},
   "outputs": [],
   "source": [
    "from matplotlib.pyplot import * \n",
    "from numpy import * \n",
    "from scipy import * \n",
    "from scipy.sparse import * \n",
    "from numpy.linalg import *"
   ]
  },
  {
   "cell_type": "markdown",
   "metadata": {},
   "source": [
    "## I. Introduction au problème :"
   ]
  },
  {
   "cell_type": "markdown",
   "metadata": {},
   "source": [
    "Initialisation de la matrice K, on fixera la dimension $n = 100 $, puis à l'aide de la formule suivante : $K = (In ⊗ D^t . D) + (D^t . D ⊗ In)$, en explicitant le calcul on trouve que:\n",
    "\n",
    "\n",
    "$A = D^t . D =  $$\\begin{pmatrix}2 & -1 & 0 & ... & 0\\\\\\ -1 & 2 & -1 & ... & ... \\\\\\ 0 & ... & ... & ... & 0 \\\\\\ 0 & ... & -1 & 2 & -1\\\\\\ 0 & ... & 0 & 2 & -1\\end{pmatrix}$ "
   ]
  },
  {
   "cell_type": "markdown",
   "metadata": {},
   "source": [
    "## II. Résolution du probléme :"
   ]
  },
  {
   "cell_type": "markdown",
   "metadata": {},
   "source": [
    "### (a) Initialiser la matrice du système $K ∈ ℝ^{n*n} $ et le vecteur $f ∈ ℝ^n $ :\n",
    "Initialisation de la matrice K, on fixera la dimension $n = 100 $, puis à l'aide de la formule suivante : $K = (In ⊗ D^t . D) + (D^t . D ⊗ In)$, en explicitant le calcul on trouve que:\n",
    "\n",
    "\n",
    "$A = D^t . D =  $$\\begin{pmatrix}2 & -1 & 0 & ... & 0\\\\\\ -1 & 2 & -1 & ... & ... \\\\\\ 0 & ... & ... & ... & 0 \\\\\\ 0 & ... & -1 & 2 & -1\\\\\\ 0 & ... & 0 & 2 & -1\\end{pmatrix}$ <br/><br/>\n",
    "Ou la matrice $In$ est la matrice identité, $⊗$ est le produit de Kronecker."
   ]
  },
  {
   "cell_type": "code",
   "execution_count": 108,
   "metadata": {},
   "outputs": [],
   "source": [
    "n = 5\n",
    "I = eye(n)\n",
    "A = diags([-1,2,-1], [-1,0,1], shape = (n, n))"
   ]
  },
  {
   "cell_type": "code",
   "execution_count": 109,
   "metadata": {},
   "outputs": [
    {
     "name": "stdout",
     "output_type": "stream",
     "text": [
      "  (0, 0)\t1.0\n",
      "  (1, 1)\t1.0\n",
      "  (2, 2)\t1.0\n",
      "  (3, 3)\t1.0\n",
      "  (4, 4)\t1.0\n",
      "  (1, 0)\t-1.0\n",
      "  (2, 1)\t-1.0\n",
      "  (3, 2)\t-1.0\n",
      "  (4, 3)\t-1.0\n",
      "  (0, 0)\t2.0\n",
      "  (1, 1)\t2.0\n",
      "  (2, 2)\t2.0\n",
      "  (3, 3)\t2.0\n",
      "  (4, 4)\t2.0\n",
      "  (0, 1)\t-1.0\n",
      "  (1, 2)\t-1.0\n",
      "  (2, 3)\t-1.0\n",
      "  (3, 4)\t-1.0\n"
     ]
    }
   ],
   "source": [
    "print(I)# matrice identité\n",
    "print(A)"
   ]
  },
  {
   "cell_type": "code",
   "execution_count": 110,
   "metadata": {},
   "outputs": [
    {
     "data": {
      "text/plain": [
       "<matplotlib.lines.Line2D at 0x7ff296da0ba8>"
      ]
     },
     "execution_count": 110,
     "metadata": {},
     "output_type": "execute_result"
    },
    {
     "data": {
      "image/png": "[encoded data removed]",
      "text/plain": [
       "<Figure size 432x288 with 1 Axes>"
      ]
     },
     "metadata": {
      "needs_background": "light"
     },
     "output_type": "display_data"
    }
   ],
   "source": [
    "kron(A, I)#le produit de Kronecker\n",
    "spy(A)\n",
    "spy(kron(A, I))\n",
    "K = kron(I, A) + kron(A, I)\n",
    "spy(K)"
   ]
  },
  {
   "cell_type": "code",
   "execution_count": 111,
   "metadata": {
    "scrolled": true
   },
   "outputs": [
    {
     "name": "stdout",
     "output_type": "stream",
     "text": [
      "  (0, 0)\t4.0\n",
      "  (0, 1)\t-1.0\n",
      "  (0, 2)\t0.0\n",
      "  (0, 3)\t0.0\n",
      "  (0, 4)\t0.0\n",
      "  (1, 0)\t-1.0\n",
      "  (1, 1)\t4.0\n",
      "  (1, 2)\t-1.0\n",
      "  (1, 3)\t0.0\n",
      "  (1, 4)\t0.0\n",
      "  (2, 0)\t0.0\n",
      "  (2, 1)\t-1.0\n",
      "  (2, 2)\t4.0\n",
      "  (2, 3)\t-1.0\n",
      "  (2, 4)\t0.0\n",
      "  (3, 0)\t0.0\n",
      "  (3, 1)\t0.0\n",
      "  (3, 2)\t-1.0\n",
      "  (3, 3)\t4.0\n",
      "  (3, 4)\t-1.0\n",
      "  (4, 0)\t0.0\n",
      "  (4, 1)\t0.0\n",
      "  (4, 2)\t0.0\n",
      "  (4, 3)\t-1.0\n",
      "  (4, 4)\t4.0\n",
      "  :\t:\n",
      "  (20, 20)\t4.0\n",
      "  (20, 21)\t-1.0\n",
      "  (20, 22)\t0.0\n",
      "  (20, 23)\t0.0\n",
      "  (20, 24)\t0.0\n",
      "  (21, 20)\t-1.0\n",
      "  (21, 21)\t4.0\n",
      "  (21, 22)\t-1.0\n",
      "  (21, 23)\t0.0\n",
      "  (21, 24)\t0.0\n",
      "  (22, 20)\t0.0\n",
      "  (22, 21)\t-1.0\n",
      "  (22, 22)\t4.0\n",
      "  (22, 23)\t-1.0\n",
      "  (22, 24)\t0.0\n",
      "  (23, 20)\t0.0\n",
      "  (23, 21)\t0.0\n",
      "  (23, 22)\t-1.0\n",
      "  (23, 23)\t4.0\n",
      "  (23, 24)\t-1.0\n",
      "  (24, 20)\t0.0\n",
      "  (24, 21)\t0.0\n",
      "  (24, 22)\t0.0\n",
      "  (24, 23)\t-1.0\n",
      "  (24, 24)\t4.0\n"
     ]
    }
   ],
   "source": [
    "print(K)"
   ]
  },
  {
   "cell_type": "markdown",
   "metadata": {},
   "source": [
    "nous avons fini avec l'initialisation de la matrice du système $K$, alors maintenant, on va initialiser le vecteur $f ∈ ℝ^n$ tel que pour tout n il faut utiliser les vecteurs $e1$ et $en$ de la base canonique de $ℝ^n$ où:\n",
    "$f = (e1 ⊗ h) + (g ⊗ e1) + (en ⊗ b) + (d ⊗ en)$ <br/>\n",
    "$e1 = $$\\begin{pmatrix}1 \\\\\\ 0 \\\\\\ . \\\\\\ .\\\\\\ .\\\\\\\\ 0\\end{pmatrix}$ &nbsp;&nbsp;&nbsp;&nbsp;&nbsp;&nbsp; , &nbsp;&nbsp;&nbsp;&nbsp;&nbsp;&nbsp; $ en = $$\\begin{pmatrix}0 \\\\\\ 0 \\\\\\ . \\\\\\ .\\\\\\ .\\\\\\\\ 1\\end{pmatrix}$ &nbsp;&nbsp;&nbsp;&nbsp;&nbsp;&nbsp; , &nbsp;&nbsp;&nbsp;&nbsp;&nbsp;&nbsp; $ h = $$\\begin{pmatrix}1 \\\\\\ 1 \\\\\\ . \\\\\\ .\\\\\\ .\\\\\\\\ 1\\end{pmatrix}$  &nbsp;&nbsp;&nbsp;&nbsp;&nbsp;&nbsp; , &nbsp;&nbsp;&nbsp;&nbsp;&nbsp;&nbsp; $ g = $$\\begin{pmatrix}0 \\\\\\ 0 \\\\\\ . \\\\\\ .\\\\\\ .\\\\\\\\ 0\\end{pmatrix}$  &nbsp;&nbsp;&nbsp;&nbsp;&nbsp;&nbsp; , &nbsp;&nbsp;&nbsp;&nbsp;&nbsp;&nbsp; $ b = $$\\begin{pmatrix}0 \\\\\\ 0 \\\\\\ . \\\\\\ .\\\\\\ .\\\\\\\\ 0\\end{pmatrix}$  &nbsp;&nbsp;&nbsp;&nbsp;&nbsp;&nbsp; , &nbsp;&nbsp;&nbsp;&nbsp;&nbsp;&nbsp; $ d = $$\\begin{pmatrix}1 \\\\\\ 1 \\\\\\ . \\\\\\ .\\\\\\ .\\\\\\\\ 1\\end{pmatrix}$ <br/>"
   ]
  },
  {
   "cell_type": "code",
   "execution_count": 112,
   "metadata": {},
   "outputs": [],
   "source": [
    "e1 = 0 * ones(n)\n",
    "e1[0] = 1\n",
    "en = 0 * ones(n) \n",
    "en[n - 1] = 1"
   ]
  },
  {
   "cell_type": "code",
   "execution_count": 113,
   "metadata": {},
   "outputs": [
    {
     "name": "stdout",
     "output_type": "stream",
     "text": [
      "e1 =  [ 1.  0.  0.  0.  0.]\n",
      "en =  [ 0.  0.  0.  0.  1.]\n"
     ]
    }
   ],
   "source": [
    "print(\"e1 = \", e1)\n",
    "print(\"en = \", en)"
   ]
  },
  {
   "cell_type": "code",
   "execution_count": 114,
   "metadata": {},
   "outputs": [],
   "source": [
    "h = 1 * ones(n)\n",
    "g = 0 * ones(n)\n",
    "b = 0 * ones(n)\n",
    "d = 1 * ones(n)"
   ]
  },
  {
   "cell_type": "code",
   "execution_count": 115,
   "metadata": {},
   "outputs": [
    {
     "name": "stdout",
     "output_type": "stream",
     "text": [
      "h =  [ 1.  1.  1.  1.  1.]\n",
      "g =  [ 0.  0.  0.  0.  0.]\n",
      "b =  [ 0.  0.  0.  0.  0.]\n",
      "d =  [ 1.  1.  1.  1.  1.]\n"
     ]
    }
   ],
   "source": [
    "print(\"h = \", h)\n",
    "print(\"g = \", g)\n",
    "print(\"b = \", b)\n",
    "print(\"d = \", d)"
   ]
  },
  {
   "cell_type": "code",
   "execution_count": 117,
   "metadata": {},
   "outputs": [],
   "source": [
    "f = kron(e1, h) + kron(g, e1) + kron(en, b) + kron(d, en)"
   ]
  },
  {
   "cell_type": "code",
   "execution_count": 118,
   "metadata": {},
   "outputs": [
    {
     "name": "stdout",
     "output_type": "stream",
     "text": [
      "  (0, 0)\t1.0\n",
      "  (0, 1)\t1.0\n",
      "  (0, 2)\t1.0\n",
      "  (0, 3)\t1.0\n",
      "  (0, 4)\t2.0\n",
      "  (0, 5)\t0.0\n",
      "  (0, 6)\t0.0\n",
      "  (0, 7)\t0.0\n",
      "  (0, 8)\t0.0\n",
      "  (0, 9)\t1.0\n",
      "  (0, 10)\t0.0\n",
      "  (0, 11)\t0.0\n",
      "  (0, 12)\t0.0\n",
      "  (0, 13)\t0.0\n",
      "  (0, 14)\t1.0\n",
      "  (0, 15)\t0.0\n",
      "  (0, 16)\t0.0\n",
      "  (0, 17)\t0.0\n",
      "  (0, 18)\t0.0\n",
      "  (0, 19)\t1.0\n",
      "  (0, 20)\t0.0\n",
      "  (0, 21)\t0.0\n",
      "  (0, 22)\t0.0\n",
      "  (0, 23)\t0.0\n",
      "  (0, 24)\t1.0\n"
     ]
    }
   ],
   "source": [
    "print(f)"
   ]
  },
  {
   "cell_type": "markdown",
   "metadata": {},
   "source": [
    "### (b) Résolution des problèmes de moindres carrés :"
   ]
  },
  {
   "cell_type": "code",
   "execution_count": null,
   "metadata": {},
   "outputs": [],
   "source": []
  },
  {
   "cell_type": "markdown",
   "metadata": {},
   "source": [
    "### (c) Implémentation de la méthode restarting :"
   ]
  },
  {
   "cell_type": "code",
   "execution_count": null,
   "metadata": {},
   "outputs": [],
   "source": []
  }
 ],
 "metadata": {
  "kernelspec": {
   "display_name": "Python 3",
   "language": "python",
   "name": "python3"
  },
  "language_info": {
   "codemirror_mode": {
    "name": "ipython",
    "version": 3
   },
   "file_extension": ".py",
   "mimetype": "text/x-python",
   "name": "python",
   "nbconvert_exporter": "python",
   "pygments_lexer": "ipython3",
   "version": "3.6.7"
  }
 },
 "nbformat": 4,
 "nbformat_minor": 1
}
