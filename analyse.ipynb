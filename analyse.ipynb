{
 "cells": [
  {
   "cell_type": "markdown",
   "metadata": {},
   "source": [
    "# Analyse de données et grands systèmes linéaires"
   ]
  },
  {
   "cell_type": "markdown",
   "metadata": {},
   "source": [
    "### Importation des bibliothèques système permettant l'éxecution du programme"
   ]
  },
  {
   "cell_type": "code",
   "execution_count": 51,
   "metadata": {},
   "outputs": [],
   "source": [
    "%matplotlib inline"
   ]
  },
  {
   "cell_type": "code",
   "execution_count": 52,
   "metadata": {},
   "outputs": [],
   "source": [
    "from matplotlib.pyplot import * \n",
    "from numpy import * \n",
    "from scipy import * \n",
    "from scipy.sparse import * \n",
    "from numpy.linalg import *\n",
    "from scipy.linalg import solve_triangular\n",
    "from scipy.sparse.linalg import spsolve"
   ]
  },
  {
   "cell_type": "markdown",
   "metadata": {},
   "source": [
    "## I. Introduction du problème :"
   ]
  },
  {
   "cell_type": "markdown",
   "metadata": {},
   "source": [
    "On considère un réseau carré régulier constitué de résistances électriques. Deux\n",
    "nœuds voisins du réseau sont reliés par un fil conducteur de résistance $R$ avec un courant d’intensité $I$ qui vérifie la loi d’Ohm $δU = R . I$, où $δU$ est la différence de potentiel électrique aux deux nœuds. Aux bords du réseau la valeur du potentiel est fixée. On a ainsi 4 valeurs de potentiel fixées sur chaque côté du carré.\n",
    "Le problème que l’on se pose est celui de calculer la valeur du potentiel aux nœuds situés à l’intérieur\n",
    "du réseau à partir des valeurs du potentiel fixées sur les 4 côtés du carré. Cependant, la simple considération de la loi d’Ohm ne permet pas d’obtenir une solution unique à ce problème. Il faut considérer en plus la loi de Kirchhoff qui impose qu’en chaque nœud la somme de tous les courants qui arrivent est égale à la somme des courants qui en sortent (loi de conservation de la charge électrique).\n",
    "La conjonction des deux lois (loi d’Ohm et loi de Kirchhoff) permet de définir un système linéaire dans lequel l’inconnue est le vecteur $u$ ayant pour coordonnées le potentiel aux nœuds intérieurs du réseau, en considérant des résistances constantes égales à $1$ dans tout le réseau.\n",
    "Il s’agit de résoudre le système linéaire : $K . u = f$.<br />\n",
    "Cela revient à considérer le probème des moindres carrés qui est une méthode, indépendamment élaborée par Legendre et Gauss au début du xixe siècle, permet de comparer des données expérimentales, généralement entachées d’erreurs de mesure, à un modèle mathématique censé décrire ces données.<br />\n",
    "Ce modèle peut prendre diverses formes. Il peut s’agir de lois de conservation que les quantités mesurées doivent respecter. La méthode des moindres carrés permet alors de minimiser l’impact des erreurs expérimentales en « ajoutant de l’information » dans le processus de mesure."
   ]
  },
  {
   "cell_type": "markdown",
   "metadata": {},
   "source": [
    "## II. Résolution du probléme :"
   ]
  },
  {
   "cell_type": "markdown",
   "metadata": {},
   "source": [
    "### (a) Initialiser la matrice du système $K ∈ ℝ^{n*n} $ et le vecteur $f ∈ ℝ^n $ :\n",
    "Initialisation de la matrice K, fixons la dimension $n = 10 $, puis à l'aide de la formule suivante : $K = (In ⊗ D^t . D) + (D^t . D ⊗ In)$, en explicitant le calcul on trouve que:\n",
    "\n",
    "\n",
    "$A = D^t . D =  $$\\begin{pmatrix}2 & -1 & 0 & ... & 0\\\\\\ -1 & 2 & -1 & ... & ... \\\\\\ 0 & ... & ... & ... & 0 \\\\\\ 0 & ... & -1 & 2 & -1\\\\\\ 0 & ... & 0 & 2 & -1\\end{pmatrix}$ <br/><br/>\n",
    "Ou la matrice $In$ est la matrice identité, $⊗$ est le produit de Kronecker."
   ]
  },
  {
   "cell_type": "code",
   "execution_count": 53,
   "metadata": {},
   "outputs": [],
   "source": [
    "n = 10\n",
    "I = eye(n)\n",
    "A = diags([-1,2,-1], [-1,0,1], shape = (n, n))"
   ]
  },
  {
   "cell_type": "code",
   "execution_count": 54,
   "metadata": {},
   "outputs": [
    {
     "name": "stdout",
     "output_type": "stream",
     "text": [
      "  (0, 0)\t1.0\n",
      "  (1, 1)\t1.0\n",
      "  (2, 2)\t1.0\n",
      "  (3, 3)\t1.0\n",
      "  (4, 4)\t1.0\n",
      "  (5, 5)\t1.0\n",
      "  (6, 6)\t1.0\n",
      "  (7, 7)\t1.0\n",
      "  (8, 8)\t1.0\n",
      "  (9, 9)\t1.0\n",
      "  (1, 0)\t-1.0\n",
      "  (2, 1)\t-1.0\n",
      "  (3, 2)\t-1.0\n",
      "  (4, 3)\t-1.0\n",
      "  (5, 4)\t-1.0\n",
      "  (6, 5)\t-1.0\n",
      "  (7, 6)\t-1.0\n",
      "  (8, 7)\t-1.0\n",
      "  (9, 8)\t-1.0\n",
      "  (0, 0)\t2.0\n",
      "  (1, 1)\t2.0\n",
      "  (2, 2)\t2.0\n",
      "  (3, 3)\t2.0\n",
      "  (4, 4)\t2.0\n",
      "  (5, 5)\t2.0\n",
      "  (6, 6)\t2.0\n",
      "  (7, 7)\t2.0\n",
      "  (8, 8)\t2.0\n",
      "  (9, 9)\t2.0\n",
      "  (0, 1)\t-1.0\n",
      "  (1, 2)\t-1.0\n",
      "  (2, 3)\t-1.0\n",
      "  (3, 4)\t-1.0\n",
      "  (4, 5)\t-1.0\n",
      "  (5, 6)\t-1.0\n",
      "  (6, 7)\t-1.0\n",
      "  (7, 8)\t-1.0\n",
      "  (8, 9)\t-1.0\n"
     ]
    }
   ],
   "source": [
    "print(I)# matrice identité\n",
    "print(A)"
   ]
  },
  {
   "cell_type": "code",
   "execution_count": 55,
   "metadata": {},
   "outputs": [
    {
     "data": {
      "text/plain": [
       "<matplotlib.lines.Line2D at 0x7f63453791d0>"
      ]
     },
     "execution_count": 55,
     "metadata": {},
     "output_type": "execute_result"
    },
    {
     "data": {
      "image/png": "[encoded data removed]",
      "text/plain": [
       "<Figure size 432x288 with 1 Axes>"
      ]
     },
     "metadata": {
      "needs_background": "light"
     },
     "output_type": "display_data"
    }
   ],
   "source": [
    "kron(A, I)#le produit de Kronecker\n",
    "spy(A)\n",
    "spy(kron(A, I))\n",
    "K = kron(I, A) + kron(A, I)\n",
    "spy(K)"
   ]
  },
  {
   "cell_type": "code",
   "execution_count": 56,
   "metadata": {
    "scrolled": true
   },
   "outputs": [
    {
     "name": "stdout",
     "output_type": "stream",
     "text": [
      "  (0, 0)\t4.0\n",
      "  (0, 1)\t-1.0\n",
      "  (0, 10)\t-1.0\n",
      "  (1, 0)\t-1.0\n",
      "  (1, 1)\t4.0\n",
      "  (1, 2)\t-1.0\n",
      "  (1, 11)\t-1.0\n",
      "  (2, 1)\t-1.0\n",
      "  (2, 2)\t4.0\n",
      "  (2, 3)\t-1.0\n",
      "  (2, 12)\t-1.0\n",
      "  (3, 2)\t-1.0\n",
      "  (3, 3)\t4.0\n",
      "  (3, 4)\t-1.0\n",
      "  (3, 13)\t-1.0\n",
      "  (4, 3)\t-1.0\n",
      "  (4, 4)\t4.0\n",
      "  (4, 5)\t-1.0\n",
      "  (4, 14)\t-1.0\n",
      "  (5, 4)\t-1.0\n",
      "  (5, 5)\t4.0\n",
      "  (5, 6)\t-1.0\n",
      "  (5, 15)\t-1.0\n",
      "  (6, 5)\t-1.0\n",
      "  (6, 6)\t4.0\n",
      "  :\t:\n",
      "  (93, 93)\t4.0\n",
      "  (93, 94)\t-1.0\n",
      "  (94, 84)\t-1.0\n",
      "  (94, 93)\t-1.0\n",
      "  (94, 94)\t4.0\n",
      "  (94, 95)\t-1.0\n",
      "  (95, 85)\t-1.0\n",
      "  (95, 94)\t-1.0\n",
      "  (95, 95)\t4.0\n",
      "  (95, 96)\t-1.0\n",
      "  (96, 86)\t-1.0\n",
      "  (96, 95)\t-1.0\n",
      "  (96, 96)\t4.0\n",
      "  (96, 97)\t-1.0\n",
      "  (97, 87)\t-1.0\n",
      "  (97, 96)\t-1.0\n",
      "  (97, 97)\t4.0\n",
      "  (97, 98)\t-1.0\n",
      "  (98, 88)\t-1.0\n",
      "  (98, 97)\t-1.0\n",
      "  (98, 98)\t4.0\n",
      "  (98, 99)\t-1.0\n",
      "  (99, 89)\t-1.0\n",
      "  (99, 98)\t-1.0\n",
      "  (99, 99)\t4.0\n"
     ]
    }
   ],
   "source": [
    "print(K)"
   ]
  },
  {
   "cell_type": "markdown",
   "metadata": {},
   "source": [
    "Nous avons fini avec l'initialisation de la matrice du système $K$. Maintenant, nous allons initialiser le vecteur $f ∈ ℝ^n$ tel que pour tout n il faut utiliser les vecteurs $e1$ et $en$ de la base canonique de $ℝ^n$ où:\n",
    "$f = (e1 ⊗ h) + (g ⊗ e1) + (en ⊗ b) + (d ⊗ en)$ <br/>\n",
    "$e1 = $$\\begin{pmatrix}1 \\\\\\ 0 \\\\\\ . \\\\\\ .\\\\\\ .\\\\\\\\ 0\\end{pmatrix}$ &nbsp;&nbsp;&nbsp;&nbsp;&nbsp;&nbsp; , &nbsp;&nbsp;&nbsp;&nbsp;&nbsp;&nbsp; $ en = $$\\begin{pmatrix}0 \\\\\\ 0 \\\\\\ . \\\\\\ .\\\\\\ .\\\\\\\\ 1\\end{pmatrix}$ &nbsp;&nbsp;&nbsp;&nbsp;&nbsp;&nbsp; , &nbsp;&nbsp;&nbsp;&nbsp;&nbsp;&nbsp; $ h = $$\\begin{pmatrix}1 \\\\\\ 1 \\\\\\ . \\\\\\ .\\\\\\ .\\\\\\\\ 1\\end{pmatrix}$  &nbsp;&nbsp;&nbsp;&nbsp;&nbsp;&nbsp; , &nbsp;&nbsp;&nbsp;&nbsp;&nbsp;&nbsp; $ g = $$\\begin{pmatrix}0 \\\\\\ 0 \\\\\\ . \\\\\\ .\\\\\\ .\\\\\\\\ 0\\end{pmatrix}$  &nbsp;&nbsp;&nbsp;&nbsp;&nbsp;&nbsp; , &nbsp;&nbsp;&nbsp;&nbsp;&nbsp;&nbsp; $ b = $$\\begin{pmatrix}0 \\\\\\ 0 \\\\\\ . \\\\\\ .\\\\\\ .\\\\\\\\ 0\\end{pmatrix}$  &nbsp;&nbsp;&nbsp;&nbsp;&nbsp;&nbsp; , &nbsp;&nbsp;&nbsp;&nbsp;&nbsp;&nbsp; $ d = $$\\begin{pmatrix}1 \\\\\\ 1 \\\\\\ . \\\\\\ .\\\\\\ .\\\\\\\\ 1\\end{pmatrix}$ <br/>"
   ]
  },
  {
   "cell_type": "code",
   "execution_count": 57,
   "metadata": {},
   "outputs": [],
   "source": [
    "e1 = 0 * ones(n)\n",
    "e1[0] = 1\n",
    "en = 0 * ones(n) \n",
    "en[n - 1] = 1"
   ]
  },
  {
   "cell_type": "code",
   "execution_count": 58,
   "metadata": {},
   "outputs": [
    {
     "name": "stdout",
     "output_type": "stream",
     "text": [
      "e1 =  [1. 0. 0. 0. 0. 0. 0. 0. 0. 0.]\n",
      "en =  [0. 0. 0. 0. 0. 0. 0. 0. 0. 1.]\n"
     ]
    }
   ],
   "source": [
    "print(\"e1 = \", e1)\n",
    "print(\"en = \", en)"
   ]
  },
  {
   "cell_type": "code",
   "execution_count": 59,
   "metadata": {},
   "outputs": [],
   "source": [
    "h = 1 * ones(n)\n",
    "g = 0 * ones(n)\n",
    "b = 0 * ones(n)\n",
    "d = 1 * ones(n)"
   ]
  },
  {
   "cell_type": "code",
   "execution_count": 60,
   "metadata": {},
   "outputs": [
    {
     "name": "stdout",
     "output_type": "stream",
     "text": [
      "h =  [1. 1. 1. 1. 1. 1. 1. 1. 1. 1.]\n",
      "g =  [0. 0. 0. 0. 0. 0. 0. 0. 0. 0.]\n",
      "b =  [0. 0. 0. 0. 0. 0. 0. 0. 0. 0.]\n",
      "d =  [1. 1. 1. 1. 1. 1. 1. 1. 1. 1.]\n"
     ]
    }
   ],
   "source": [
    "print(\"h = \", h)\n",
    "print(\"g = \", g)\n",
    "print(\"b = \", b)\n",
    "print(\"d = \", d)"
   ]
  },
  {
   "cell_type": "code",
   "execution_count": 61,
   "metadata": {},
   "outputs": [],
   "source": [
    "f = kron(e1, h) + kron(g, e1) + kron(en, b) + kron(d, en)\n",
    "f = transpose(f)"
   ]
  },
  {
   "cell_type": "code",
   "execution_count": 62,
   "metadata": {},
   "outputs": [
    {
     "name": "stdout",
     "output_type": "stream",
     "text": [
      "  (0, 0)\t1.0\n",
      "  (1, 0)\t1.0\n",
      "  (2, 0)\t1.0\n",
      "  (3, 0)\t1.0\n",
      "  (4, 0)\t1.0\n",
      "  (5, 0)\t1.0\n",
      "  (6, 0)\t1.0\n",
      "  (7, 0)\t1.0\n",
      "  (8, 0)\t1.0\n",
      "  (9, 0)\t2.0\n",
      "  (10, 0)\t0.0\n",
      "  (11, 0)\t0.0\n",
      "  (12, 0)\t0.0\n",
      "  (13, 0)\t0.0\n",
      "  (14, 0)\t0.0\n",
      "  (15, 0)\t0.0\n",
      "  (16, 0)\t0.0\n",
      "  (17, 0)\t0.0\n",
      "  (18, 0)\t0.0\n",
      "  (19, 0)\t1.0\n",
      "  (20, 0)\t0.0\n",
      "  (21, 0)\t0.0\n",
      "  (22, 0)\t0.0\n",
      "  (23, 0)\t0.0\n",
      "  (24, 0)\t0.0\n",
      "  :\t:\n",
      "  (75, 0)\t0.0\n",
      "  (76, 0)\t0.0\n",
      "  (77, 0)\t0.0\n",
      "  (78, 0)\t0.0\n",
      "  (79, 0)\t1.0\n",
      "  (80, 0)\t0.0\n",
      "  (81, 0)\t0.0\n",
      "  (82, 0)\t0.0\n",
      "  (83, 0)\t0.0\n",
      "  (84, 0)\t0.0\n",
      "  (85, 0)\t0.0\n",
      "  (86, 0)\t0.0\n",
      "  (87, 0)\t0.0\n",
      "  (88, 0)\t0.0\n",
      "  (89, 0)\t1.0\n",
      "  (90, 0)\t0.0\n",
      "  (91, 0)\t0.0\n",
      "  (92, 0)\t0.0\n",
      "  (93, 0)\t0.0\n",
      "  (94, 0)\t0.0\n",
      "  (95, 0)\t0.0\n",
      "  (96, 0)\t0.0\n",
      "  (97, 0)\t0.0\n",
      "  (98, 0)\t0.0\n",
      "  (99, 0)\t1.0\n"
     ]
    }
   ],
   "source": [
    "print(f)"
   ]
  },
  {
   "cell_type": "markdown",
   "metadata": {},
   "source": [
    "### (b) Résolution des problèmes de moindres carrés :"
   ]
  },
  {
   "cell_type": "markdown",
   "metadata": {},
   "source": [
    "Dans un premier temps, on va utiliser le système linéaire : $K . u = f$ pour chercher une solution approchée du système dans un sous-espace vectoriel $E ∈ ℝ^n$ de dimension $k << n$, on note la matrice $V ∈ ℝ^{n * K}$ ayant pour colonnes les k vecteurs d'une base du sous espace E. Tout vecteur  $v ∈ E $ s'écrit donc $v = V * α$ avec $α ∈ R^k$.\n",
    "La solution $v ∈ E$ est donc obtenue en résolvant le problème des moindres carrés.<br />\n",
    "&nbsp;&nbsp;&nbsp;&nbsp;&nbsp;&nbsp;&nbsp;&nbsp;&nbsp;&nbsp;&nbsp;&nbsp;$min ||K . V . α - f||^2$&nbsp;&nbsp;&nbsp;&nbsp;&nbsp;&nbsp;&nbsp;&nbsp;&nbsp;&nbsp;&nbsp;&nbsp;(1)<br />\n",
    "&nbsp;&nbsp;&nbsp;&nbsp;&nbsp;&nbsp;&nbsp;&nbsp;&nbsp;&nbsp;&nbsp;&nbsp;$α ∈ R^k$"
   ]
  },
  {
   "cell_type": "code",
   "execution_count": 63,
   "metadata": {},
   "outputs": [],
   "source": [
    "v0 = ones((n * n, 1))"
   ]
  },
  {
   "cell_type": "code",
   "execution_count": 64,
   "metadata": {},
   "outputs": [
    {
     "name": "stdout",
     "output_type": "stream",
     "text": [
      "[[1.]\n",
      " [1.]\n",
      " [1.]\n",
      " [1.]\n",
      " [1.]\n",
      " [1.]\n",
      " [1.]\n",
      " [1.]\n",
      " [1.]\n",
      " [1.]\n",
      " [1.]\n",
      " [1.]\n",
      " [1.]\n",
      " [1.]\n",
      " [1.]\n",
      " [1.]\n",
      " [1.]\n",
      " [1.]\n",
      " [1.]\n",
      " [1.]\n",
      " [1.]\n",
      " [1.]\n",
      " [1.]\n",
      " [1.]\n",
      " [1.]\n",
      " [1.]\n",
      " [1.]\n",
      " [1.]\n",
      " [1.]\n",
      " [1.]\n",
      " [1.]\n",
      " [1.]\n",
      " [1.]\n",
      " [1.]\n",
      " [1.]\n",
      " [1.]\n",
      " [1.]\n",
      " [1.]\n",
      " [1.]\n",
      " [1.]\n",
      " [1.]\n",
      " [1.]\n",
      " [1.]\n",
      " [1.]\n",
      " [1.]\n",
      " [1.]\n",
      " [1.]\n",
      " [1.]\n",
      " [1.]\n",
      " [1.]\n",
      " [1.]\n",
      " [1.]\n",
      " [1.]\n",
      " [1.]\n",
      " [1.]\n",
      " [1.]\n",
      " [1.]\n",
      " [1.]\n",
      " [1.]\n",
      " [1.]\n",
      " [1.]\n",
      " [1.]\n",
      " [1.]\n",
      " [1.]\n",
      " [1.]\n",
      " [1.]\n",
      " [1.]\n",
      " [1.]\n",
      " [1.]\n",
      " [1.]\n",
      " [1.]\n",
      " [1.]\n",
      " [1.]\n",
      " [1.]\n",
      " [1.]\n",
      " [1.]\n",
      " [1.]\n",
      " [1.]\n",
      " [1.]\n",
      " [1.]\n",
      " [1.]\n",
      " [1.]\n",
      " [1.]\n",
      " [1.]\n",
      " [1.]\n",
      " [1.]\n",
      " [1.]\n",
      " [1.]\n",
      " [1.]\n",
      " [1.]\n",
      " [1.]\n",
      " [1.]\n",
      " [1.]\n",
      " [1.]\n",
      " [1.]\n",
      " [1.]\n",
      " [1.]\n",
      " [1.]\n",
      " [1.]\n",
      " [1.]]\n"
     ]
    }
   ],
   "source": [
    "print(v0)#une première aproximation de u"
   ]
  },
  {
   "cell_type": "markdown",
   "metadata": {},
   "source": [
    "On peut chercher une approximation $v$ dans le sous espace affine $v₀ + E$, sachant que pour tout vecteur $v ∈ v₀ + E$ s'écrit $v = v₀ + V . α$, cela conduit à considérer le problème de moindres carrés.<br />\n",
    "&nbsp;&nbsp;&nbsp;&nbsp;&nbsp;&nbsp;&nbsp;&nbsp;&nbsp;&nbsp;&nbsp;&nbsp;$min ||K . V . α - r₀||^2$&nbsp;&nbsp;&nbsp;&nbsp;&nbsp;&nbsp;&nbsp;&nbsp;&nbsp;&nbsp;&nbsp;&nbsp;(2)<br />\n",
    "&nbsp;&nbsp;&nbsp;&nbsp;&nbsp;&nbsp;&nbsp;&nbsp;&nbsp;&nbsp;&nbsp;&nbsp;$α ∈ R^k$<br />\n",
    "Avec $ r₀ = f - k * v₀ $ est le résidu obtenu pour l'approximation $v₀$.<br />\n",
    "Soit $αₖ$ la solution du problème (2) alors : $ rₖ = r₀ - K . V . αₖ $ le résidu obtenu à partir de $αk$"
   ]
  },
  {
   "cell_type": "code",
   "execution_count": 65,
   "metadata": {},
   "outputs": [],
   "source": [
    "r0 = f - K * v0#le résidu obtenu par l'approximation v₀"
   ]
  },
  {
   "cell_type": "code",
   "execution_count": 66,
   "metadata": {},
   "outputs": [
    {
     "name": "stdout",
     "output_type": "stream",
     "text": [
      "[[-1.]\n",
      " [ 0.]\n",
      " [ 0.]\n",
      " [ 0.]\n",
      " [ 0.]\n",
      " [ 0.]\n",
      " [ 0.]\n",
      " [ 0.]\n",
      " [ 0.]\n",
      " [ 0.]\n",
      " [-1.]\n",
      " [ 0.]\n",
      " [ 0.]\n",
      " [ 0.]\n",
      " [ 0.]\n",
      " [ 0.]\n",
      " [ 0.]\n",
      " [ 0.]\n",
      " [ 0.]\n",
      " [ 0.]\n",
      " [-1.]\n",
      " [ 0.]\n",
      " [ 0.]\n",
      " [ 0.]\n",
      " [ 0.]\n",
      " [ 0.]\n",
      " [ 0.]\n",
      " [ 0.]\n",
      " [ 0.]\n",
      " [ 0.]\n",
      " [-1.]\n",
      " [ 0.]\n",
      " [ 0.]\n",
      " [ 0.]\n",
      " [ 0.]\n",
      " [ 0.]\n",
      " [ 0.]\n",
      " [ 0.]\n",
      " [ 0.]\n",
      " [ 0.]\n",
      " [-1.]\n",
      " [ 0.]\n",
      " [ 0.]\n",
      " [ 0.]\n",
      " [ 0.]\n",
      " [ 0.]\n",
      " [ 0.]\n",
      " [ 0.]\n",
      " [ 0.]\n",
      " [ 0.]\n",
      " [-1.]\n",
      " [ 0.]\n",
      " [ 0.]\n",
      " [ 0.]\n",
      " [ 0.]\n",
      " [ 0.]\n",
      " [ 0.]\n",
      " [ 0.]\n",
      " [ 0.]\n",
      " [ 0.]\n",
      " [-1.]\n",
      " [ 0.]\n",
      " [ 0.]\n",
      " [ 0.]\n",
      " [ 0.]\n",
      " [ 0.]\n",
      " [ 0.]\n",
      " [ 0.]\n",
      " [ 0.]\n",
      " [ 0.]\n",
      " [-1.]\n",
      " [ 0.]\n",
      " [ 0.]\n",
      " [ 0.]\n",
      " [ 0.]\n",
      " [ 0.]\n",
      " [ 0.]\n",
      " [ 0.]\n",
      " [ 0.]\n",
      " [ 0.]\n",
      " [-1.]\n",
      " [ 0.]\n",
      " [ 0.]\n",
      " [ 0.]\n",
      " [ 0.]\n",
      " [ 0.]\n",
      " [ 0.]\n",
      " [ 0.]\n",
      " [ 0.]\n",
      " [ 0.]\n",
      " [-2.]\n",
      " [-1.]\n",
      " [-1.]\n",
      " [-1.]\n",
      " [-1.]\n",
      " [-1.]\n",
      " [-1.]\n",
      " [-1.]\n",
      " [-1.]\n",
      " [-1.]]\n"
     ]
    }
   ],
   "source": [
    "print(r0)"
   ]
  },
  {
   "cell_type": "markdown",
   "metadata": {},
   "source": [
    "On va implémenter le procédé d'orthonormalisation de Gram-Schmidt en utilisant les bibliothèques systèmes de numpy, où $Q$ est un matrice orthogonale c'est à dire $A^t . A = A . A^t = In$ et $R$ est une matrice triangulaire supérieure."
   ]
  },
  {
   "cell_type": "code",
   "execution_count": 67,
   "metadata": {},
   "outputs": [],
   "source": [
    "def gram_schmidt(M):\n",
    "    Q, R = np.linalg.qr(M)\n",
    "    return Q, R"
   ]
  },
  {
   "cell_type": "code",
   "execution_count": 68,
   "metadata": {},
   "outputs": [],
   "source": [
    "def moindres_carrés(K, f, v0, k):\n",
    "    residus = [norm(r0)]\n",
    "    V = r0\n",
    "    M = K * V\n",
    "    Q, R = gram_schmidt(M)\n",
    "    q = (1 / norm(Q)) * Q\n",
    "    rk = r0\n",
    "    \n",
    "    if (k <= 1):\n",
    "        α = solve_triangular(R, Q.transpose() * r0, lower = False)\n",
    "        v = v0 + V * α\n",
    "        return residus, v, V, Q, R\n",
    "    \n",
    "    for i in range(2, k + 1):\n",
    "        temp = q.transpose() * r0\n",
    "        rk = rk - q * temp\n",
    "        a = K * rk\n",
    "        b = Q.transpose() * a\n",
    "        s = norm(a - Q * b)\n",
    "        q = (1 / s) * (a - Q * b)\n",
    "        \n",
    "        V = bmat([[V, rk], [None, None]])\n",
    "        R = bmat([[R, b], [None, s]])\n",
    "        Q = bmat([[Q, q], [None, None]])\n",
    "        \n",
    "        residus.append(norm(rk))\n",
    "    \n",
    "    α = solve_triangular(R.todense(), Q.transpose() * r0, lower = False)\n",
    "    v = v0 + V * α\n",
    "    return residus, v, V.todense(), Q.todense(), R.todense()"
   ]
  },
  {
   "cell_type": "markdown",
   "metadata": {},
   "source": [
    "### (c) Implémentation de la méthode restarting :"
   ]
  },
  {
   "cell_type": "markdown",
   "metadata": {},
   "source": [
    "Le principe de la méthode de ___restarting___ et de reboucler sur l’algorithme en repartant de la valeur du résidu courant rₖ obtenu au terme de k itérations. Cela signifie, dans la description précédente de l’algorithme, qu’on démarre une seconde fois l’algorithme en prenant $r₀ = rₖ$, et on itère ensuite suivant la procédure normale."
   ]
  },
  {
   "cell_type": "code",
   "execution_count": 69,
   "metadata": {},
   "outputs": [
    {
     "ename": "SyntaxError",
     "evalue": "invalid character in identifier (<ipython-input-69-c959fa61bdb7>, line 3)",
     "output_type": "error",
     "traceback": [
      "\u001b[0;36m  File \u001b[0;32m\"<ipython-input-69-c959fa61bdb7>\"\u001b[0;36m, line \u001b[0;32m3\u001b[0m\n\u001b[0;31m    rk = [₀\u001b[0m\n\u001b[0m          ^\u001b[0m\n\u001b[0;31mSyntaxError\u001b[0m\u001b[0;31m:\u001b[0m invalid character in identifier\n"
     ]
    }
   ],
   "source": [
    "def restarting(n_ext, k, K, f, v0):\n",
    "    vk = v0\n",
    "    rk = [₀\n",
    "    solution = v0\n",
    "    \n",
    "    for i in range(n_ext):\n",
    "        residus, vk, V, Q, R = moindres_carrés(K, f, vk, k)\n",
    "        solution = reshape(vk, (n, n))\n",
    "        rk.extend(residus)\n",
    "    \n",
    "    return rk, solution, V, Q, R"
   ]
  },
  {
   "cell_type": "code",
   "execution_count": 70,
   "metadata": {},
   "outputs": [
    {
     "name": "stdout",
     "output_type": "stream",
     "text": [
      "([4.69041575982343, 2.1320071635561035, 1.3822359047220074, 0.9903816849914501, 0.7465546529613832, 0.5893641035986841, 0.47297956522109846, 0.3819123190084783, 0.3013152471547157, 0.23569616230392046, 0.1863761655548828, 0.14514367989296456, 0.11219662072910666, 0.08158729236796171, 0.044884325146994065, 0.01600530502852251, 0.005650926325208586, 0.0033457814438293725, 0.0013211948817349176, 0.0005552198842418266, 4.69041575982343, 2.1320071635561035, 1.3822359047220074, 0.9903816849914501, 0.7465546529613832, 0.5893641035986841, 0.47297956522109846, 0.3819123190084783, 0.3013152471547157, 0.23569616230392046, 0.1863761655548828, 0.14514367989296456, 0.11219662072910666, 0.08158729236796171, 0.044884325146994065, 0.01600530502852251, 0.005650926325208586, 0.0033457814438293725, 0.0013211948817349176, 0.0005552198842418266, 4.69041575982343, 2.1320071635561035, 1.3822359047220074, 0.9903816849914501, 0.7465546529613832, 0.5893641035986841, 0.47297956522109846, 0.3819123190084783, 0.3013152471547157, 0.23569616230392046, 0.1863761655548828, 0.14514367989296456, 0.11219662072910666, 0.08158729236796171, 0.044884325146994065, 0.01600530502852251, 0.005650926325208586, 0.0033457814438293725, 0.0013211948817349176, 0.0005552198842418266, 4.69041575982343, 2.1320071635561035, 1.3822359047220074, 0.9903816849914501, 0.7465546529613832, 0.5893641035986841, 0.47297956522109846, 0.3819123190084783, 0.3013152471547157, 0.23569616230392046, 0.1863761655548828, 0.14514367989296456, 0.11219662072910666, 0.08158729236796171, 0.044884325146994065, 0.01600530502852251, 0.005650926325208586, 0.0033457814438293725, 0.0013211948817349176, 0.0005552198842418266, 4.69041575982343, 2.1320071635561035, 1.3822359047220074, 0.9903816849914501, 0.7465546529613832, 0.5893641035986841, 0.47297956522109846, 0.3819123190084783, 0.3013152471547157, 0.23569616230392046, 0.1863761655548828, 0.14514367989296456, 0.11219662072910666, 0.08158729236796171, 0.044884325146994065, 0.01600530502852251, 0.005650926325208586, 0.0033457814438293725, 0.0013211948817349176, 0.0005552198842418266, 4.69041575982343, 2.1320071635561035, 1.3822359047220074, 0.9903816849914501, 0.7465546529613832, 0.5893641035986841, 0.47297956522109846, 0.3819123190084783, 0.3013152471547157, 0.23569616230392046, 0.1863761655548828, 0.14514367989296456, 0.11219662072910666, 0.08158729236796171, 0.044884325146994065, 0.01600530502852251, 0.005650926325208586, 0.0033457814438293725, 0.0013211948817349176, 0.0005552198842418266, 4.69041575982343, 2.1320071635561035, 1.3822359047220074, 0.9903816849914501, 0.7465546529613832, 0.5893641035986841, 0.47297956522109846, 0.3819123190084783, 0.3013152471547157, 0.23569616230392046, 0.1863761655548828, 0.14514367989296456, 0.11219662072910666, 0.08158729236796171, 0.044884325146994065, 0.01600530502852251, 0.005650926325208586, 0.0033457814438293725, 0.0013211948817349176, 0.0005552198842418266, 4.69041575982343, 2.1320071635561035, 1.3822359047220074, 0.9903816849914501, 0.7465546529613832, 0.5893641035986841, 0.47297956522109846, 0.3819123190084783, 0.3013152471547157, 0.23569616230392046, 0.1863761655548828, 0.14514367989296456, 0.11219662072910666, 0.08158729236796171, 0.044884325146994065, 0.01600530502852251, 0.005650926325208586, 0.0033457814438293725, 0.0013211948817349176, 0.0005552198842418266, 4.69041575982343, 2.1320071635561035, 1.3822359047220074, 0.9903816849914501, 0.7465546529613832, 0.5893641035986841, 0.47297956522109846, 0.3819123190084783, 0.3013152471547157, 0.23569616230392046, 0.1863761655548828, 0.14514367989296456, 0.11219662072910666, 0.08158729236796171, 0.044884325146994065, 0.01600530502852251, 0.005650926325208586, 0.0033457814438293725, 0.0013211948817349176, 0.0005552198842418266, 4.69041575982343, 2.1320071635561035, 1.3822359047220074, 0.9903816849914501, 0.7465546529613832, 0.5893641035986841, 0.47297956522109846, 0.3819123190084783, 0.3013152471547157, 0.23569616230392046, 0.1863761655548828, 0.14514367989296456, 0.11219662072910666, 0.08158729236796171, 0.044884325146994065, 0.01600530502852251, 0.005650926325208586, 0.0033457814438293725, 0.0013211948817349176, 0.0005552198842418266], array([[-4.00012058, -2.02063549, -1.08195407, -0.55464986, -0.21071593,\n",
      "         0.04514542,  0.25778662,  0.45006303,  0.63454092,  0.81726873],\n",
      "       [-5.97972429, -4.0002033 , -2.75218576, -1.92617437, -1.3333122 ,\n",
      "        -0.86661483, -0.46468082, -0.09206512,  0.27122488,  0.63454092],\n",
      "       [-6.91820836, -5.24804067, -3.9999954 , -3.0639717 , -2.32964788,\n",
      "        -1.71358998, -1.15793501, -0.62483888, -0.09206512,  0.45006303],\n",
      "       [-7.44510606, -6.0737035 , -4.93589655, -4.00005154, -3.2075991 ,\n",
      "        -2.50020237, -1.82914192, -1.15793501, -0.46468082,  0.25778662],\n",
      "       [-7.78895423, -6.66633771, -5.67009983, -4.7925498 , -4.00019455,\n",
      "        -3.25025963, -2.50020237, -1.71358998, -0.86661483,  0.04514542],\n",
      "       [-8.04481557, -7.13303508, -6.28615773, -5.49994652, -4.75012948,\n",
      "        -4.00019455, -3.2075991 , -2.32964788, -1.3333122 , -0.21071593],\n",
      "       [-8.25754254, -7.53519705, -6.84193325, -6.17096116, -5.49994652,\n",
      "        -4.7925498 , -4.00005154, -3.0639717 , -1.92617437, -0.55464986],\n",
      "       [-8.45022547, -7.90816131, -7.37515193, -6.84193325, -6.28615773,\n",
      "        -5.67009983, -4.93589655, -3.9999954 , -2.75218576, -1.08195407],\n",
      "       [-8.63490069, -8.27163147, -7.90816131, -7.53519705, -7.13303508,\n",
      "        -6.66633771, -6.0737035 , -5.24804067, -4.0002033 , -2.02063549],\n",
      "       [-8.81750989, -8.63490069, -8.45022547, -8.25754254, -8.04481557,\n",
      "        -7.78895423, -7.44510606, -6.91820836, -5.97972429, -4.00012058]]), matrix([[-1.00000000e+00,  9.09090909e-02, -1.20378332e-01, ...,\n",
      "         -3.94817949e-04,  1.73395750e-06,  9.18190198e-05],\n",
      "        [ 0.00000000e+00, -3.63636364e-01,  2.57953568e-02, ...,\n",
      "         -1.57309657e-04,  1.24867174e-04,  6.60612611e-05],\n",
      "        [ 0.00000000e+00,  0.00000000e+00, -1.36715391e-01, ...,\n",
      "          1.53371975e-04,  9.77454611e-05,  3.59374114e-05],\n",
      "        ...,\n",
      "        [-1.00000000e+00, -2.72727273e-01, -9.45829751e-02, ...,\n",
      "         -1.55125469e-04, -1.65162916e-04, -8.48447345e-07],\n",
      "        [-1.00000000e+00, -2.72727273e-01,  4.21324162e-02, ...,\n",
      "         -2.29387082e-04,  8.63106555e-06, -9.37927481e-06],\n",
      "        [-1.00000000e+00,  9.09090909e-02, -1.20378332e-01, ...,\n",
      "         -3.94817949e-04,  1.73395750e-06,  9.18190198e-05]]), matrix([[-0.26111648,  0.13016474, -0.11319069, ..., -0.12900724,\n",
      "         -0.07514171,  0.17132927],\n",
      "        [ 0.08703883, -0.23991148,  0.0682731 , ..., -0.09179846,\n",
      "          0.04905116,  0.08540261],\n",
      "        [ 0.        ,  0.08422424, -0.10112571, ...,  0.01809655,\n",
      "          0.0515553 ,  0.00305952],\n",
      "        ...,\n",
      "        [-0.17407766, -0.10974674, -0.09232154, ...,  0.00326541,\n",
      "         -0.1370579 ,  0.00626213],\n",
      "        [-0.17407766, -0.19397098,  0.10361208, ..., -0.07743265,\n",
      "          0.01502278, -0.09877706],\n",
      "        [-0.26111648,  0.13016474, -0.11319069, ..., -0.12900724,\n",
      "         -0.07514171,  0.17132927]]), matrix([[ 1.14891253e+01, -1.67747559e+00, -8.88178420e-16,\n",
      "         -8.32667268e-16, -7.42461648e-16, -6.82613688e-16,\n",
      "         -6.38378239e-16, -6.12357387e-16, -5.96311195e-16,\n",
      "         -5.77229237e-16, -5.69422981e-16, -5.63351449e-16,\n",
      "         -5.55111512e-16, -5.52943108e-16, -5.51750486e-16,\n",
      "         -5.50069972e-16, -5.49853132e-16, -5.49907342e-16,\n",
      "         -5.50008986e-16, -5.49934447e-16],\n",
      "        [ 0.00000000e+00,  4.31747856e+00, -1.71316311e+00,\n",
      "         -2.01227923e-15, -2.04003481e-15, -2.09858173e-15,\n",
      "         -2.14411822e-15, -2.18466738e-15, -2.21979553e-15,\n",
      "         -2.23432384e-15, -2.24760531e-15, -2.26121205e-15,\n",
      "         -2.26717516e-15, -2.27205407e-15, -2.27736666e-15,\n",
      "         -2.27796297e-15, -2.27736666e-15, -2.27714982e-15,\n",
      "         -2.27695670e-15, -2.27696686e-15],\n",
      "        [ 0.00000000e+00,  0.00000000e+00,  2.88405056e+00,\n",
      "         -1.12334325e+00,  9.14199272e-16,  6.84348411e-16,\n",
      "          5.91974386e-16,  5.58364119e-16,  5.24320171e-16,\n",
      "          5.15321293e-16,  5.14453931e-16,  5.20254412e-16,\n",
      "          5.13207098e-16,  5.07840298e-16,  5.01335085e-16,\n",
      "          4.99830754e-16,  4.97703007e-16,  4.97079591e-16,\n",
      "          4.97143966e-16,  4.96957618e-16],\n",
      "        [ 0.00000000e+00,  0.00000000e+00,  0.00000000e+00,\n",
      "          1.66439245e+00, -8.71670310e-01, -6.15176313e-16,\n",
      "         -4.75314232e-16, -3.73616069e-16, -3.07479736e-16,\n",
      "         -2.70400022e-16, -2.68448458e-16, -2.75306037e-16,\n",
      "         -2.76579974e-16, -2.73110527e-16, -2.62471793e-16,\n",
      "         -2.58921031e-16, -2.58351825e-16, -2.58419588e-16,\n",
      "         -2.58331496e-16, -2.58292533e-16],\n",
      "        [ 0.00000000e+00,  0.00000000e+00,  0.00000000e+00,\n",
      "          0.00000000e+00,  1.23788953e+00, -6.51372988e-01,\n",
      "         -9.29161262e-16, -1.23891782e-15, -1.44242257e-15,\n",
      "         -1.57865257e-15, -1.62448722e-15, -1.65357094e-15,\n",
      "         -1.67018634e-15, -1.67303237e-15, -1.68535162e-15,\n",
      "         -1.69421497e-15, -1.69546180e-15, -1.69529917e-15,\n",
      "         -1.69508826e-15, -1.69511622e-15],\n",
      "        [ 0.00000000e+00,  0.00000000e+00,  0.00000000e+00,\n",
      "          0.00000000e+00,  0.00000000e+00,  8.48892747e-01,\n",
      "         -5.29140523e-01,  1.16600523e-15,  1.44093179e-15,\n",
      "          1.57736508e-15,  1.66723189e-15,  1.71644112e-15,\n",
      "          1.73267704e-15,  1.74567392e-15,  1.76240790e-15,\n",
      "          1.76568422e-15,  1.76606370e-15,  1.76614162e-15,\n",
      "          1.76613823e-15,  1.76610393e-15],\n",
      "        [ 0.00000000e+00,  0.00000000e+00,  0.00000000e+00,\n",
      "          0.00000000e+00,  0.00000000e+00,  0.00000000e+00,\n",
      "          6.66829008e-01, -4.27690075e-01, -5.01118244e-16,\n",
      "         -5.34836932e-16, -5.45597638e-16, -5.53349684e-16,\n",
      "         -5.46383685e-16, -5.44920012e-16, -5.43903572e-16,\n",
      "         -5.43632522e-16, -5.43659627e-16, -5.43971335e-16,\n",
      "         -5.44137353e-16, -5.43945924e-16],\n",
      "        [ 0.00000000e+00,  0.00000000e+00,  0.00000000e+00,\n",
      "          0.00000000e+00,  0.00000000e+00,  0.00000000e+00,\n",
      "          0.00000000e+00,  5.08538162e-01, -3.42858046e-01,\n",
      "         -1.27420860e-16, -1.58384997e-16, -1.56826456e-16,\n",
      "         -1.93787586e-16, -2.13560723e-16, -2.22647692e-16,\n",
      "         -2.28675179e-16, -2.29425650e-16, -2.29346029e-16,\n",
      "         -2.29117542e-16, -2.29096578e-16],\n",
      "        [ 0.00000000e+00,  0.00000000e+00,  0.00000000e+00,\n",
      "          0.00000000e+00,  0.00000000e+00,  0.00000000e+00,\n",
      "          0.00000000e+00,  0.00000000e+00,  4.28597691e-01,\n",
      "         -2.86011487e-01,  6.90094683e-17,  5.23398599e-17,\n",
      "          5.57144391e-17,  8.19656842e-17,  9.63245868e-17,\n",
      "          1.02369014e-16,  1.02531644e-16,  1.02280922e-16,\n",
      "          1.02595172e-16,  1.02523174e-16],\n",
      "        [ 0.00000000e+00,  0.00000000e+00,  0.00000000e+00,\n",
      "          0.00000000e+00,  0.00000000e+00,  0.00000000e+00,\n",
      "          0.00000000e+00,  0.00000000e+00,  0.00000000e+00,\n",
      "          3.72122009e-01, -2.33045786e-01, -3.44897112e-16,\n",
      "         -3.64658179e-16, -4.02517256e-16, -4.20666903e-16,\n",
      "         -4.30760756e-16, -4.30969550e-16, -4.31050603e-16,\n",
      "         -4.31463961e-16, -4.31643073e-16],\n",
      "        [ 0.00000000e+00,  0.00000000e+00,  0.00000000e+00,\n",
      "          0.00000000e+00,  0.00000000e+00,  0.00000000e+00,\n",
      "          0.00000000e+00,  0.00000000e+00,  0.00000000e+00,\n",
      "          0.00000000e+00,  2.87588616e-01, -1.63507042e-01,\n",
      "          3.00005517e-16,  3.05717908e-16,  2.84999482e-16,\n",
      "          2.79016041e-16,  2.77135628e-16,  2.77457500e-16,\n",
      "          2.77122711e-16,  2.77121228e-16],\n",
      "        [ 0.00000000e+00,  0.00000000e+00,  0.00000000e+00,\n",
      "          0.00000000e+00,  0.00000000e+00,  0.00000000e+00,\n",
      "          0.00000000e+00,  0.00000000e+00,  0.00000000e+00,\n",
      "          0.00000000e+00,  0.00000000e+00,  2.07610233e-01,\n",
      "         -1.46026439e-01,  4.56991216e-17,  1.67985268e-16,\n",
      "          2.10718080e-16,  2.20584320e-16,  2.21214513e-16,\n",
      "          2.22073616e-16,  2.22247469e-16],\n",
      "        [ 0.00000000e+00,  0.00000000e+00,  0.00000000e+00,\n",
      "          0.00000000e+00,  0.00000000e+00,  0.00000000e+00,\n",
      "          0.00000000e+00,  0.00000000e+00,  0.00000000e+00,\n",
      "          0.00000000e+00,  0.00000000e+00,  0.00000000e+00,\n",
      "          1.74585417e-01, -1.30072595e-01, -1.25936859e-16,\n",
      "         -1.89220384e-16, -1.97074074e-16, -1.98117618e-16,\n",
      "         -1.98731717e-16, -1.98607203e-16],\n",
      "        [ 0.00000000e+00,  0.00000000e+00,  0.00000000e+00,\n",
      "          0.00000000e+00,  0.00000000e+00,  0.00000000e+00,\n",
      "          0.00000000e+00,  0.00000000e+00,  0.00000000e+00,\n",
      "          0.00000000e+00,  0.00000000e+00,  0.00000000e+00,\n",
      "          0.00000000e+00,  1.47036258e-01, -8.38536694e-02,\n",
      "         -5.41558985e-17, -3.97089046e-17, -3.83739806e-17,\n",
      "         -3.75887811e-17, -3.74947604e-17],\n",
      "        [ 0.00000000e+00,  0.00000000e+00,  0.00000000e+00,\n",
      "          0.00000000e+00,  0.00000000e+00,  0.00000000e+00,\n",
      "          0.00000000e+00,  0.00000000e+00,  0.00000000e+00,\n",
      "          0.00000000e+00,  0.00000000e+00,  0.00000000e+00,\n",
      "          0.00000000e+00,  0.00000000e+00,  1.36240523e-01,\n",
      "         -2.16986314e-02, -2.57802948e-17, -2.79351466e-17,\n",
      "         -2.94034782e-17, -2.96749523e-17],\n",
      "        [ 0.00000000e+00,  0.00000000e+00,  0.00000000e+00,\n",
      "          0.00000000e+00,  0.00000000e+00,  0.00000000e+00,\n",
      "          0.00000000e+00,  0.00000000e+00,  0.00000000e+00,\n",
      "          0.00000000e+00,  0.00000000e+00,  0.00000000e+00,\n",
      "          0.00000000e+00,  0.00000000e+00,  0.00000000e+00,\n",
      "          6.07633590e-02, -4.95838070e-03, -4.26226979e-17,\n",
      "         -4.30097920e-17, -4.30733194e-17],\n",
      "        [ 0.00000000e+00,  0.00000000e+00,  0.00000000e+00,\n",
      "          0.00000000e+00,  0.00000000e+00,  0.00000000e+00,\n",
      "          0.00000000e+00,  0.00000000e+00,  0.00000000e+00,\n",
      "          0.00000000e+00,  0.00000000e+00,  0.00000000e+00,\n",
      "          0.00000000e+00,  0.00000000e+00,  0.00000000e+00,\n",
      "          0.00000000e+00,  1.63043095e-02, -4.40582409e-03,\n",
      "          3.55306604e-16,  3.56960013e-16],\n",
      "        [ 0.00000000e+00,  0.00000000e+00,  0.00000000e+00,\n",
      "          0.00000000e+00,  0.00000000e+00,  0.00000000e+00,\n",
      "          0.00000000e+00,  0.00000000e+00,  0.00000000e+00,\n",
      "          0.00000000e+00,  0.00000000e+00,  0.00000000e+00,\n",
      "          0.00000000e+00,  0.00000000e+00,  0.00000000e+00,\n",
      "          0.00000000e+00,  0.00000000e+00,  6.52727784e-03,\n",
      "         -1.98827323e-03, -3.13063377e-17],\n",
      "        [ 0.00000000e+00,  0.00000000e+00,  0.00000000e+00,\n",
      "          0.00000000e+00,  0.00000000e+00,  0.00000000e+00,\n",
      "          0.00000000e+00,  0.00000000e+00,  0.00000000e+00,\n",
      "          0.00000000e+00,  0.00000000e+00,  0.00000000e+00,\n",
      "          0.00000000e+00,  0.00000000e+00,  0.00000000e+00,\n",
      "          0.00000000e+00,  0.00000000e+00,  0.00000000e+00,\n",
      "          5.09788838e-03, -6.00261592e-04],\n",
      "        [ 0.00000000e+00,  0.00000000e+00,  0.00000000e+00,\n",
      "          0.00000000e+00,  0.00000000e+00,  0.00000000e+00,\n",
      "          0.00000000e+00,  0.00000000e+00,  0.00000000e+00,\n",
      "          0.00000000e+00,  0.00000000e+00,  0.00000000e+00,\n",
      "          0.00000000e+00,  0.00000000e+00,  0.00000000e+00,\n",
      "          0.00000000e+00,  0.00000000e+00,  0.00000000e+00,\n",
      "          0.00000000e+00,  1.54958585e-03]]))\n"
     ]
    }
   ],
   "source": [
    "print(restarting(10, 20, K, f, v0))"
   ]
  },
  {
   "cell_type": "markdown",
   "metadata": {},
   "source": [
    "### (d) Mettre le résultat obtenu sous forme de graphes pour avoir une vue d'ensemble."
   ]
  },
  {
   "cell_type": "markdown",
   "metadata": {},
   "source": [
    "Tracer les solutions obtenues $vₖ$ avec la fonction graphique contour (ou contourf). Pour cela il est necessaire de transformer le vecteur $vₖ ∈ R^m$ en matrice $n × n = (m = n^2 )$. Le réarrangement se fait ligne par ligne à l’aide de la fonction python reshape. "
   ]
  },
  {
   "cell_type": "code",
   "execution_count": 71,
   "metadata": {},
   "outputs": [
    {
     "data": {
      "text/plain": [
       "<matplotlib.contour.QuadContourSet at 0x7f634529ae48>"
      ]
     },
     "execution_count": 71,
     "metadata": {},
     "output_type": "execute_result"
    },
    {
     "data": {
      "image/png": "[encoded data removed]",
      "text/plain": [
       "<Figure size 432x288 with 1 Axes>"
      ]
     },
     "metadata": {
      "needs_background": "light"
     },
     "output_type": "display_data"
    }
   ],
   "source": [
    "contourf(restarting(10, 20, K, f, v0)[1])"
   ]
  },
  {
   "cell_type": "markdown",
   "metadata": {},
   "source": [
    "De même tracer la courbe de décroissance de la norme des résidus en fonction des itérés."
   ]
  },
  {
   "cell_type": "code",
   "execution_count": 72,
   "metadata": {},
   "outputs": [
    {
     "data": {
      "text/plain": [
       "[<matplotlib.lines.Line2D at 0x7f6345293fd0>]"
      ]
     },
     "execution_count": 72,
     "metadata": {},
     "output_type": "execute_result"
    },
    {
     "data": {
      "image/png": "[encoded data removed]",
      "text/plain": [
       "<Figure size 432x288 with 1 Axes>"
      ]
     },
     "metadata": {
      "needs_background": "light"
     },
     "output_type": "display_data"
    }
   ],
   "source": [
    "semilogy(restarting(10, 20, K, f, v0)[0])"
   ]
  },
  {
   "cell_type": "markdown",
   "metadata": {},
   "source": [
    "### (e) Comparer les solutions obtenues avec les solutions exactes données par la résolution directe du système."
   ]
  },
  {
   "cell_type": "code",
   "execution_count": 73,
   "metadata": {},
   "outputs": [
    {
     "data": {
      "text/plain": [
       "<matplotlib.contour.QuadContourSet at 0x7f6345182550>"
      ]
     },
     "execution_count": 73,
     "metadata": {},
     "output_type": "execute_result"
    },
    {
     "data": {
      "image/png": "[encoded data removed]",
      "text/plain": [
       "<Figure size 432x288 with 1 Axes>"
      ]
     },
     "metadata": {
      "needs_background": "light"
     },
     "output_type": "display_data"
    }
   ],
   "source": [
    "x = spsolve(K, f)\n",
    "x = reshape(x, (n, n))\n",
    "contourf(x)"
   ]
  },
  {
   "cell_type": "markdown",
   "metadata": {},
   "source": [
    "### (f) Conclusion:"
   ]
  },
  {
   "cell_type": "markdown",
   "metadata": {},
   "source": [
    "Après la résolution du système avec la méthode exacte exploitant le pivot de Gauss, nous nous rendons compte que la solution obtenue avec le programme décrit ci-dessus est similaire à celle obtenue par la méthode exacte. "
   ]
  }
 ],
 "metadata": {
  "kernelspec": {
   "display_name": "Python 3",
   "language": "python",
   "name": "python3"
  },
  "language_info": {
   "codemirror_mode": {
    "name": "ipython",
    "version": 3
   },
   "file_extension": ".py",
   "mimetype": "text/x-python",
   "name": "python",
   "nbconvert_exporter": "python",
   "pygments_lexer": "ipython3",
   "version": "3.6.7"
  }
 },
 "nbformat": 4,
 "nbformat_minor": 1
}
