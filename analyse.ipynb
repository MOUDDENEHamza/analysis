{
 "cells": [
  {
   "cell_type": "markdown",
   "metadata": {},
   "source": [
    "# Analyse de données et grands systèmes linéaires"
   ]
  },
  {
   "cell_type": "markdown",
   "metadata": {},
   "source": [
    "### Importation des bibliothèques système permettant l'éxecution du programme"
   ]
  },
  {
   "cell_type": "code",
   "execution_count": 43,
   "metadata": {},
   "outputs": [],
   "source": [
    "%matplotlib inline"
   ]
  },
  {
   "cell_type": "code",
   "execution_count": 44,
   "metadata": {},
   "outputs": [],
   "source": [
    "from matplotlib.pyplot import * \n",
    "from numpy import * \n",
    "from scipy import * \n",
    "from scipy.sparse import * \n",
    "from numpy.linalg import *"
   ]
  },
  {
   "cell_type": "markdown",
   "metadata": {},
   "source": [
    "## I. Introduction au problème :"
   ]
  },
  {
   "cell_type": "markdown",
   "metadata": {},
   "source": [
    "Initialisation de la matrice K, on fixera la dimension $n = 100 $, puis à l'aide de la formule suivante : $K = (In ⊗ D^t . D) + (D^t . D ⊗ In)$, en explicitant le calcul on trouve que:\n",
    "\n",
    "\n",
    "$A = D^t . D =  $$\\begin{pmatrix}2 & -1 & 0 & ... & 0\\\\\\ -1 & 2 & -1 & ... & ... \\\\\\ 0 & ... & ... & ... & 0 \\\\\\ 0 & ... & -1 & 2 & -1\\\\\\ 0 & ... & 0 & 2 & -1\\end{pmatrix}$ "
   ]
  },
  {
   "cell_type": "markdown",
   "metadata": {},
   "source": [
    "## II. Résolution du probléme :"
   ]
  },
  {
   "cell_type": "markdown",
   "metadata": {},
   "source": [
    "### (a) Initialiser la matrice du système $K ∈ ℝ^{n*n} $ et le vecteur $f ∈ ℝ^n $ :\n",
    "Initialisation de la matrice K, on fixera la dimension $n = 100 $, puis à l'aide de la formule suivante : $K = (In ⊗ D^t . D) + (D^t . D ⊗ In)$, en explicitant le calcul on trouve que:\n",
    "\n",
    "\n",
    "$A = D^t . D =  $$\\begin{pmatrix}2 & -1 & 0 & ... & 0\\\\\\ -1 & 2 & -1 & ... & ... \\\\\\ 0 & ... & ... & ... & 0 \\\\\\ 0 & ... & -1 & 2 & -1\\\\\\ 0 & ... & 0 & 2 & -1\\end{pmatrix}$ <br/><br/>\n",
    "Ou la matrice $In$ est la matrice identité, $⊗$ est le produit de Kronecker."
   ]
  },
  {
   "cell_type": "code",
   "execution_count": 45,
   "metadata": {},
   "outputs": [],
   "source": [
    "n = 10\n",
    "I = eye(n)\n",
    "A = diags([-1,2,-1], [-1,0,1], shape = (n, n))"
   ]
  },
  {
   "cell_type": "code",
   "execution_count": 46,
   "metadata": {},
   "outputs": [
    {
     "name": "stdout",
     "output_type": "stream",
     "text": [
      "  (0, 0)\t1.0\n",
      "  (1, 1)\t1.0\n",
      "  (2, 2)\t1.0\n",
      "  (3, 3)\t1.0\n",
      "  (4, 4)\t1.0\n",
      "  (5, 5)\t1.0\n",
      "  (6, 6)\t1.0\n",
      "  (7, 7)\t1.0\n",
      "  (8, 8)\t1.0\n",
      "  (9, 9)\t1.0\n",
      "  (1, 0)\t-1.0\n",
      "  (2, 1)\t-1.0\n",
      "  (3, 2)\t-1.0\n",
      "  (4, 3)\t-1.0\n",
      "  (5, 4)\t-1.0\n",
      "  (6, 5)\t-1.0\n",
      "  (7, 6)\t-1.0\n",
      "  (8, 7)\t-1.0\n",
      "  (9, 8)\t-1.0\n",
      "  (0, 0)\t2.0\n",
      "  (1, 1)\t2.0\n",
      "  (2, 2)\t2.0\n",
      "  (3, 3)\t2.0\n",
      "  (4, 4)\t2.0\n",
      "  (5, 5)\t2.0\n",
      "  (6, 6)\t2.0\n",
      "  (7, 7)\t2.0\n",
      "  (8, 8)\t2.0\n",
      "  (9, 9)\t2.0\n",
      "  (0, 1)\t-1.0\n",
      "  (1, 2)\t-1.0\n",
      "  (2, 3)\t-1.0\n",
      "  (3, 4)\t-1.0\n",
      "  (4, 5)\t-1.0\n",
      "  (5, 6)\t-1.0\n",
      "  (6, 7)\t-1.0\n",
      "  (7, 8)\t-1.0\n",
      "  (8, 9)\t-1.0\n"
     ]
    }
   ],
   "source": [
    "print(I)# matrice identité\n",
    "print(A)"
   ]
  },
  {
   "cell_type": "code",
   "execution_count": 47,
   "metadata": {},
   "outputs": [
    {
     "data": {
      "text/plain": [
       "<matplotlib.lines.Line2D at 0x7fd73ad62f98>"
      ]
     },
     "execution_count": 47,
     "metadata": {},
     "output_type": "execute_result"
    },
    {
     "data": {
      "image/png": "[encoded data removed]",
      "text/plain": [
       "<Figure size 432x288 with 1 Axes>"
      ]
     },
     "metadata": {
      "needs_background": "light"
     },
     "output_type": "display_data"
    }
   ],
   "source": [
    "kron(A, I)#le produit de Kronecker\n",
    "spy(A)\n",
    "spy(kron(A, I))\n",
    "K = kron(I, A) + kron(A, I)\n",
    "spy(K)"
   ]
  },
  {
   "cell_type": "code",
   "execution_count": 48,
   "metadata": {
    "scrolled": true
   },
   "outputs": [
    {
     "name": "stdout",
     "output_type": "stream",
     "text": [
      "  (0, 0)\t4.0\n",
      "  (0, 1)\t-1.0\n",
      "  (0, 10)\t-1.0\n",
      "  (1, 0)\t-1.0\n",
      "  (1, 1)\t4.0\n",
      "  (1, 2)\t-1.0\n",
      "  (1, 11)\t-1.0\n",
      "  (2, 1)\t-1.0\n",
      "  (2, 2)\t4.0\n",
      "  (2, 3)\t-1.0\n",
      "  (2, 12)\t-1.0\n",
      "  (3, 2)\t-1.0\n",
      "  (3, 3)\t4.0\n",
      "  (3, 4)\t-1.0\n",
      "  (3, 13)\t-1.0\n",
      "  (4, 3)\t-1.0\n",
      "  (4, 4)\t4.0\n",
      "  (4, 5)\t-1.0\n",
      "  (4, 14)\t-1.0\n",
      "  (5, 4)\t-1.0\n",
      "  (5, 5)\t4.0\n",
      "  (5, 6)\t-1.0\n",
      "  (5, 15)\t-1.0\n",
      "  (6, 5)\t-1.0\n",
      "  (6, 6)\t4.0\n",
      "  :\t:\n",
      "  (93, 93)\t4.0\n",
      "  (93, 94)\t-1.0\n",
      "  (94, 84)\t-1.0\n",
      "  (94, 93)\t-1.0\n",
      "  (94, 94)\t4.0\n",
      "  (94, 95)\t-1.0\n",
      "  (95, 85)\t-1.0\n",
      "  (95, 94)\t-1.0\n",
      "  (95, 95)\t4.0\n",
      "  (95, 96)\t-1.0\n",
      "  (96, 86)\t-1.0\n",
      "  (96, 95)\t-1.0\n",
      "  (96, 96)\t4.0\n",
      "  (96, 97)\t-1.0\n",
      "  (97, 87)\t-1.0\n",
      "  (97, 96)\t-1.0\n",
      "  (97, 97)\t4.0\n",
      "  (97, 98)\t-1.0\n",
      "  (98, 88)\t-1.0\n",
      "  (98, 97)\t-1.0\n",
      "  (98, 98)\t4.0\n",
      "  (98, 99)\t-1.0\n",
      "  (99, 89)\t-1.0\n",
      "  (99, 98)\t-1.0\n",
      "  (99, 99)\t4.0\n"
     ]
    }
   ],
   "source": [
    "print(K)"
   ]
  },
  {
   "cell_type": "markdown",
   "metadata": {},
   "source": [
    "nous avons fini avec l'initialisation de la matrice du système $K$, alors maintenant, on va initialiser le vecteur $f ∈ ℝ^n$ tel que pour tout n il faut utiliser les vecteurs $e1$ et $en$ de la base canonique de $ℝ^n$ où:\n",
    "$f = (e1 ⊗ h) + (g ⊗ e1) + (en ⊗ b) + (d ⊗ en)$ <br/>\n",
    "$e1 = $$\\begin{pmatrix}1 \\\\\\ 0 \\\\\\ . \\\\\\ .\\\\\\ .\\\\\\\\ 0\\end{pmatrix}$ &nbsp;&nbsp;&nbsp;&nbsp;&nbsp;&nbsp; , &nbsp;&nbsp;&nbsp;&nbsp;&nbsp;&nbsp; $ en = $$\\begin{pmatrix}0 \\\\\\ 0 \\\\\\ . \\\\\\ .\\\\\\ .\\\\\\\\ 1\\end{pmatrix}$ &nbsp;&nbsp;&nbsp;&nbsp;&nbsp;&nbsp; , &nbsp;&nbsp;&nbsp;&nbsp;&nbsp;&nbsp; $ h = $$\\begin{pmatrix}1 \\\\\\ 1 \\\\\\ . \\\\\\ .\\\\\\ .\\\\\\\\ 1\\end{pmatrix}$  &nbsp;&nbsp;&nbsp;&nbsp;&nbsp;&nbsp; , &nbsp;&nbsp;&nbsp;&nbsp;&nbsp;&nbsp; $ g = $$\\begin{pmatrix}0 \\\\\\ 0 \\\\\\ . \\\\\\ .\\\\\\ .\\\\\\\\ 0\\end{pmatrix}$  &nbsp;&nbsp;&nbsp;&nbsp;&nbsp;&nbsp; , &nbsp;&nbsp;&nbsp;&nbsp;&nbsp;&nbsp; $ b = $$\\begin{pmatrix}0 \\\\\\ 0 \\\\\\ . \\\\\\ .\\\\\\ .\\\\\\\\ 0\\end{pmatrix}$  &nbsp;&nbsp;&nbsp;&nbsp;&nbsp;&nbsp; , &nbsp;&nbsp;&nbsp;&nbsp;&nbsp;&nbsp; $ d = $$\\begin{pmatrix}1 \\\\\\ 1 \\\\\\ . \\\\\\ .\\\\\\ .\\\\\\\\ 1\\end{pmatrix}$ <br/>"
   ]
  },
  {
   "cell_type": "code",
   "execution_count": 49,
   "metadata": {},
   "outputs": [],
   "source": [
    "e1 = 0 * ones(n)\n",
    "e1[0] = 1\n",
    "en = 0 * ones(n) \n",
    "en[n - 1] = 1"
   ]
  },
  {
   "cell_type": "code",
   "execution_count": 50,
   "metadata": {},
   "outputs": [
    {
     "name": "stdout",
     "output_type": "stream",
     "text": [
      "e1 =  [ 1.  0.  0.  0.  0.  0.  0.  0.  0.  0.]\n",
      "en =  [ 0.  0.  0.  0.  0.  0.  0.  0.  0.  1.]\n"
     ]
    }
   ],
   "source": [
    "print(\"e1 = \", e1)\n",
    "print(\"en = \", en)"
   ]
  },
  {
   "cell_type": "code",
   "execution_count": 51,
   "metadata": {},
   "outputs": [],
   "source": [
    "h = 1 * ones(n)\n",
    "g = 0 * ones(n)\n",
    "b = 0 * ones(n)\n",
    "d = 1 * ones(n)"
   ]
  },
  {
   "cell_type": "code",
   "execution_count": 52,
   "metadata": {},
   "outputs": [
    {
     "name": "stdout",
     "output_type": "stream",
     "text": [
      "h =  [ 1.  1.  1.  1.  1.  1.  1.  1.  1.  1.]\n",
      "g =  [ 0.  0.  0.  0.  0.  0.  0.  0.  0.  0.]\n",
      "b =  [ 0.  0.  0.  0.  0.  0.  0.  0.  0.  0.]\n",
      "d =  [ 1.  1.  1.  1.  1.  1.  1.  1.  1.  1.]\n"
     ]
    }
   ],
   "source": [
    "print(\"h = \", h)\n",
    "print(\"g = \", g)\n",
    "print(\"b = \", b)\n",
    "print(\"d = \", d)"
   ]
  },
  {
   "cell_type": "code",
   "execution_count": 53,
   "metadata": {},
   "outputs": [],
   "source": [
    "f = kron(e1, h) + kron(g, e1) + kron(en, b) + kron(d, en)\n",
    "f = transpose(f)"
   ]
  },
  {
   "cell_type": "code",
   "execution_count": 54,
   "metadata": {},
   "outputs": [
    {
     "name": "stdout",
     "output_type": "stream",
     "text": [
      "  (0, 0)\t1.0\n",
      "  (1, 0)\t1.0\n",
      "  (2, 0)\t1.0\n",
      "  (3, 0)\t1.0\n",
      "  (4, 0)\t1.0\n",
      "  (5, 0)\t1.0\n",
      "  (6, 0)\t1.0\n",
      "  (7, 0)\t1.0\n",
      "  (8, 0)\t1.0\n",
      "  (9, 0)\t2.0\n",
      "  (10, 0)\t0.0\n",
      "  (11, 0)\t0.0\n",
      "  (12, 0)\t0.0\n",
      "  (13, 0)\t0.0\n",
      "  (14, 0)\t0.0\n",
      "  (15, 0)\t0.0\n",
      "  (16, 0)\t0.0\n",
      "  (17, 0)\t0.0\n",
      "  (18, 0)\t0.0\n",
      "  (19, 0)\t1.0\n",
      "  (20, 0)\t0.0\n",
      "  (21, 0)\t0.0\n",
      "  (22, 0)\t0.0\n",
      "  (23, 0)\t0.0\n",
      "  (24, 0)\t0.0\n",
      "  :\t:\n",
      "  (75, 0)\t0.0\n",
      "  (76, 0)\t0.0\n",
      "  (77, 0)\t0.0\n",
      "  (78, 0)\t0.0\n",
      "  (79, 0)\t1.0\n",
      "  (80, 0)\t0.0\n",
      "  (81, 0)\t0.0\n",
      "  (82, 0)\t0.0\n",
      "  (83, 0)\t0.0\n",
      "  (84, 0)\t0.0\n",
      "  (85, 0)\t0.0\n",
      "  (86, 0)\t0.0\n",
      "  (87, 0)\t0.0\n",
      "  (88, 0)\t0.0\n",
      "  (89, 0)\t1.0\n",
      "  (90, 0)\t0.0\n",
      "  (91, 0)\t0.0\n",
      "  (92, 0)\t0.0\n",
      "  (93, 0)\t0.0\n",
      "  (94, 0)\t0.0\n",
      "  (95, 0)\t0.0\n",
      "  (96, 0)\t0.0\n",
      "  (97, 0)\t0.0\n",
      "  (98, 0)\t0.0\n",
      "  (99, 0)\t1.0\n"
     ]
    }
   ],
   "source": [
    "print(f)"
   ]
  },
  {
   "cell_type": "markdown",
   "metadata": {},
   "source": [
    "### (b) Résolution des problèmes de moindres carrés :"
   ]
  },
  {
   "cell_type": "markdown",
   "metadata": {},
   "source": [
    "Dans un premier temps, on va utiliser le système linéaire : $K . u = f$ pour chercher une solution approchée du système dans un sous-espace vectoriel $E ∈ ℝ^n$ de dimension $k << n$, on note la matrice $V ∈ ℝ^{n * K}$ ayant pour colonnes les k vectuers d'une base du sous espace E. tout vecteur  $v ∈ E $ s'écrit donc $v = V * α$ avec $α ∈ R^k$.\n",
    "La solution $v ∈ E$ est donc obtenue en résolvant le problème des moindres carrés.<br />\n",
    "&nbsp;&nbsp;&nbsp;&nbsp;&nbsp;&nbsp;&nbsp;&nbsp;&nbsp;&nbsp;&nbsp;&nbsp;$min ||K . V . α - f||^2$&nbsp;&nbsp;&nbsp;&nbsp;&nbsp;&nbsp;&nbsp;&nbsp;&nbsp;&nbsp;&nbsp;&nbsp;(1)<br />\n",
    "&nbsp;&nbsp;&nbsp;&nbsp;&nbsp;&nbsp;&nbsp;&nbsp;&nbsp;&nbsp;&nbsp;&nbsp;$α ∈ R^k$"
   ]
  },
  {
   "cell_type": "code",
   "execution_count": 55,
   "metadata": {},
   "outputs": [],
   "source": [
    "v0 = solve(K.toarray(), f.toarray())"
   ]
  },
  {
   "cell_type": "code",
   "execution_count": 56,
   "metadata": {},
   "outputs": [
    {
     "name": "stdout",
     "output_type": "stream",
     "text": [
      "[[ 0.5       ]\n",
      " [ 0.6979569 ]\n",
      " [ 0.79182762]\n",
      " [ 0.8445434 ]\n",
      " [ 0.87893292]\n",
      " [ 0.90450543]\n",
      " [ 0.92575374]\n",
      " [ 0.94499819]\n",
      " [ 0.9634622 ]\n",
      " [ 0.9817311 ]\n",
      " [ 0.3020431 ]\n",
      " [ 0.5       ]\n",
      " [ 0.62481017]\n",
      " [ 0.70741307]\n",
      " [ 0.76668284]\n",
      " [ 0.81333506]\n",
      " [ 0.85351134]\n",
      " [ 0.89077683]\n",
      " [ 0.92711952]\n",
      " [ 0.9634622 ]\n",
      " [ 0.20817238]\n",
      " [ 0.37518983]\n",
      " [ 0.5       ]\n",
      " [ 0.59361585]\n",
      " [ 0.66705032]\n",
      " [ 0.72864065]\n",
      " [ 0.78417971]\n",
      " [ 0.83747827]\n",
      " [ 0.89077683]\n",
      " [ 0.94499819]\n",
      " [ 0.1554566 ]\n",
      " [ 0.29258693]\n",
      " [ 0.40638415]\n",
      " [ 0.5       ]\n",
      " [ 0.57926195]\n",
      " [ 0.64999748]\n",
      " [ 0.7170886 ]\n",
      " [ 0.78417971]\n",
      " [ 0.85351134]\n",
      " [ 0.92575374]\n",
      " [ 0.12106708]\n",
      " [ 0.23331716]\n",
      " [ 0.33294968]\n",
      " [ 0.42073805]\n",
      " [ 0.5       ]\n",
      " [ 0.57499874]\n",
      " [ 0.64999748]\n",
      " [ 0.72864065]\n",
      " [ 0.81333506]\n",
      " [ 0.90450543]\n",
      " [ 0.09549457]\n",
      " [ 0.18666494]\n",
      " [ 0.27135935]\n",
      " [ 0.35000252]\n",
      " [ 0.42500126]\n",
      " [ 0.5       ]\n",
      " [ 0.57926195]\n",
      " [ 0.66705032]\n",
      " [ 0.76668284]\n",
      " [ 0.87893292]\n",
      " [ 0.07424626]\n",
      " [ 0.14648866]\n",
      " [ 0.21582029]\n",
      " [ 0.2829114 ]\n",
      " [ 0.35000252]\n",
      " [ 0.42073805]\n",
      " [ 0.5       ]\n",
      " [ 0.59361585]\n",
      " [ 0.70741307]\n",
      " [ 0.8445434 ]\n",
      " [ 0.05500181]\n",
      " [ 0.10922317]\n",
      " [ 0.16252173]\n",
      " [ 0.21582029]\n",
      " [ 0.27135935]\n",
      " [ 0.33294968]\n",
      " [ 0.40638415]\n",
      " [ 0.5       ]\n",
      " [ 0.62481017]\n",
      " [ 0.79182762]\n",
      " [ 0.0365378 ]\n",
      " [ 0.07288048]\n",
      " [ 0.10922317]\n",
      " [ 0.14648866]\n",
      " [ 0.18666494]\n",
      " [ 0.23331716]\n",
      " [ 0.29258693]\n",
      " [ 0.37518983]\n",
      " [ 0.5       ]\n",
      " [ 0.6979569 ]\n",
      " [ 0.0182689 ]\n",
      " [ 0.0365378 ]\n",
      " [ 0.05500181]\n",
      " [ 0.07424626]\n",
      " [ 0.09549457]\n",
      " [ 0.12106708]\n",
      " [ 0.1554566 ]\n",
      " [ 0.20817238]\n",
      " [ 0.3020431 ]\n",
      " [ 0.5       ]]\n"
     ]
    }
   ],
   "source": [
    "print(v0)#une première aproximation de u"
   ]
  },
  {
   "cell_type": "markdown",
   "metadata": {},
   "source": [
    "Là, o, puet chercher une approximation $v$ dans le sous espace affine $v0 + E$, sachant que pour tout vecteur $v ∈ v0 + E$ s'écrit $v = v0 + V * α$, cela conduit à considérer le problème de moindres carrés.<br />\n",
    "&nbsp;&nbsp;&nbsp;&nbsp;&nbsp;&nbsp;&nbsp;&nbsp;&nbsp;&nbsp;&nbsp;&nbsp;$min ||K . V . α - r0||^2$&nbsp;&nbsp;&nbsp;&nbsp;&nbsp;&nbsp;&nbsp;&nbsp;&nbsp;&nbsp;&nbsp;&nbsp;(2)<br />\n",
    "&nbsp;&nbsp;&nbsp;&nbsp;&nbsp;&nbsp;&nbsp;&nbsp;&nbsp;&nbsp;&nbsp;&nbsp;$α ∈ R^k$<br />\n",
    "Avec $ r0 = f - k * v0 $ est le résidu obtenu pour l'approximation $v0$.<br />\n",
    "Soit $αk$ la solution du problème (2) alors : $ rk = r0 - K * V * αk $ le résidu obtenu à partir de $αk$"
   ]
  },
  {
   "cell_type": "code",
   "execution_count": 57,
   "metadata": {},
   "outputs": [],
   "source": [
    "r0 = f - K * v0#le résidu obtenu par l'approximation v0"
   ]
  },
  {
   "cell_type": "code",
   "execution_count": 58,
   "metadata": {},
   "outputs": [
    {
     "name": "stdout",
     "output_type": "stream",
     "text": [
      "[[  0.00000000e+00]\n",
      " [  4.44089210e-16]\n",
      " [ -2.22044605e-16]\n",
      " [  0.00000000e+00]\n",
      " [  0.00000000e+00]\n",
      " [ -4.44089210e-16]\n",
      " [ -8.88178420e-16]\n",
      " [  5.55111512e-16]\n",
      " [  0.00000000e+00]\n",
      " [ -4.44089210e-16]\n",
      " [  3.05311332e-16]\n",
      " [  5.55111512e-17]\n",
      " [  6.66133815e-16]\n",
      " [  1.11022302e-16]\n",
      " [  1.11022302e-16]\n",
      " [  3.33066907e-16]\n",
      " [ -9.99200722e-16]\n",
      " [  4.44089210e-16]\n",
      " [ -8.88178420e-16]\n",
      " [  1.11022302e-16]\n",
      " [ -2.22044605e-16]\n",
      " [  2.22044605e-16]\n",
      " [ -5.55111512e-16]\n",
      " [ -5.55111512e-16]\n",
      " [  1.11022302e-16]\n",
      " [ -5.55111512e-16]\n",
      " [  2.22044605e-16]\n",
      " [  1.11022302e-16]\n",
      " [ -1.11022302e-16]\n",
      " [  0.00000000e+00]\n",
      " [ -1.38777878e-17]\n",
      " [ -5.55111512e-17]\n",
      " [  0.00000000e+00]\n",
      " [ -1.11022302e-16]\n",
      " [ -8.88178420e-16]\n",
      " [ -5.55111512e-16]\n",
      " [  6.66133815e-16]\n",
      " [  0.00000000e+00]\n",
      " [  2.22044605e-16]\n",
      " [  2.22044605e-16]\n",
      " [ -4.16333634e-17]\n",
      " [  2.77555756e-17]\n",
      " [  5.55111512e-17]\n",
      " [  4.99600361e-16]\n",
      " [ -1.11022302e-16]\n",
      " [  3.33066907e-16]\n",
      " [ -2.22044605e-16]\n",
      " [ -2.22044605e-16]\n",
      " [ -3.33066907e-16]\n",
      " [  2.22044605e-16]\n",
      " [ -1.38777878e-17]\n",
      " [ -5.55111512e-17]\n",
      " [ -3.33066907e-16]\n",
      " [ -5.55111512e-17]\n",
      " [  5.55111512e-17]\n",
      " [ -3.33066907e-16]\n",
      " [  4.99600361e-16]\n",
      " [  1.11022302e-16]\n",
      " [ -1.11022302e-16]\n",
      " [  1.11022302e-15]\n",
      " [ -1.04083409e-16]\n",
      " [  0.00000000e+00]\n",
      " [  8.32667268e-17]\n",
      " [  5.55111512e-17]\n",
      " [ -1.11022302e-16]\n",
      " [  2.77555756e-16]\n",
      " [  1.66533454e-16]\n",
      " [  4.99600361e-16]\n",
      " [  0.00000000e+00]\n",
      " [  6.66133815e-16]\n",
      " [  1.38777878e-17]\n",
      " [  2.77555756e-17]\n",
      " [ -6.93889390e-17]\n",
      " [ -2.77555756e-17]\n",
      " [ -2.77555756e-17]\n",
      " [  4.99600361e-16]\n",
      " [ -5.55111512e-17]\n",
      " [  1.11022302e-16]\n",
      " [  1.11022302e-16]\n",
      " [ -2.22044605e-16]\n",
      " [  1.38777878e-17]\n",
      " [  0.00000000e+00]\n",
      " [ -1.38777878e-17]\n",
      " [  2.77555756e-17]\n",
      " [  0.00000000e+00]\n",
      " [ -2.35922393e-16]\n",
      " [ -2.77555756e-17]\n",
      " [ -1.38777878e-16]\n",
      " [ -1.11022302e-16]\n",
      " [  4.44089210e-16]\n",
      " [ -2.77555756e-17]\n",
      " [  0.00000000e+00]\n",
      " [  0.00000000e+00]\n",
      " [ -5.55111512e-17]\n",
      " [  9.71445147e-17]\n",
      " [  2.77555756e-17]\n",
      " [ -1.38777878e-16]\n",
      " [  3.33066907e-16]\n",
      " [ -1.11022302e-16]\n",
      " [ -2.22044605e-16]]\n"
     ]
    }
   ],
   "source": [
    "print(r0)"
   ]
  },
  {
   "cell_type": "markdown",
   "metadata": {},
   "source": [
    "On va implémenter le procédé d'orthonormalisation de Gram-Schmidt en utilisant les bibliothèques systèmes de numpy, où $Q$ est un matrice orthogonale c'est à dire $A^t . A = A . A^t = In$ et $R$ est une matrice triangulaire supérieure."
   ]
  },
  {
   "cell_type": "code",
   "execution_count": 59,
   "metadata": {},
   "outputs": [],
   "source": [
    "def gram_schmidt(M):\n",
    "    Q, R = np.linalg.qr(M)\n",
    "    return Q, R"
   ]
  },
  {
   "cell_type": "code",
   "execution_count": 60,
   "metadata": {},
   "outputs": [],
   "source": [
    "def moindres_carrés(K, f, v0, k):\n",
    "    residus = [norm(r0)]\n",
    "    V = r0\n",
    "    M = K * V\n",
    "    Q, R = gram_schmidt(M)\n",
    "    q = (1 / norm(Q)) * Q\n",
    "    rk = r0\n",
    "    \n",
    "    if (k <= 1):\n",
    "        α = solve_triangular(R, Q.transpose() * r0, lower = False)\n",
    "        v = v0 + V * α\n",
    "        return residus, v, V, Q, R\n",
    "    \n",
    "    for i in range(2, k + 1):\n",
    "        temp = q.transpose() * r0\n",
    "        rk = rk - q * temp\n",
    "        a = K * rk\n",
    "        b = Q.transpose() * a\n",
    "        s = norm(a - Q * b)\n",
    "        q = (1 / s) * (a - Q * b)\n",
    "        \n",
    "        V = bmat([[V, rk], [None, None]])\n",
    "        R = bmat([[R, b], [None, s]])\n",
    "        Q = bmat([[Q, q], [None, None]])\n",
    "        \n",
    "        residus.append(norm(rk))\n",
    "    \n",
    "    α = solve_triangular(R.todense(), Q.transpose() * r0, lower = False)\n",
    "    v = v0 + V * α\n",
    "    return residus, v, V.todense(), Q.todense(), R.todense()"
   ]
  },
  {
   "cell_type": "markdown",
   "metadata": {},
   "source": [
    "### (c) Implémentation de la méthode restarting :"
   ]
  },
  {
   "cell_type": "markdown",
   "metadata": {},
   "source": [
    "Le principe de la méthode de ___restarting___ et de reboucler sur l’algorithme en repartant de la\n",
    "valeur du résidu courant r k obtenu au terme de k itérations. Cela signifie, dans la description\n",
    "précédente de l’algorithme, qu’on démarre une seconde fois l’ algorithme en prenant r0 = rk,\n",
    "et on itère ensuite suivant la procédure normale."
   ]
  },
  {
   "cell_type": "code",
   "execution_count": 67,
   "metadata": {},
   "outputs": [],
   "source": [
    "def restarting(n_ext, k, K, f, v0):\n",
    "    vk = v0\n",
    "    rk = []\n",
    "    solution = v0\n",
    "    \n",
    "    for i in range(n_ext):\n",
    "        residus, vk, V, Q, R = moindres_carrés(K, f, vk, k)\n",
    "        #solution = concatenate((solution,vk), axis = 1)\n",
    "        solution = reshape(vk, (n, n))\n",
    "        rk.extend(residus)\n",
    "    \n",
    "    return rk, solution, V, Q, R"
   ]
  },
  {
   "cell_type": "code",
   "execution_count": 68,
   "metadata": {},
   "outputs": [
    {
     "name": "stdout",
     "output_type": "stream",
     "text": [
      "([3.3477772138571664e-15, 1.377442551109533e-15, 8.3726894126139094e-16, 6.0231099134628367e-16, 3.967527609353214e-16, 2.6772107313812501e-16, 1.8670655074161421e-16, 1.3026348304995353e-16, 8.1580611338590078e-17, 4.8276020264532321e-17, 3.1015310505900501e-17, 2.1639351024983031e-17, 1.4810680076960751e-17, 1.1457506952113096e-17, 9.8317567256448173e-18, 8.3348707017612822e-18, 6.9684623714770759e-18, 5.2264773670769799e-18, 3.3567619946948574e-18, 2.0380282025211248e-18, 3.3477772138571664e-15, 1.377442551109533e-15, 8.3726894126139094e-16, 6.0231099134628367e-16, 3.967527609353214e-16, 2.6772107313812501e-16, 1.8670655074161421e-16, 1.3026348304995353e-16, 8.1580611338590078e-17, 4.8276020264532321e-17, 3.1015310505900501e-17, 2.1639351024983031e-17, 1.4810680076960751e-17, 1.1457506952113096e-17, 9.8317567256448173e-18, 8.3348707017612822e-18, 6.9684623714770759e-18, 5.2264773670769799e-18, 3.3567619946948574e-18, 2.0380282025211248e-18, 3.3477772138571664e-15, 1.377442551109533e-15, 8.3726894126139094e-16, 6.0231099134628367e-16, 3.967527609353214e-16, 2.6772107313812501e-16, 1.8670655074161421e-16, 1.3026348304995353e-16, 8.1580611338590078e-17, 4.8276020264532321e-17, 3.1015310505900501e-17, 2.1639351024983031e-17, 1.4810680076960751e-17, 1.1457506952113096e-17, 9.8317567256448173e-18, 8.3348707017612822e-18, 6.9684623714770759e-18, 5.2264773670769799e-18, 3.3567619946948574e-18, 2.0380282025211248e-18, 3.3477772138571664e-15, 1.377442551109533e-15, 8.3726894126139094e-16, 6.0231099134628367e-16, 3.967527609353214e-16, 2.6772107313812501e-16, 1.8670655074161421e-16, 1.3026348304995353e-16, 8.1580611338590078e-17, 4.8276020264532321e-17, 3.1015310505900501e-17, 2.1639351024983031e-17, 1.4810680076960751e-17, 1.1457506952113096e-17, 9.8317567256448173e-18, 8.3348707017612822e-18, 6.9684623714770759e-18, 5.2264773670769799e-18, 3.3567619946948574e-18, 2.0380282025211248e-18, 3.3477772138571664e-15, 1.377442551109533e-15, 8.3726894126139094e-16, 6.0231099134628367e-16, 3.967527609353214e-16, 2.6772107313812501e-16, 1.8670655074161421e-16, 1.3026348304995353e-16, 8.1580611338590078e-17, 4.8276020264532321e-17, 3.1015310505900501e-17, 2.1639351024983031e-17, 1.4810680076960751e-17, 1.1457506952113096e-17, 9.8317567256448173e-18, 8.3348707017612822e-18, 6.9684623714770759e-18, 5.2264773670769799e-18, 3.3567619946948574e-18, 2.0380282025211248e-18, 3.3477772138571664e-15, 1.377442551109533e-15, 8.3726894126139094e-16, 6.0231099134628367e-16, 3.967527609353214e-16, 2.6772107313812501e-16, 1.8670655074161421e-16, 1.3026348304995353e-16, 8.1580611338590078e-17, 4.8276020264532321e-17, 3.1015310505900501e-17, 2.1639351024983031e-17, 1.4810680076960751e-17, 1.1457506952113096e-17, 9.8317567256448173e-18, 8.3348707017612822e-18, 6.9684623714770759e-18, 5.2264773670769799e-18, 3.3567619946948574e-18, 2.0380282025211248e-18, 3.3477772138571664e-15, 1.377442551109533e-15, 8.3726894126139094e-16, 6.0231099134628367e-16, 3.967527609353214e-16, 2.6772107313812501e-16, 1.8670655074161421e-16, 1.3026348304995353e-16, 8.1580611338590078e-17, 4.8276020264532321e-17, 3.1015310505900501e-17, 2.1639351024983031e-17, 1.4810680076960751e-17, 1.1457506952113096e-17, 9.8317567256448173e-18, 8.3348707017612822e-18, 6.9684623714770759e-18, 5.2264773670769799e-18, 3.3567619946948574e-18, 2.0380282025211248e-18, 3.3477772138571664e-15, 1.377442551109533e-15, 8.3726894126139094e-16, 6.0231099134628367e-16, 3.967527609353214e-16, 2.6772107313812501e-16, 1.8670655074161421e-16, 1.3026348304995353e-16, 8.1580611338590078e-17, 4.8276020264532321e-17, 3.1015310505900501e-17, 2.1639351024983031e-17, 1.4810680076960751e-17, 1.1457506952113096e-17, 9.8317567256448173e-18, 8.3348707017612822e-18, 6.9684623714770759e-18, 5.2264773670769799e-18, 3.3567619946948574e-18, 2.0380282025211248e-18, 3.3477772138571664e-15, 1.377442551109533e-15, 8.3726894126139094e-16, 6.0231099134628367e-16, 3.967527609353214e-16, 2.6772107313812501e-16, 1.8670655074161421e-16, 1.3026348304995353e-16, 8.1580611338590078e-17, 4.8276020264532321e-17, 3.1015310505900501e-17, 2.1639351024983031e-17, 1.4810680076960751e-17, 1.1457506952113096e-17, 9.8317567256448173e-18, 8.3348707017612822e-18, 6.9684623714770759e-18, 5.2264773670769799e-18, 3.3567619946948574e-18, 2.0380282025211248e-18, 3.3477772138571664e-15, 1.377442551109533e-15, 8.3726894126139094e-16, 6.0231099134628367e-16, 3.967527609353214e-16, 2.6772107313812501e-16, 1.8670655074161421e-16, 1.3026348304995353e-16, 8.1580611338590078e-17, 4.8276020264532321e-17, 3.1015310505900501e-17, 2.1639351024983031e-17, 1.4810680076960751e-17, 1.1457506952113096e-17, 9.8317567256448173e-18, 8.3348707017612822e-18, 6.9684623714770759e-18, 5.2264773670769799e-18, 3.3567619946948574e-18, 2.0380282025211248e-18], array([[ 0.5       ,  0.6979569 ,  0.79182762,  0.8445434 ,  0.87893292,\n",
      "         0.90450543,  0.92575374,  0.94499819,  0.9634622 ,  0.9817311 ],\n",
      "       [ 0.3020431 ,  0.5       ,  0.62481017,  0.70741307,  0.76668284,\n",
      "         0.81333506,  0.85351134,  0.89077683,  0.92711952,  0.9634622 ],\n",
      "       [ 0.20817238,  0.37518983,  0.5       ,  0.59361585,  0.66705032,\n",
      "         0.72864065,  0.78417971,  0.83747827,  0.89077683,  0.94499819],\n",
      "       [ 0.1554566 ,  0.29258693,  0.40638415,  0.5       ,  0.57926195,\n",
      "         0.64999748,  0.7170886 ,  0.78417971,  0.85351134,  0.92575374],\n",
      "       [ 0.12106708,  0.23331716,  0.33294968,  0.42073805,  0.5       ,\n",
      "         0.57499874,  0.64999748,  0.72864065,  0.81333506,  0.90450543],\n",
      "       [ 0.09549457,  0.18666494,  0.27135935,  0.35000252,  0.42500126,\n",
      "         0.5       ,  0.57926195,  0.66705032,  0.76668284,  0.87893292],\n",
      "       [ 0.07424626,  0.14648866,  0.21582029,  0.2829114 ,  0.35000252,\n",
      "         0.42073805,  0.5       ,  0.59361585,  0.70741307,  0.8445434 ],\n",
      "       [ 0.05500181,  0.10922317,  0.16252173,  0.21582029,  0.27135935,\n",
      "         0.33294968,  0.40638415,  0.5       ,  0.62481017,  0.79182762],\n",
      "       [ 0.0365378 ,  0.07288048,  0.10922317,  0.14648866,  0.18666494,\n",
      "         0.23331716,  0.29258693,  0.37518983,  0.5       ,  0.6979569 ],\n",
      "       [ 0.0182689 ,  0.0365378 ,  0.05500181,  0.07424626,  0.09549457,\n",
      "         0.12106708,  0.1554566 ,  0.20817238,  0.3020431 ,  0.5       ]]), matrix([[  0.00000000e+00,   1.49301503e-16,   4.29763763e-17, ...,\n",
      "           2.94104882e-19,  -2.55946795e-19,  -1.17349234e-19],\n",
      "        [  4.44089210e-16,   5.70112389e-17,   1.14008652e-16, ...,\n",
      "           2.98916285e-19,   2.02749779e-19,  -1.19275238e-19],\n",
      "        [ -2.22044605e-16,   1.76092737e-16,   6.62809221e-17, ...,\n",
      "           1.89556169e-19,   2.31737196e-19,   3.82188236e-19],\n",
      "        ..., \n",
      "        [  3.33066907e-16,  -9.77358118e-18,  -3.23851807e-17, ...,\n",
      "           1.04648051e-19,   1.33754466e-19,   1.12617912e-19],\n",
      "        [ -1.11022302e-16,  -2.25473377e-17,   2.31721405e-17, ...,\n",
      "           5.85272574e-19,   2.99560579e-19,  -9.35723781e-20],\n",
      "        [ -2.22044605e-16,   2.12615482e-17,   2.11096272e-17, ...,\n",
      "           2.42961327e-19,   1.10206672e-19,   3.70077131e-20]]), matrix([[ -4.89308968e-02,   9.72099339e-02,   2.56301413e-02, ...,\n",
      "           1.37306195e-01,  -5.19624645e-02,  -8.77838844e-02],\n",
      "        [  1.26857880e-01,  -5.21110570e-02,   1.69136046e-01, ...,\n",
      "           2.40054845e-02,   1.20732380e-01,  -1.18430476e-01],\n",
      "        [ -1.30482391e-01,   1.00397710e-01,   9.41513047e-02, ...,\n",
      "          -1.05294040e-02,  -5.64065254e-02,   2.39560772e-01],\n",
      "        ..., \n",
      "        [  1.12359837e-01,   2.06731199e-02,  -9.07693593e-02, ...,\n",
      "          -7.26566501e-03,   7.92443572e-03,   1.26751590e-01],\n",
      "        [ -2.89960870e-02,  -4.17999733e-02,   3.67403770e-02, ...,\n",
      "           7.13206205e-02,   1.47391896e-01,   1.79915140e-02],\n",
      "        [ -7.97392392e-02,   1.38896942e-04,   3.73140628e-02, ...,\n",
      "           3.31387709e-02,   2.74434723e-02,   7.41954176e-02]]), matrix([[  1.53154876e-14,  -1.59744326e-15,  -1.15024240e-29,\n",
      "          -1.12574457e-29,  -1.12267271e-29,  -1.12098752e-29,\n",
      "          -1.11764604e-29,  -1.11985123e-29,  -1.11965863e-29,\n",
      "          -1.12000530e-29,  -1.12023641e-29,  -1.12041937e-29,\n",
      "          -1.12029299e-29,  -1.12038326e-29,  -1.12056141e-29,\n",
      "          -1.12073234e-29,  -1.12088882e-29,  -1.12113345e-29,\n",
      "          -1.12120366e-29,  -1.12125746e-29],\n",
      "        [  0.00000000e+00,   4.45636941e-15,  -8.29017729e-16,\n",
      "           7.32521737e-30,   7.57597006e-30,   7.69845131e-30,\n",
      "           7.71649750e-30,   7.74037263e-30,   7.76447986e-30,\n",
      "           7.76684364e-30,   7.76928979e-30,   7.76854744e-30,\n",
      "           7.76726000e-30,   7.76807847e-30,   7.76920643e-30,\n",
      "           7.76967443e-30,   7.76993030e-30,   7.77050464e-30,\n",
      "           7.76969010e-30,   7.76954969e-30],\n",
      "        [  0.00000000e+00,   0.00000000e+00,   1.55910770e-15,\n",
      "          -8.79183059e-16,  -1.14048756e-30,  -1.60641817e-30,\n",
      "          -1.82361492e-30,  -1.90301138e-30,  -1.94384109e-30,\n",
      "          -1.95968187e-30,  -1.96753003e-30,  -1.97061152e-30,\n",
      "          -1.97169485e-30,  -1.97235689e-30,  -1.97258560e-30,\n",
      "          -1.97249833e-30,  -1.97119532e-30,  -1.96949814e-30,\n",
      "          -1.96790657e-30,  -1.96684843e-30],\n",
      "        [  0.00000000e+00,   0.00000000e+00,   0.00000000e+00,\n",
      "           1.12830948e-15,  -5.69990964e-16,   4.34297202e-31,\n",
      "           5.84904924e-31,   6.26312418e-31,   6.55201367e-31,\n",
      "           6.69669916e-31,   6.64253238e-31,   6.67527319e-31,\n",
      "           6.66952549e-31,   6.67003707e-31,   6.67394911e-31,\n",
      "           6.66946530e-31,   6.66431946e-31,   6.65030851e-31,\n",
      "           6.64248536e-31,   6.63901154e-31],\n",
      "        [  0.00000000e+00,   0.00000000e+00,   0.00000000e+00,\n",
      "           0.00000000e+00,   8.82154952e-16,  -3.63415493e-16,\n",
      "          -8.32591552e-31,  -6.92227370e-31,  -5.74408606e-31,\n",
      "          -5.39109921e-31,  -5.18123303e-31,  -5.11430697e-31,\n",
      "          -5.04999896e-31,  -5.04721539e-31,  -5.04659849e-31,\n",
      "          -5.05394862e-31,  -5.06063672e-31,  -5.06157829e-31,\n",
      "          -5.06805644e-31,  -5.07294461e-31],\n",
      "        [  0.00000000e+00,   0.00000000e+00,   0.00000000e+00,\n",
      "           0.00000000e+00,   0.00000000e+00,   5.54596046e-16,\n",
      "          -2.58611074e-16,   5.82401215e-31,   3.78974865e-31,\n",
      "           2.98043677e-31,   2.63996847e-31,   2.49215335e-31,\n",
      "           2.39719597e-31,   2.34370628e-31,   2.33552108e-31,\n",
      "           2.32306272e-31,   2.31152218e-31,   2.30194520e-31,\n",
      "           2.29360624e-31,   2.29294373e-31],\n",
      "        [  0.00000000e+00,   0.00000000e+00,   0.00000000e+00,\n",
      "           0.00000000e+00,   0.00000000e+00,   0.00000000e+00,\n",
      "           3.70976594e-16,  -2.03601597e-16,  -2.30919000e-31,\n",
      "          -1.26870635e-31,  -9.49964945e-32,  -7.37149686e-32,\n",
      "          -6.01251255e-32,  -5.30052032e-32,  -4.93519548e-32,\n",
      "          -4.55933822e-32,  -4.23343476e-32,  -3.75018433e-32,\n",
      "          -3.50876600e-32,  -3.35743756e-32],\n",
      "        [  0.00000000e+00,   0.00000000e+00,   0.00000000e+00,\n",
      "           0.00000000e+00,   0.00000000e+00,   0.00000000e+00,\n",
      "           0.00000000e+00,   2.68163283e-16,  -1.28224767e-16,\n",
      "           1.97407819e-31,   1.75644811e-31,   1.62741080e-31,\n",
      "           1.48826236e-31,   1.44059560e-31,   1.41459554e-31,\n",
      "           1.38414178e-31,   1.35609542e-31,   1.33590889e-31,\n",
      "           1.32300855e-31,   1.31167866e-31],\n",
      "        [  0.00000000e+00,   0.00000000e+00,   0.00000000e+00,\n",
      "           0.00000000e+00,   0.00000000e+00,   0.00000000e+00,\n",
      "           0.00000000e+00,   0.00000000e+00,   1.98008609e-16,\n",
      "          -6.34599447e-17,  -1.84889275e-32,  -2.71556122e-32,\n",
      "          -3.06463602e-32,  -3.12241392e-32,  -3.21389559e-32,\n",
      "          -3.37820149e-32,  -3.62917424e-32,  -3.71231460e-32,\n",
      "          -3.83011795e-32,  -3.87352660e-32],\n",
      "        [  0.00000000e+00,   0.00000000e+00,   0.00000000e+00,\n",
      "           0.00000000e+00,   0.00000000e+00,   0.00000000e+00,\n",
      "           0.00000000e+00,   0.00000000e+00,   0.00000000e+00,\n",
      "           1.12808450e-16,  -3.86145300e-17,  -1.31155829e-31,\n",
      "          -1.05998369e-31,  -9.56224217e-32,  -8.96279648e-32,\n",
      "          -8.52524927e-32,  -8.06122052e-32,  -7.53017920e-32,\n",
      "          -7.24623618e-32,  -7.13346396e-32],\n",
      "        [  0.00000000e+00,   0.00000000e+00,   0.00000000e+00,\n",
      "           0.00000000e+00,   0.00000000e+00,   0.00000000e+00,\n",
      "           0.00000000e+00,   0.00000000e+00,   0.00000000e+00,\n",
      "           0.00000000e+00,   6.42934392e-17,  -3.02757604e-17,\n",
      "           1.05444664e-32,  -5.29630735e-34,  -6.59631006e-33,\n",
      "          -1.22898405e-32,  -1.65389234e-32,  -2.13695469e-32,\n",
      "          -2.44939168e-32,  -2.56148683e-32],\n",
      "        [  0.00000000e+00,   0.00000000e+00,   0.00000000e+00,\n",
      "           0.00000000e+00,   0.00000000e+00,   0.00000000e+00,\n",
      "           0.00000000e+00,   0.00000000e+00,   0.00000000e+00,\n",
      "           0.00000000e+00,   0.00000000e+00,   4.26387327e-17,\n",
      "          -1.71842047e-17,   4.64173191e-31,   4.67712087e-31,\n",
      "           4.71545891e-31,   4.74513027e-31,   4.75890142e-31,\n",
      "           4.77483925e-31,   4.78250535e-31],\n",
      "        [  0.00000000e+00,   0.00000000e+00,   0.00000000e+00,\n",
      "           0.00000000e+00,   0.00000000e+00,   0.00000000e+00,\n",
      "           0.00000000e+00,   0.00000000e+00,   0.00000000e+00,\n",
      "           0.00000000e+00,   0.00000000e+00,   0.00000000e+00,\n",
      "           2.88870667e-17,  -9.84966097e-18,  -1.19351082e-30,\n",
      "          -1.19458814e-30,  -1.19495527e-30,  -1.19433847e-30,\n",
      "          -1.19459265e-30,  -1.19408860e-30],\n",
      "        [  0.00000000e+00,   0.00000000e+00,   0.00000000e+00,\n",
      "           0.00000000e+00,   0.00000000e+00,   0.00000000e+00,\n",
      "           0.00000000e+00,   0.00000000e+00,   0.00000000e+00,\n",
      "           0.00000000e+00,   0.00000000e+00,   0.00000000e+00,\n",
      "           0.00000000e+00,   1.57129268e-17,  -1.00880782e-17,\n",
      "           7.56962691e-31,   7.54543241e-31,   7.52796456e-31,\n",
      "           7.50761347e-31,   7.50017306e-31],\n",
      "        [  0.00000000e+00,   0.00000000e+00,   0.00000000e+00,\n",
      "           0.00000000e+00,   0.00000000e+00,   0.00000000e+00,\n",
      "           0.00000000e+00,   0.00000000e+00,   0.00000000e+00,\n",
      "           0.00000000e+00,   0.00000000e+00,   0.00000000e+00,\n",
      "           0.00000000e+00,   0.00000000e+00,   1.13810977e-17,\n",
      "          -8.78897996e-18,  -1.89511507e-31,  -1.97010408e-31,\n",
      "          -2.02451348e-31,  -2.04804594e-31],\n",
      "        [  0.00000000e+00,   0.00000000e+00,   0.00000000e+00,\n",
      "           0.00000000e+00,   0.00000000e+00,   0.00000000e+00,\n",
      "           0.00000000e+00,   0.00000000e+00,   0.00000000e+00,\n",
      "           0.00000000e+00,   0.00000000e+00,   0.00000000e+00,\n",
      "           0.00000000e+00,   0.00000000e+00,   0.00000000e+00,\n",
      "           1.00227461e-17,  -8.45083680e-18,   2.38453731e-31,\n",
      "           2.49729167e-31,   2.54692198e-31],\n",
      "        [  0.00000000e+00,   0.00000000e+00,   0.00000000e+00,\n",
      "           0.00000000e+00,   0.00000000e+00,   0.00000000e+00,\n",
      "           0.00000000e+00,   0.00000000e+00,   0.00000000e+00,\n",
      "           0.00000000e+00,   0.00000000e+00,   0.00000000e+00,\n",
      "           0.00000000e+00,   0.00000000e+00,   0.00000000e+00,\n",
      "           0.00000000e+00,   8.38437985e-18,  -7.45437187e-18,\n",
      "          -7.55781554e-31,  -7.59335496e-31],\n",
      "        [  0.00000000e+00,   0.00000000e+00,   0.00000000e+00,\n",
      "           0.00000000e+00,   0.00000000e+00,   0.00000000e+00,\n",
      "           0.00000000e+00,   0.00000000e+00,   0.00000000e+00,\n",
      "           0.00000000e+00,   0.00000000e+00,   0.00000000e+00,\n",
      "           0.00000000e+00,   0.00000000e+00,   0.00000000e+00,\n",
      "           0.00000000e+00,   0.00000000e+00,   8.57649282e-18,\n",
      "          -5.23712771e-18,   4.77857826e-31],\n",
      "        [  0.00000000e+00,   0.00000000e+00,   0.00000000e+00,\n",
      "           0.00000000e+00,   0.00000000e+00,   0.00000000e+00,\n",
      "           0.00000000e+00,   0.00000000e+00,   0.00000000e+00,\n",
      "           0.00000000e+00,   0.00000000e+00,   0.00000000e+00,\n",
      "           0.00000000e+00,   0.00000000e+00,   0.00000000e+00,\n",
      "           0.00000000e+00,   0.00000000e+00,   0.00000000e+00,\n",
      "           7.86575977e-18,  -2.94655279e-18],\n",
      "        [  0.00000000e+00,   0.00000000e+00,   0.00000000e+00,\n",
      "           0.00000000e+00,   0.00000000e+00,   0.00000000e+00,\n",
      "           0.00000000e+00,   0.00000000e+00,   0.00000000e+00,\n",
      "           0.00000000e+00,   0.00000000e+00,   0.00000000e+00,\n",
      "           0.00000000e+00,   0.00000000e+00,   0.00000000e+00,\n",
      "           0.00000000e+00,   0.00000000e+00,   0.00000000e+00,\n",
      "           0.00000000e+00,   5.07563011e-18]]))\n"
     ]
    }
   ],
   "source": [
    "print(restarting(10, 20, K, f, v0))"
   ]
  },
  {
   "cell_type": "markdown",
   "metadata": {},
   "source": [
    "### (d) Mettre le résultat obtenu sous forme de graphes pour avoir une vue d'ensemble."
   ]
  },
  {
   "cell_type": "markdown",
   "metadata": {},
   "source": [
    "Tracer les solutions obtenues $vk$ avec la fonction graphique contour (ou contourf). Pour cela il est necessaire de transformer le vecteur v k ∈ IR m en matrice n × n (m = n 2 ). Le réarrangement se fait ligne par ligne à l’aide de la fonction python reshape. "
   ]
  },
  {
   "cell_type": "code",
   "execution_count": 69,
   "metadata": {},
   "outputs": [
    {
     "data": {
      "text/plain": [
       "<matplotlib.contour.QuadContourSet at 0x7fd709a94f98>"
      ]
     },
     "execution_count": 69,
     "metadata": {},
     "output_type": "execute_result"
    },
    {
     "data": {
      "image/png": "[encoded data removed]",
      "text/plain": [
       "<Figure size 432x288 with 1 Axes>"
      ]
     },
     "metadata": {
      "needs_background": "light"
     },
     "output_type": "display_data"
    }
   ],
   "source": [
    "contourf(restarting(10, 20, K, f, v0)[1])"
   ]
  },
  {
   "cell_type": "markdown",
   "metadata": {},
   "source": [
    "De même tracer la courbe de décroissance de la norme des résidus en fonction des itérés."
   ]
  },
  {
   "cell_type": "code",
   "execution_count": 64,
   "metadata": {},
   "outputs": [
    {
     "data": {
      "text/plain": [
       "[<matplotlib.lines.Line2D at 0x7fd70996ba90>]"
      ]
     },
     "execution_count": 64,
     "metadata": {},
     "output_type": "execute_result"
    },
    {
     "data": {
      "image/png": "[encoded data removed]",
      "text/plain": [
       "<Figure size 432x288 with 1 Axes>"
      ]
     },
     "metadata": {
      "needs_background": "light"
     },
     "output_type": "display_data"
    }
   ],
   "source": [
    "semilogy(restarting(10, 20, K, f, v0)[0])"
   ]
  }
 ],
 "metadata": {
  "kernelspec": {
   "display_name": "Python 3",
   "language": "python",
   "name": "python3"
  },
  "language_info": {
   "codemirror_mode": {
    "name": "ipython",
    "version": 3
   },
   "file_extension": ".py",
   "mimetype": "text/x-python",
   "name": "python",
   "nbconvert_exporter": "python",
   "pygments_lexer": "ipython3",
   "version": "3.6.7"
  }
 },
 "nbformat": 4,
 "nbformat_minor": 1
}
