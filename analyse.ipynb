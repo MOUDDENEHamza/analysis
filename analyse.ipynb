{
 "cells": [
  {
   "cell_type": "markdown",
   "metadata": {},
   "source": [
    "# Analyse de données et grands systèmes linéaires"
   ]
  },
  {
   "cell_type": "markdown",
   "metadata": {},
   "source": [
    "### Importation des bibliothèques système permettant l'éxecution du programme"
   ]
  },
  {
   "cell_type": "code",
   "execution_count": 738,
   "metadata": {},
   "outputs": [],
   "source": [
    "%matplotlib inline"
   ]
  },
  {
   "cell_type": "code",
   "execution_count": 739,
   "metadata": {},
   "outputs": [],
   "source": [
    "from matplotlib.pyplot import * \n",
    "from numpy import * \n",
    "from scipy import * \n",
    "from scipy.sparse import * \n",
    "from numpy.linalg import *"
   ]
  },
  {
   "cell_type": "markdown",
   "metadata": {},
   "source": [
    "## I. Introduction au problème :"
   ]
  },
  {
   "cell_type": "markdown",
   "metadata": {},
   "source": [
    "Initialisation de la matrice K, on fixera la dimension $n = 100 $, puis à l'aide de la formule suivante : $K = (In ⊗ D^t . D) + (D^t . D ⊗ In)$, en explicitant le calcul on trouve que:\n",
    "\n",
    "\n",
    "$A = D^t . D =  $$\\begin{pmatrix}2 & -1 & 0 & ... & 0\\\\\\ -1 & 2 & -1 & ... & ... \\\\\\ 0 & ... & ... & ... & 0 \\\\\\ 0 & ... & -1 & 2 & -1\\\\\\ 0 & ... & 0 & 2 & -1\\end{pmatrix}$ "
   ]
  },
  {
   "cell_type": "markdown",
   "metadata": {},
   "source": [
    "## II. Résolution du probléme :"
   ]
  },
  {
   "cell_type": "markdown",
   "metadata": {},
   "source": [
    "### (a) Initialiser la matrice du système $K ∈ ℝ^{n*n} $ et le vecteur $f ∈ ℝ^n $ :\n",
    "Initialisation de la matrice K, on fixera la dimension $n = 100 $, puis à l'aide de la formule suivante : $K = (In ⊗ D^t . D) + (D^t . D ⊗ In)$, en explicitant le calcul on trouve que:\n",
    "\n",
    "\n",
    "$A = D^t . D =  $$\\begin{pmatrix}2 & -1 & 0 & ... & 0\\\\\\ -1 & 2 & -1 & ... & ... \\\\\\ 0 & ... & ... & ... & 0 \\\\\\ 0 & ... & -1 & 2 & -1\\\\\\ 0 & ... & 0 & 2 & -1\\end{pmatrix}$ <br/><br/>\n",
    "Ou la matrice $In$ est la matrice identité, $⊗$ est le produit de Kronecker."
   ]
  },
  {
   "cell_type": "code",
   "execution_count": 740,
   "metadata": {},
   "outputs": [],
   "source": [
    "n = 5\n",
    "I = eye(n)\n",
    "A = diags([-1,2,-1], [-1,0,1], shape = (n, n))"
   ]
  },
  {
   "cell_type": "code",
   "execution_count": 741,
   "metadata": {},
   "outputs": [
    {
     "name": "stdout",
     "output_type": "stream",
     "text": [
      "  (0, 0)\t1.0\n",
      "  (1, 1)\t1.0\n",
      "  (2, 2)\t1.0\n",
      "  (3, 3)\t1.0\n",
      "  (4, 4)\t1.0\n",
      "  (1, 0)\t-1.0\n",
      "  (2, 1)\t-1.0\n",
      "  (3, 2)\t-1.0\n",
      "  (4, 3)\t-1.0\n",
      "  (0, 0)\t2.0\n",
      "  (1, 1)\t2.0\n",
      "  (2, 2)\t2.0\n",
      "  (3, 3)\t2.0\n",
      "  (4, 4)\t2.0\n",
      "  (0, 1)\t-1.0\n",
      "  (1, 2)\t-1.0\n",
      "  (2, 3)\t-1.0\n",
      "  (3, 4)\t-1.0\n"
     ]
    }
   ],
   "source": [
    "print(I)# matrice identité\n",
    "print(A)"
   ]
  },
  {
   "cell_type": "code",
   "execution_count": 742,
   "metadata": {},
   "outputs": [
    {
     "data": {
      "text/plain": [
       "<matplotlib.lines.Line2D at 0x7f74a0ae65c0>"
      ]
     },
     "execution_count": 742,
     "metadata": {},
     "output_type": "execute_result"
    },
    {
     "data": {
      "image/png": "[encoded data removed]",
      "text/plain": [
       "<Figure size 432x288 with 1 Axes>"
      ]
     },
     "metadata": {
      "needs_background": "light"
     },
     "output_type": "display_data"
    }
   ],
   "source": [
    "kron(A, I)#le produit de Kronecker\n",
    "spy(A)\n",
    "spy(kron(A, I))\n",
    "K = kron(I, A) + kron(A, I)\n",
    "spy(K)"
   ]
  },
  {
   "cell_type": "code",
   "execution_count": 743,
   "metadata": {
    "scrolled": true
   },
   "outputs": [
    {
     "name": "stdout",
     "output_type": "stream",
     "text": [
      "  (0, 0)\t4.0\n",
      "  (0, 1)\t-1.0\n",
      "  (0, 2)\t0.0\n",
      "  (0, 3)\t0.0\n",
      "  (0, 4)\t0.0\n",
      "  (1, 0)\t-1.0\n",
      "  (1, 1)\t4.0\n",
      "  (1, 2)\t-1.0\n",
      "  (1, 3)\t0.0\n",
      "  (1, 4)\t0.0\n",
      "  (2, 0)\t0.0\n",
      "  (2, 1)\t-1.0\n",
      "  (2, 2)\t4.0\n",
      "  (2, 3)\t-1.0\n",
      "  (2, 4)\t0.0\n",
      "  (3, 0)\t0.0\n",
      "  (3, 1)\t0.0\n",
      "  (3, 2)\t-1.0\n",
      "  (3, 3)\t4.0\n",
      "  (3, 4)\t-1.0\n",
      "  (4, 0)\t0.0\n",
      "  (4, 1)\t0.0\n",
      "  (4, 2)\t0.0\n",
      "  (4, 3)\t-1.0\n",
      "  (4, 4)\t4.0\n",
      "  :\t:\n",
      "  (20, 20)\t4.0\n",
      "  (20, 21)\t-1.0\n",
      "  (20, 22)\t0.0\n",
      "  (20, 23)\t0.0\n",
      "  (20, 24)\t0.0\n",
      "  (21, 20)\t-1.0\n",
      "  (21, 21)\t4.0\n",
      "  (21, 22)\t-1.0\n",
      "  (21, 23)\t0.0\n",
      "  (21, 24)\t0.0\n",
      "  (22, 20)\t0.0\n",
      "  (22, 21)\t-1.0\n",
      "  (22, 22)\t4.0\n",
      "  (22, 23)\t-1.0\n",
      "  (22, 24)\t0.0\n",
      "  (23, 20)\t0.0\n",
      "  (23, 21)\t0.0\n",
      "  (23, 22)\t-1.0\n",
      "  (23, 23)\t4.0\n",
      "  (23, 24)\t-1.0\n",
      "  (24, 20)\t0.0\n",
      "  (24, 21)\t0.0\n",
      "  (24, 22)\t0.0\n",
      "  (24, 23)\t-1.0\n",
      "  (24, 24)\t4.0\n"
     ]
    }
   ],
   "source": [
    "print(K)"
   ]
  },
  {
   "cell_type": "markdown",
   "metadata": {},
   "source": [
    "nous avons fini avec l'initialisation de la matrice du système $K$, alors maintenant, on va initialiser le vecteur $f ∈ ℝ^n$ tel que pour tout n il faut utiliser les vecteurs $e1$ et $en$ de la base canonique de $ℝ^n$ où:\n",
    "$f = (e1 ⊗ h) + (g ⊗ e1) + (en ⊗ b) + (d ⊗ en)$ <br/>\n",
    "$e1 = $$\\begin{pmatrix}1 \\\\\\ 0 \\\\\\ . \\\\\\ .\\\\\\ .\\\\\\\\ 0\\end{pmatrix}$ &nbsp;&nbsp;&nbsp;&nbsp;&nbsp;&nbsp; , &nbsp;&nbsp;&nbsp;&nbsp;&nbsp;&nbsp; $ en = $$\\begin{pmatrix}0 \\\\\\ 0 \\\\\\ . \\\\\\ .\\\\\\ .\\\\\\\\ 1\\end{pmatrix}$ &nbsp;&nbsp;&nbsp;&nbsp;&nbsp;&nbsp; , &nbsp;&nbsp;&nbsp;&nbsp;&nbsp;&nbsp; $ h = $$\\begin{pmatrix}1 \\\\\\ 1 \\\\\\ . \\\\\\ .\\\\\\ .\\\\\\\\ 1\\end{pmatrix}$  &nbsp;&nbsp;&nbsp;&nbsp;&nbsp;&nbsp; , &nbsp;&nbsp;&nbsp;&nbsp;&nbsp;&nbsp; $ g = $$\\begin{pmatrix}0 \\\\\\ 0 \\\\\\ . \\\\\\ .\\\\\\ .\\\\\\\\ 0\\end{pmatrix}$  &nbsp;&nbsp;&nbsp;&nbsp;&nbsp;&nbsp; , &nbsp;&nbsp;&nbsp;&nbsp;&nbsp;&nbsp; $ b = $$\\begin{pmatrix}0 \\\\\\ 0 \\\\\\ . \\\\\\ .\\\\\\ .\\\\\\\\ 0\\end{pmatrix}$  &nbsp;&nbsp;&nbsp;&nbsp;&nbsp;&nbsp; , &nbsp;&nbsp;&nbsp;&nbsp;&nbsp;&nbsp; $ d = $$\\begin{pmatrix}1 \\\\\\ 1 \\\\\\ . \\\\\\ .\\\\\\ .\\\\\\\\ 1\\end{pmatrix}$ <br/>"
   ]
  },
  {
   "cell_type": "code",
   "execution_count": 744,
   "metadata": {},
   "outputs": [],
   "source": [
    "e1 = 0 * ones(n)\n",
    "e1[0] = 1\n",
    "en = 0 * ones(n) \n",
    "en[n - 1] = 1"
   ]
  },
  {
   "cell_type": "code",
   "execution_count": 745,
   "metadata": {},
   "outputs": [
    {
     "name": "stdout",
     "output_type": "stream",
     "text": [
      "e1 =  [ 1.  0.  0.  0.  0.]\n",
      "en =  [ 0.  0.  0.  0.  1.]\n"
     ]
    }
   ],
   "source": [
    "print(\"e1 = \", e1)\n",
    "print(\"en = \", en)"
   ]
  },
  {
   "cell_type": "code",
   "execution_count": 746,
   "metadata": {},
   "outputs": [],
   "source": [
    "h = 1 * ones(n)\n",
    "g = 0 * ones(n)\n",
    "b = 0 * ones(n)\n",
    "d = 1 * ones(n)"
   ]
  },
  {
   "cell_type": "code",
   "execution_count": 747,
   "metadata": {},
   "outputs": [
    {
     "name": "stdout",
     "output_type": "stream",
     "text": [
      "h =  [ 1.  1.  1.  1.  1.]\n",
      "g =  [ 0.  0.  0.  0.  0.]\n",
      "b =  [ 0.  0.  0.  0.  0.]\n",
      "d =  [ 1.  1.  1.  1.  1.]\n"
     ]
    }
   ],
   "source": [
    "print(\"h = \", h)\n",
    "print(\"g = \", g)\n",
    "print(\"b = \", b)\n",
    "print(\"d = \", d)"
   ]
  },
  {
   "cell_type": "code",
   "execution_count": 748,
   "metadata": {},
   "outputs": [],
   "source": [
    "f = kron(e1, h) + kron(g, e1) + kron(en, b) + kron(d, en)\n",
    "f = transpose(f)"
   ]
  },
  {
   "cell_type": "code",
   "execution_count": 749,
   "metadata": {},
   "outputs": [
    {
     "name": "stdout",
     "output_type": "stream",
     "text": [
      "  (0, 0)\t1.0\n",
      "  (1, 0)\t1.0\n",
      "  (2, 0)\t1.0\n",
      "  (3, 0)\t1.0\n",
      "  (4, 0)\t2.0\n",
      "  (5, 0)\t0.0\n",
      "  (6, 0)\t0.0\n",
      "  (7, 0)\t0.0\n",
      "  (8, 0)\t0.0\n",
      "  (9, 0)\t1.0\n",
      "  (10, 0)\t0.0\n",
      "  (11, 0)\t0.0\n",
      "  (12, 0)\t0.0\n",
      "  (13, 0)\t0.0\n",
      "  (14, 0)\t1.0\n",
      "  (15, 0)\t0.0\n",
      "  (16, 0)\t0.0\n",
      "  (17, 0)\t0.0\n",
      "  (18, 0)\t0.0\n",
      "  (19, 0)\t1.0\n",
      "  (20, 0)\t0.0\n",
      "  (21, 0)\t0.0\n",
      "  (22, 0)\t0.0\n",
      "  (23, 0)\t0.0\n",
      "  (24, 0)\t1.0\n"
     ]
    }
   ],
   "source": [
    "print(f)"
   ]
  },
  {
   "cell_type": "markdown",
   "metadata": {},
   "source": [
    "### (b) Résolution des problèmes de moindres carrés :"
   ]
  },
  {
   "cell_type": "markdown",
   "metadata": {},
   "source": [
    "Dans un premier temps, on va utiliser le système linéaire : $K . u = f$ pour chercher une solution approchée du système dans un sous-espace vectoriel $E ∈ ℝ^n$ de dimension $k << n$, on note la matrice $V ∈ ℝ^{n * K}$ ayant pour colonnes les k vectuers d'une base du sous espace E. tout vecteur  $v ∈ E $ s'écrit donc $v = V * α$ avec $α ∈ R^k$.\n",
    "La solution $v ∈ E$ est donc obtenue en résolvant le problème des moindres carrés.<br />\n",
    "&nbsp;&nbsp;&nbsp;&nbsp;&nbsp;&nbsp;&nbsp;&nbsp;&nbsp;&nbsp;&nbsp;&nbsp;$min ||K . V . α - f||^2$&nbsp;&nbsp;&nbsp;&nbsp;&nbsp;&nbsp;&nbsp;&nbsp;&nbsp;&nbsp;&nbsp;&nbsp;(1)<br />\n",
    "&nbsp;&nbsp;&nbsp;&nbsp;&nbsp;&nbsp;&nbsp;&nbsp;&nbsp;&nbsp;&nbsp;&nbsp;$α ∈ R^k$"
   ]
  },
  {
   "cell_type": "code",
   "execution_count": 750,
   "metadata": {},
   "outputs": [],
   "source": [
    "v0 = solve(K.toarray(), f.toarray())"
   ]
  },
  {
   "cell_type": "code",
   "execution_count": 751,
   "metadata": {},
   "outputs": [
    {
     "name": "stdout",
     "output_type": "stream",
     "text": [
      "[[ 0.5       ]\n",
      " [ 0.7010101 ]\n",
      " [ 0.8040404 ]\n",
      " [ 0.87474747]\n",
      " [ 0.93737374]\n",
      " [ 0.2989899 ]\n",
      " [ 0.5       ]\n",
      " [ 0.64040404]\n",
      " [ 0.75757576]\n",
      " [ 0.87474747]\n",
      " [ 0.1959596 ]\n",
      " [ 0.35959596]\n",
      " [ 0.5       ]\n",
      " [ 0.64040404]\n",
      " [ 0.8040404 ]\n",
      " [ 0.12525253]\n",
      " [ 0.24242424]\n",
      " [ 0.35959596]\n",
      " [ 0.5       ]\n",
      " [ 0.7010101 ]\n",
      " [ 0.06262626]\n",
      " [ 0.12525253]\n",
      " [ 0.1959596 ]\n",
      " [ 0.2989899 ]\n",
      " [ 0.5       ]]\n"
     ]
    }
   ],
   "source": [
    "print(v0)#une première aproximation de u"
   ]
  },
  {
   "cell_type": "markdown",
   "metadata": {},
   "source": [
    "Là, o, puet chercher une approximation $v$ dans le sous espace affine $v0 + E$, sachant que pour tout vecteur $v ∈ v0 + E$ s'écrit $v = v0 + V * α$, cela conduit à considérer le problème de moindres carrés.<br />\n",
    "&nbsp;&nbsp;&nbsp;&nbsp;&nbsp;&nbsp;&nbsp;&nbsp;&nbsp;&nbsp;&nbsp;&nbsp;$min ||K . V . α - r0||^2$&nbsp;&nbsp;&nbsp;&nbsp;&nbsp;&nbsp;&nbsp;&nbsp;&nbsp;&nbsp;&nbsp;&nbsp;(2)<br />\n",
    "&nbsp;&nbsp;&nbsp;&nbsp;&nbsp;&nbsp;&nbsp;&nbsp;&nbsp;&nbsp;&nbsp;&nbsp;$α ∈ R^k$<br />\n",
    "Avec $ r0 = f - k * v0 $ est le résidu obtenu pour l'approximation $v0$.<br />\n",
    "Soit $αk$ la solution du problème (2) alors : $ rk = r0 - K * V * αk $ le résidu obtenu à partir de $αk$"
   ]
  },
  {
   "cell_type": "code",
   "execution_count": 752,
   "metadata": {},
   "outputs": [],
   "source": [
    "r0 = f - K * v0#le résidu obtenu par l'approximation v0"
   ]
  },
  {
   "cell_type": "code",
   "execution_count": 753,
   "metadata": {},
   "outputs": [
    {
     "name": "stdout",
     "output_type": "stream",
     "text": [
      "[[  0.00000000e+00]\n",
      " [ -4.44089210e-16]\n",
      " [  2.22044605e-16]\n",
      " [  0.00000000e+00]\n",
      " [  0.00000000e+00]\n",
      " [  1.11022302e-16]\n",
      " [  2.22044605e-16]\n",
      " [ -1.11022302e-16]\n",
      " [  4.44089210e-16]\n",
      " [  5.55111512e-16]\n",
      " [  2.77555756e-17]\n",
      " [  1.11022302e-16]\n",
      " [  1.66533454e-16]\n",
      " [ -3.88578059e-16]\n",
      " [  0.00000000e+00]\n",
      " [  1.38777878e-17]\n",
      " [  8.32667268e-17]\n",
      " [ -5.55111512e-17]\n",
      " [  2.22044605e-16]\n",
      " [ -4.44089210e-16]\n",
      " [  0.00000000e+00]\n",
      " [  0.00000000e+00]\n",
      " [  1.11022302e-16]\n",
      " [  2.22044605e-16]\n",
      " [  0.00000000e+00]]\n"
     ]
    }
   ],
   "source": [
    "print(r0)"
   ]
  },
  {
   "cell_type": "markdown",
   "metadata": {},
   "source": [
    "On va implémenter le procédé d'orthonormalisation de Gram-Schmidt en utilisant les bibliothèques systèmes de numpy, où $Q$ est un matrice orthogonale c'est à dire $A^t . A = A . A^t = In$ et $R$ est une matrice triangulaire supérieure."
   ]
  },
  {
   "cell_type": "code",
   "execution_count": 754,
   "metadata": {},
   "outputs": [],
   "source": [
    "def gram_schmidt(M):\n",
    "    Q, R = np.linalg.qr(M)\n",
    "    return Q, R"
   ]
  },
  {
   "cell_type": "code",
   "execution_count": 755,
   "metadata": {},
   "outputs": [
    {
     "name": "stdout",
     "output_type": "stream",
     "text": [
      "([1.1558622765803136e-15], matrix([[ 0.5       ],\n",
      "        [ 0.7010101 ],\n",
      "        [ 0.8040404 ],\n",
      "        [ 0.87474747],\n",
      "        [ 0.93737374],\n",
      "        [ 0.2989899 ],\n",
      "        [ 0.5       ],\n",
      "        [ 0.64040404],\n",
      "        [ 0.75757576],\n",
      "        [ 0.87474747],\n",
      "        [ 0.1959596 ],\n",
      "        [ 0.35959596],\n",
      "        [ 0.5       ],\n",
      "        [ 0.64040404],\n",
      "        [ 0.8040404 ],\n",
      "        [ 0.12525253],\n",
      "        [ 0.24242424],\n",
      "        [ 0.35959596],\n",
      "        [ 0.5       ],\n",
      "        [ 0.7010101 ],\n",
      "        [ 0.06262626],\n",
      "        [ 0.12525253],\n",
      "        [ 0.1959596 ],\n",
      "        [ 0.2989899 ],\n",
      "        [ 0.5       ]]), matrix([[  0.00000000e+00],\n",
      "        [ -4.44089210e-16],\n",
      "        [  2.22044605e-16],\n",
      "        [  0.00000000e+00],\n",
      "        [  0.00000000e+00],\n",
      "        [  1.11022302e-16],\n",
      "        [  2.22044605e-16],\n",
      "        [ -1.11022302e-16],\n",
      "        [  4.44089210e-16],\n",
      "        [  5.55111512e-16],\n",
      "        [  2.77555756e-17],\n",
      "        [  1.11022302e-16],\n",
      "        [  1.66533454e-16],\n",
      "        [ -3.88578059e-16],\n",
      "        [  0.00000000e+00],\n",
      "        [  1.38777878e-17],\n",
      "        [  8.32667268e-17],\n",
      "        [ -5.55111512e-17],\n",
      "        [  2.22044605e-16],\n",
      "        [ -4.44089210e-16],\n",
      "        [  0.00000000e+00],\n",
      "        [  0.00000000e+00],\n",
      "        [  1.11022302e-16],\n",
      "        [  2.22044605e-16],\n",
      "        [  0.00000000e+00]]), matrix([[-0.05851657],\n",
      "        [ 0.39011048],\n",
      "        [-0.25357182],\n",
      "        [ 0.11703315],\n",
      "        [ 0.09752762],\n",
      "        [-0.03413467],\n",
      "        [-0.21456077],\n",
      "        [ 0.26332458],\n",
      "        [-0.30233563],\n",
      "        [-0.31208839],\n",
      "        [ 0.02194371],\n",
      "        [ 0.00975276],\n",
      "        [-0.19505524],\n",
      "        [ 0.41936877],\n",
      "        [-0.04876381],\n",
      "        [ 0.00975276],\n",
      "        [-0.04632562],\n",
      "        [ 0.14141505],\n",
      "        [-0.27307734],\n",
      "        [ 0.35109944],\n",
      "        [ 0.00243819],\n",
      "        [ 0.03413467],\n",
      "        [-0.04876381],\n",
      "        [-0.09752762],\n",
      "        [-0.03901105]]), matrix([[ -5.69183894e-15]]))\n"
     ]
    }
   ],
   "source": [
    "def moindres_carrés(K, f, v0, k):\n",
    "    residus = [norm(r0)]\n",
    "    V = r0\n",
    "    M = K * V\n",
    "    Q, R = gram_schmidt(M)\n",
    "    q = (1 / norm(Q)) * Q\n",
    "    rk = r0\n",
    "    \n",
    "    if (k <= 1):\n",
    "        α = solve_triangular(R, Q.transpose() * r0, lower = False)\n",
    "        v = v0 + V * α\n",
    "        return residus, v, V, Q, R\n",
    "    \n",
    "    for i in range(2, k + 1):\n",
    "        temp = q.transpose() * r0\n",
    "        rk = rk - q * temp\n",
    "        a = K * rk\n",
    "        b = Q.transpose() * a\n",
    "        s = norm(a - Q * b)\n",
    "        q = (1 / s) * (a - Q * b)\n",
    "        \n",
    "        V = bmat([[V, rk], [None, None]])\n",
    "        R = bmat([[R, b], [None, s]])\n",
    "        Q = bmat([[Q, q], [None, None]])\n",
    "        \n",
    "        residus.append(norm(rk))\n",
    "    \n",
    "    α = solve_triangular(R.todense(), Q.transpose() * r0, lower = False)\n",
    "    v = v0 + V * α\n",
    "    return residus, v, V, Q, R\n",
    "        \n",
    "print(moindres_carrés(K, f, v0, 1))"
   ]
  },
  {
   "cell_type": "markdown",
   "metadata": {},
   "source": [
    "### (c) Implémentation de la méthode restarting :"
   ]
  },
  {
   "cell_type": "code",
   "execution_count": null,
   "metadata": {},
   "outputs": [],
   "source": []
  }
 ],
 "metadata": {
  "kernelspec": {
   "display_name": "Python 3",
   "language": "python",
   "name": "python3"
  },
  "language_info": {
   "codemirror_mode": {
    "name": "ipython",
    "version": 3
   },
   "file_extension": ".py",
   "mimetype": "text/x-python",
   "name": "python",
   "nbconvert_exporter": "python",
   "pygments_lexer": "ipython3",
   "version": "3.6.7"
  }
 },
 "nbformat": 4,
 "nbformat_minor": 1
}
