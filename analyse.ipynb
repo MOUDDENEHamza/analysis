{
 "cells": [
  {
   "cell_type": "markdown",
   "metadata": {},
   "source": [
    "# Analyse de données et grands systèmes linéaires"
   ]
  },
  {
   "cell_type": "markdown",
   "metadata": {},
   "source": [
    "### Importation des bibliothèques système permettant l'éxecution du programme"
   ]
  },
  {
   "cell_type": "code",
   "execution_count": 23,
   "metadata": {},
   "outputs": [],
   "source": [
    "%matplotlib inline"
   ]
  },
  {
   "cell_type": "code",
   "execution_count": 61,
   "metadata": {},
   "outputs": [],
   "source": [
    "from matplotlib.pyplot import * \n",
    "from numpy import * \n",
    "from scipy import * \n",
    "from scipy.sparse import * \n",
    "from numpy.linalg import *"
   ]
  },
  {
   "cell_type": "markdown",
   "metadata": {},
   "source": [
    "## I. Introduction au problème :"
   ]
  },
  {
   "cell_type": "markdown",
   "metadata": {},
   "source": [
    "Initialisation de la matrice K, on fixera la dimension $n = 100 $, puis à l'aide de la formule suivante : $K = (In ⊗ D^t . D) + (D^t . D ⊗ In)$, en explicitant le calcul on trouve que:\n",
    "\n",
    "\n",
    "$A = D^t . D =  $$\\begin{pmatrix}2 & -1 & 0 & ... & 0\\\\\\ -1 & 2 & -1 & ... & ... \\\\\\ 0 & ... & ... & ... & 0 \\\\\\ 0 & ... & -1 & 2 & -1\\\\\\ 0 & ... & 0 & 2 & -1\\end{pmatrix}$ "
   ]
  },
  {
   "cell_type": "markdown",
   "metadata": {},
   "source": [
    "## II. Résolution du probléme :"
   ]
  },
  {
   "cell_type": "markdown",
   "metadata": {},
   "source": [
    "### (a) Initialiser la matrice du système $K ∈ ℝ^{n*n} $ et le vecteur $f ∈ ℝ^n $ :\n",
    "Initialisation de la matrice K, on fixera la dimension $n = 100 $, puis à l'aide de la formule suivante : $K = (In ⊗ D^t . D) + (D^t . D ⊗ In)$, en explicitant le calcul on trouve que:\n",
    "\n",
    "\n",
    "$A = D^t . D =  $$\\begin{pmatrix}2 & -1 & 0 & ... & 0\\\\\\ -1 & 2 & -1 & ... & ... \\\\\\ 0 & ... & ... & ... & 0 \\\\\\ 0 & ... & -1 & 2 & -1\\\\\\ 0 & ... & 0 & 2 & -1\\end{pmatrix}$ <br/><br/>\n",
    "Ou la matrice $In$ est la matrice identité, $⊗$ est le produit de Kronecker."
   ]
  },
  {
   "cell_type": "code",
   "execution_count": 62,
   "metadata": {},
   "outputs": [],
   "source": [
    "n = 5\n",
    "I = eye(n)\n",
    "A = diags([-1,2,-1], [-1,0,1], shape = (n, n))"
   ]
  },
  {
   "cell_type": "code",
   "execution_count": 63,
   "metadata": {},
   "outputs": [
    {
     "name": "stdout",
     "output_type": "stream",
     "text": [
      "  (0, 0)\t1.0\n",
      "  (1, 1)\t1.0\n",
      "  (2, 2)\t1.0\n",
      "  (3, 3)\t1.0\n",
      "  (4, 4)\t1.0\n",
      "  (1, 0)\t-1.0\n",
      "  (2, 1)\t-1.0\n",
      "  (3, 2)\t-1.0\n",
      "  (4, 3)\t-1.0\n",
      "  (0, 0)\t2.0\n",
      "  (1, 1)\t2.0\n",
      "  (2, 2)\t2.0\n",
      "  (3, 3)\t2.0\n",
      "  (4, 4)\t2.0\n",
      "  (0, 1)\t-1.0\n",
      "  (1, 2)\t-1.0\n",
      "  (2, 3)\t-1.0\n",
      "  (3, 4)\t-1.0\n"
     ]
    }
   ],
   "source": [
    "print(I)# matrice identité\n",
    "print(A)"
   ]
  },
  {
   "cell_type": "code",
   "execution_count": 64,
   "metadata": {},
   "outputs": [
    {
     "data": {
      "text/plain": [
       "<matplotlib.lines.Line2D at 0x7f9fe10980b8>"
      ]
     },
     "execution_count": 64,
     "metadata": {},
     "output_type": "execute_result"
    },
    {
     "data": {
      "image/png": "[encoded data removed]",
      "text/plain": [
       "<Figure size 432x288 with 1 Axes>"
      ]
     },
     "metadata": {
      "needs_background": "light"
     },
     "output_type": "display_data"
    }
   ],
   "source": [
    "kron(A, I)#le produit de Kronecker\n",
    "spy(A)\n",
    "spy(kron(A, I))\n",
    "K = kron(I, A) + kron(A, I)\n",
    "spy(K)"
   ]
  },
  {
   "cell_type": "code",
   "execution_count": 65,
   "metadata": {
    "scrolled": true
   },
   "outputs": [
    {
     "name": "stdout",
     "output_type": "stream",
     "text": [
      "  (0, 0)\t4.0\n",
      "  (0, 1)\t-1.0\n",
      "  (0, 2)\t0.0\n",
      "  (0, 3)\t0.0\n",
      "  (0, 4)\t0.0\n",
      "  (1, 0)\t-1.0\n",
      "  (1, 1)\t4.0\n",
      "  (1, 2)\t-1.0\n",
      "  (1, 3)\t0.0\n",
      "  (1, 4)\t0.0\n",
      "  (2, 0)\t0.0\n",
      "  (2, 1)\t-1.0\n",
      "  (2, 2)\t4.0\n",
      "  (2, 3)\t-1.0\n",
      "  (2, 4)\t0.0\n",
      "  (3, 0)\t0.0\n",
      "  (3, 1)\t0.0\n",
      "  (3, 2)\t-1.0\n",
      "  (3, 3)\t4.0\n",
      "  (3, 4)\t-1.0\n",
      "  (4, 0)\t0.0\n",
      "  (4, 1)\t0.0\n",
      "  (4, 2)\t0.0\n",
      "  (4, 3)\t-1.0\n",
      "  (4, 4)\t4.0\n",
      "  :\t:\n",
      "  (20, 20)\t4.0\n",
      "  (20, 21)\t-1.0\n",
      "  (20, 22)\t0.0\n",
      "  (20, 23)\t0.0\n",
      "  (20, 24)\t0.0\n",
      "  (21, 20)\t-1.0\n",
      "  (21, 21)\t4.0\n",
      "  (21, 22)\t-1.0\n",
      "  (21, 23)\t0.0\n",
      "  (21, 24)\t0.0\n",
      "  (22, 20)\t0.0\n",
      "  (22, 21)\t-1.0\n",
      "  (22, 22)\t4.0\n",
      "  (22, 23)\t-1.0\n",
      "  (22, 24)\t0.0\n",
      "  (23, 20)\t0.0\n",
      "  (23, 21)\t0.0\n",
      "  (23, 22)\t-1.0\n",
      "  (23, 23)\t4.0\n",
      "  (23, 24)\t-1.0\n",
      "  (24, 20)\t0.0\n",
      "  (24, 21)\t0.0\n",
      "  (24, 22)\t0.0\n",
      "  (24, 23)\t-1.0\n",
      "  (24, 24)\t4.0\n"
     ]
    }
   ],
   "source": [
    "print(K)"
   ]
  },
  {
   "cell_type": "markdown",
   "metadata": {},
   "source": [
    "nous avons fini avec l'initialisation de la matrice du système $K$, alors maintenant, on va initialiser le vecteur $f ∈ ℝ^n$ tel que pour tout n il faut utiliser les vecteurs $e1$ et $en$ de la base canonique de $ℝ^n$ où:\n",
    "$f = (e1 ⊗ h) + (g ⊗ e1) + (en ⊗ b) + (d ⊗ en)$ <br/>\n",
    "$e1 = $$\\begin{pmatrix}1 \\\\\\ 0 \\\\\\ . \\\\\\ .\\\\\\ .\\\\\\\\ 0\\end{pmatrix}$ &nbsp;&nbsp;&nbsp;&nbsp;&nbsp;&nbsp; , &nbsp;&nbsp;&nbsp;&nbsp;&nbsp;&nbsp; $ en = $$\\begin{pmatrix}0 \\\\\\ 0 \\\\\\ . \\\\\\ .\\\\\\ .\\\\\\\\ 1\\end{pmatrix}$ &nbsp;&nbsp;&nbsp;&nbsp;&nbsp;&nbsp; , &nbsp;&nbsp;&nbsp;&nbsp;&nbsp;&nbsp; $ h = $$\\begin{pmatrix}1 \\\\\\ 1 \\\\\\ . \\\\\\ .\\\\\\ .\\\\\\\\ 1\\end{pmatrix}$  &nbsp;&nbsp;&nbsp;&nbsp;&nbsp;&nbsp; , &nbsp;&nbsp;&nbsp;&nbsp;&nbsp;&nbsp; $ g = $$\\begin{pmatrix}0 \\\\\\ 0 \\\\\\ . \\\\\\ .\\\\\\ .\\\\\\\\ 0\\end{pmatrix}$  &nbsp;&nbsp;&nbsp;&nbsp;&nbsp;&nbsp; , &nbsp;&nbsp;&nbsp;&nbsp;&nbsp;&nbsp; $ b = $$\\begin{pmatrix}0 \\\\\\ 0 \\\\\\ . \\\\\\ .\\\\\\ .\\\\\\\\ 0\\end{pmatrix}$  &nbsp;&nbsp;&nbsp;&nbsp;&nbsp;&nbsp; , &nbsp;&nbsp;&nbsp;&nbsp;&nbsp;&nbsp; $ d = $$\\begin{pmatrix}1 \\\\\\ 1 \\\\\\ . \\\\\\ .\\\\\\ .\\\\\\\\ 1\\end{pmatrix}$ <br/>"
   ]
  },
  {
   "cell_type": "code",
   "execution_count": 66,
   "metadata": {},
   "outputs": [],
   "source": [
    "e1 = 0 * ones(n)\n",
    "e1[0] = 1\n",
    "en = 0 * ones(n) \n",
    "en[n - 1] = 1"
   ]
  },
  {
   "cell_type": "code",
   "execution_count": 67,
   "metadata": {},
   "outputs": [
    {
     "name": "stdout",
     "output_type": "stream",
     "text": [
      "e1 =  [ 1.  0.  0.  0.  0.]\n",
      "en =  [ 0.  0.  0.  0.  1.]\n"
     ]
    }
   ],
   "source": [
    "print(\"e1 = \", e1)\n",
    "print(\"en = \", en)"
   ]
  },
  {
   "cell_type": "code",
   "execution_count": 68,
   "metadata": {},
   "outputs": [],
   "source": [
    "h = 1 * ones(n)\n",
    "g = 0 * ones(n)\n",
    "b = 0 * ones(n)\n",
    "d = 1 * ones(n)"
   ]
  },
  {
   "cell_type": "code",
   "execution_count": 69,
   "metadata": {},
   "outputs": [
    {
     "name": "stdout",
     "output_type": "stream",
     "text": [
      "h =  [ 1.  1.  1.  1.  1.]\n",
      "g =  [ 0.  0.  0.  0.  0.]\n",
      "b =  [ 0.  0.  0.  0.  0.]\n",
      "d =  [ 1.  1.  1.  1.  1.]\n"
     ]
    }
   ],
   "source": [
    "print(\"h = \", h)\n",
    "print(\"g = \", g)\n",
    "print(\"b = \", b)\n",
    "print(\"d = \", d)"
   ]
  },
  {
   "cell_type": "code",
   "execution_count": 70,
   "metadata": {},
   "outputs": [],
   "source": [
    "f = kron(e1, h) + kron(g, e1) + kron(en, b) + kron(d, en)\n",
    "f = transpose(f)"
   ]
  },
  {
   "cell_type": "code",
   "execution_count": 71,
   "metadata": {},
   "outputs": [
    {
     "name": "stdout",
     "output_type": "stream",
     "text": [
      "  (0, 0)\t1.0\n",
      "  (1, 0)\t1.0\n",
      "  (2, 0)\t1.0\n",
      "  (3, 0)\t1.0\n",
      "  (4, 0)\t2.0\n",
      "  (5, 0)\t0.0\n",
      "  (6, 0)\t0.0\n",
      "  (7, 0)\t0.0\n",
      "  (8, 0)\t0.0\n",
      "  (9, 0)\t1.0\n",
      "  (10, 0)\t0.0\n",
      "  (11, 0)\t0.0\n",
      "  (12, 0)\t0.0\n",
      "  (13, 0)\t0.0\n",
      "  (14, 0)\t1.0\n",
      "  (15, 0)\t0.0\n",
      "  (16, 0)\t0.0\n",
      "  (17, 0)\t0.0\n",
      "  (18, 0)\t0.0\n",
      "  (19, 0)\t1.0\n",
      "  (20, 0)\t0.0\n",
      "  (21, 0)\t0.0\n",
      "  (22, 0)\t0.0\n",
      "  (23, 0)\t0.0\n",
      "  (24, 0)\t1.0\n"
     ]
    }
   ],
   "source": [
    "print(f)"
   ]
  },
  {
   "cell_type": "markdown",
   "metadata": {},
   "source": [
    "### (b) Résolution des problèmes de moindres carrés :"
   ]
  },
  {
   "cell_type": "markdown",
   "metadata": {},
   "source": [
    "Dans un premier temps, on va utiliser le système linéaire : $K . u = f$ pour chercher une solution approchée du système dans un sous-espace vectoriel $E ∈ ℝ^n$ de dimension $k << n$, on note la matrice $V ∈ ℝ^{n * K}$ ayant pour colonnes les k vectuers d'une base du sous espace E. tout vecteur  $v ∈ E $ s'écrit donc $v = V * α$ avec $α ∈ R^k$.\n",
    "La solution $v ∈ E$ est donc obtenue en résolvant le problème des moindres carrés.<br />\n",
    "&nbsp;&nbsp;&nbsp;&nbsp;&nbsp;&nbsp;&nbsp;&nbsp;&nbsp;&nbsp;&nbsp;&nbsp;$min ||K . V . α - f||^2$&nbsp;&nbsp;&nbsp;&nbsp;&nbsp;&nbsp;&nbsp;&nbsp;&nbsp;&nbsp;&nbsp;&nbsp;(1)<br />\n",
    "&nbsp;&nbsp;&nbsp;&nbsp;&nbsp;&nbsp;&nbsp;&nbsp;&nbsp;&nbsp;&nbsp;&nbsp;$α ∈ R^k$"
   ]
  },
  {
   "cell_type": "code",
   "execution_count": 72,
   "metadata": {},
   "outputs": [],
   "source": [
    "v0 = solve(K.toarray(), f.toarray())"
   ]
  },
  {
   "cell_type": "code",
   "execution_count": 73,
   "metadata": {},
   "outputs": [
    {
     "name": "stdout",
     "output_type": "stream",
     "text": [
      "[[ 0.5       ]\n",
      " [ 0.7010101 ]\n",
      " [ 0.8040404 ]\n",
      " [ 0.87474747]\n",
      " [ 0.93737374]\n",
      " [ 0.2989899 ]\n",
      " [ 0.5       ]\n",
      " [ 0.64040404]\n",
      " [ 0.75757576]\n",
      " [ 0.87474747]\n",
      " [ 0.1959596 ]\n",
      " [ 0.35959596]\n",
      " [ 0.5       ]\n",
      " [ 0.64040404]\n",
      " [ 0.8040404 ]\n",
      " [ 0.12525253]\n",
      " [ 0.24242424]\n",
      " [ 0.35959596]\n",
      " [ 0.5       ]\n",
      " [ 0.7010101 ]\n",
      " [ 0.06262626]\n",
      " [ 0.12525253]\n",
      " [ 0.1959596 ]\n",
      " [ 0.2989899 ]\n",
      " [ 0.5       ]]\n"
     ]
    }
   ],
   "source": [
    "print(v0)#une première aproximation de u"
   ]
  },
  {
   "cell_type": "markdown",
   "metadata": {},
   "source": [
    "Là, o, puet chercher une approximation $v$ dans le sous espace affine $v0 + E$, sachant que pour tout vecteur $v ∈ v0 + E$ s'écrit $v = v0 + V * α$, cela conduit à considérer le problème de moindres carrés.<br />\n",
    "&nbsp;&nbsp;&nbsp;&nbsp;&nbsp;&nbsp;&nbsp;&nbsp;&nbsp;&nbsp;&nbsp;&nbsp;$min ||K . V . α - r0||^2$&nbsp;&nbsp;&nbsp;&nbsp;&nbsp;&nbsp;&nbsp;&nbsp;&nbsp;&nbsp;&nbsp;&nbsp;(2)<br />\n",
    "&nbsp;&nbsp;&nbsp;&nbsp;&nbsp;&nbsp;&nbsp;&nbsp;&nbsp;&nbsp;&nbsp;&nbsp;$α ∈ R^k$<br />\n",
    "Avec $ r0 = f - k * v0 $ est le résidu obtenu pour l'approximation $v0$.<br />\n",
    "Soit $αk$ la solution du problème (2) alors : $ rk = r0 - K * V * αk $ le résidu obtenu à partir de $αk$"
   ]
  },
  {
   "cell_type": "code",
   "execution_count": 105,
   "metadata": {},
   "outputs": [],
   "source": [
    "r0 = f - K * v0#le résidu obtenu par l'approximation v0"
   ]
  },
  {
   "cell_type": "code",
   "execution_count": 106,
   "metadata": {},
   "outputs": [
    {
     "name": "stdout",
     "output_type": "stream",
     "text": [
      "[[  0.00000000e+00]\n",
      " [ -4.44089210e-16]\n",
      " [  2.22044605e-16]\n",
      " [  0.00000000e+00]\n",
      " [  0.00000000e+00]\n",
      " [  1.11022302e-16]\n",
      " [  2.22044605e-16]\n",
      " [ -1.11022302e-16]\n",
      " [  4.44089210e-16]\n",
      " [  5.55111512e-16]\n",
      " [  2.77555756e-17]\n",
      " [  1.11022302e-16]\n",
      " [  1.66533454e-16]\n",
      " [ -3.88578059e-16]\n",
      " [  0.00000000e+00]\n",
      " [  1.38777878e-17]\n",
      " [  8.32667268e-17]\n",
      " [ -5.55111512e-17]\n",
      " [  2.22044605e-16]\n",
      " [ -4.44089210e-16]\n",
      " [  0.00000000e+00]\n",
      " [  0.00000000e+00]\n",
      " [  1.11022302e-16]\n",
      " [  2.22044605e-16]\n",
      " [  0.00000000e+00]]\n"
     ]
    }
   ],
   "source": [
    "print(r0)"
   ]
  },
  {
   "cell_type": "markdown",
   "metadata": {},
   "source": [
    "On va implémenter le procédé d'orthonormalisation de Gram-Schmidt en utilisant les bibliothèques systèmes de numpy, où $Q$ est un matrice orthogonale c'est à dire $A^t . A = A . A^t = In$ et $R$ est une matrice triangulaire supérieure."
   ]
  },
  {
   "cell_type": "code",
   "execution_count": 107,
   "metadata": {},
   "outputs": [],
   "source": [
    "def gram_schmidt(M):\n",
    "    Q, R = np.linalg.qr(M)\n",
    "    return Q, R"
   ]
  },
  {
   "cell_type": "code",
   "execution_count": 115,
   "metadata": {},
   "outputs": [],
   "source": [
    "def moindres_carrés(K, f, v0, k):\n",
    "    residus = [norm(r0)]\n",
    "    V = r0\n",
    "    M = K * V\n",
    "    Q, R = gram_schmidt(M)\n",
    "    q = (1 / norm(Q)) * Q\n",
    "    rk = r0\n",
    "    \n",
    "    if (k <= 1):\n",
    "        α = solve_triangular(R, Q.transpose() * r0, lower = False)\n",
    "        v = v0 + V * α\n",
    "        return residus, v, V, Q, R\n",
    "    \n",
    "    for i in range(2, k + 1):\n",
    "        temp = q.transpose() * r0\n",
    "        rk = rk - q * temp\n",
    "        a = K * rk\n",
    "        b = Q.transpose() * a\n",
    "        s = norm(a - Q * b)\n",
    "        q = (1 / s) * (a - Q * b)\n",
    "        \n",
    "        V = bmat([[V, rk], [None, None]])\n",
    "        R = bmat([[R, b], [None, s]])\n",
    "        Q = bmat([[Q, q], [None, None]])\n",
    "        \n",
    "        residus.append(norm(rk))\n",
    "    \n",
    "    α = solve_triangular(R.todense(), Q.transpose() * r0, lower = False)\n",
    "    v = v0 + V * α\n",
    "    return residus, v, V.todense(), Q.todense(), R.todense()"
   ]
  },
  {
   "cell_type": "markdown",
   "metadata": {},
   "source": [
    "### (c) Implémentation de la méthode restarting :"
   ]
  },
  {
   "cell_type": "markdown",
   "metadata": {},
   "source": [
    "Le principe de la méthode de ___restarting___ et de reboucler sur l’algorithme en repartant de la\n",
    "valeur du résidu courant r k obtenu au terme de k itérations. Cela signifie, dans la description\n",
    "précédente de l’algorithme, qu’on démarre une seconde fois l’ algorithme en prenant r0 = rk,\n",
    "et on itère ensuite suivant la procédure normale."
   ]
  },
  {
   "cell_type": "code",
   "execution_count": 230,
   "metadata": {},
   "outputs": [],
   "source": [
    "def restarting(n_ext, k, K, f, v0):\n",
    "    vk = v0\n",
    "    rk = []\n",
    "    solution = v0\n",
    "    \n",
    "    for i in range(n_ext):\n",
    "        residus, vk, V, Q, R = moindres_carrés(K, f, vk, k)\n",
    "        solution = concatenate((solution,vk), axis = 1)\n",
    "        rk.extend(residus)\n",
    "    \n",
    "    return rk, solution, V, Q, R"
   ]
  },
  {
   "cell_type": "code",
   "execution_count": 231,
   "metadata": {},
   "outputs": [
    {
     "name": "stdout",
     "output_type": "stream",
     "text": [
      "([1.1558622765803136e-15, 4.4523849744924123e-16, 2.3209950367976412e-16, 1.5948561225957113e-16, 1.081084175485092e-16, 6.4973571307909931e-17, 2.8265363343568019e-17, 1.2421129285817588e-17, 6.3774689293855697e-18, 1.652015152015669e-18, 4.4564012953239448e-19, 9.6062000644888496e-20, 2.9429644828572432e-20, 5.8136696235978017e-31, 6.8971088975457373e-28, 2.1994120833266362e-26, 4.718112293596846e-26, 2.6400234420594178e-25, 2.0592912822453154e-24, 7.6031472930749877e-24, 1.1558622765803136e-15, 4.4523849744924123e-16, 2.3209950367976412e-16, 1.5948561225957113e-16, 1.081084175485092e-16, 6.4973571307909931e-17, 2.8265363343568019e-17, 1.2421129285817588e-17, 6.3774689293855697e-18, 1.652015152015669e-18, 4.4564012953239448e-19, 9.6062000644888496e-20, 2.9429644828572432e-20, 5.8136696235978017e-31, 6.8971088975457373e-28, 2.1994120833266362e-26, 4.718112293596846e-26, 2.6400234420594178e-25, 2.0592912822453154e-24, 7.6031472930749877e-24, 1.1558622765803136e-15, 4.4523849744924123e-16, 2.3209950367976412e-16, 1.5948561225957113e-16, 1.081084175485092e-16, 6.4973571307909931e-17, 2.8265363343568019e-17, 1.2421129285817588e-17, 6.3774689293855697e-18, 1.652015152015669e-18, 4.4564012953239448e-19, 9.6062000644888496e-20, 2.9429644828572432e-20, 5.8136696235978017e-31, 6.8971088975457373e-28, 2.1994120833266362e-26, 4.718112293596846e-26, 2.6400234420594178e-25, 2.0592912822453154e-24, 7.6031472930749877e-24, 1.1558622765803136e-15, 4.4523849744924123e-16, 2.3209950367976412e-16, 1.5948561225957113e-16, 1.081084175485092e-16, 6.4973571307909931e-17, 2.8265363343568019e-17, 1.2421129285817588e-17, 6.3774689293855697e-18, 1.652015152015669e-18, 4.4564012953239448e-19, 9.6062000644888496e-20, 2.9429644828572432e-20, 5.8136696235978017e-31, 6.8971088975457373e-28, 2.1994120833266362e-26, 4.718112293596846e-26, 2.6400234420594178e-25, 2.0592912822453154e-24, 7.6031472930749877e-24, 1.1558622765803136e-15, 4.4523849744924123e-16, 2.3209950367976412e-16, 1.5948561225957113e-16, 1.081084175485092e-16, 6.4973571307909931e-17, 2.8265363343568019e-17, 1.2421129285817588e-17, 6.3774689293855697e-18, 1.652015152015669e-18, 4.4564012953239448e-19, 9.6062000644888496e-20, 2.9429644828572432e-20, 5.8136696235978017e-31, 6.8971088975457373e-28, 2.1994120833266362e-26, 4.718112293596846e-26, 2.6400234420594178e-25, 2.0592912822453154e-24, 7.6031472930749877e-24, 1.1558622765803136e-15, 4.4523849744924123e-16, 2.3209950367976412e-16, 1.5948561225957113e-16, 1.081084175485092e-16, 6.4973571307909931e-17, 2.8265363343568019e-17, 1.2421129285817588e-17, 6.3774689293855697e-18, 1.652015152015669e-18, 4.4564012953239448e-19, 9.6062000644888496e-20, 2.9429644828572432e-20, 5.8136696235978017e-31, 6.8971088975457373e-28, 2.1994120833266362e-26, 4.718112293596846e-26, 2.6400234420594178e-25, 2.0592912822453154e-24, 7.6031472930749877e-24, 1.1558622765803136e-15, 4.4523849744924123e-16, 2.3209950367976412e-16, 1.5948561225957113e-16, 1.081084175485092e-16, 6.4973571307909931e-17, 2.8265363343568019e-17, 1.2421129285817588e-17, 6.3774689293855697e-18, 1.652015152015669e-18, 4.4564012953239448e-19, 9.6062000644888496e-20, 2.9429644828572432e-20, 5.8136696235978017e-31, 6.8971088975457373e-28, 2.1994120833266362e-26, 4.718112293596846e-26, 2.6400234420594178e-25, 2.0592912822453154e-24, 7.6031472930749877e-24, 1.1558622765803136e-15, 4.4523849744924123e-16, 2.3209950367976412e-16, 1.5948561225957113e-16, 1.081084175485092e-16, 6.4973571307909931e-17, 2.8265363343568019e-17, 1.2421129285817588e-17, 6.3774689293855697e-18, 1.652015152015669e-18, 4.4564012953239448e-19, 9.6062000644888496e-20, 2.9429644828572432e-20, 5.8136696235978017e-31, 6.8971088975457373e-28, 2.1994120833266362e-26, 4.718112293596846e-26, 2.6400234420594178e-25, 2.0592912822453154e-24, 7.6031472930749877e-24, 1.1558622765803136e-15, 4.4523849744924123e-16, 2.3209950367976412e-16, 1.5948561225957113e-16, 1.081084175485092e-16, 6.4973571307909931e-17, 2.8265363343568019e-17, 1.2421129285817588e-17, 6.3774689293855697e-18, 1.652015152015669e-18, 4.4564012953239448e-19, 9.6062000644888496e-20, 2.9429644828572432e-20, 5.8136696235978017e-31, 6.8971088975457373e-28, 2.1994120833266362e-26, 4.718112293596846e-26, 2.6400234420594178e-25, 2.0592912822453154e-24, 7.6031472930749877e-24, 1.1558622765803136e-15, 4.4523849744924123e-16, 2.3209950367976412e-16, 1.5948561225957113e-16, 1.081084175485092e-16, 6.4973571307909931e-17, 2.8265363343568019e-17, 1.2421129285817588e-17, 6.3774689293855697e-18, 1.652015152015669e-18, 4.4564012953239448e-19, 9.6062000644888496e-20, 2.9429644828572432e-20, 5.8136696235978017e-31, 6.8971088975457373e-28, 2.1994120833266362e-26, 4.718112293596846e-26, 2.6400234420594178e-25, 2.0592912822453154e-24, 7.6031472930749877e-24], array([[ 0.5       ,  0.5       ,  0.5       ,  0.5       ,  0.5       ,\n",
      "         0.5       ,  0.5       ,  0.5       ,  0.5       ,  0.5       ,\n",
      "         0.5       ],\n",
      "       [ 0.7010101 ,  0.7010101 ,  0.7010101 ,  0.7010101 ,  0.7010101 ,\n",
      "         0.7010101 ,  0.7010101 ,  0.7010101 ,  0.7010101 ,  0.7010101 ,\n",
      "         0.7010101 ],\n",
      "       [ 0.8040404 ,  0.8040404 ,  0.8040404 ,  0.8040404 ,  0.8040404 ,\n",
      "         0.8040404 ,  0.8040404 ,  0.8040404 ,  0.8040404 ,  0.8040404 ,\n",
      "         0.8040404 ],\n",
      "       [ 0.87474747,  0.87474747,  0.87474747,  0.87474747,  0.87474747,\n",
      "         0.87474747,  0.87474747,  0.87474747,  0.87474747,  0.87474747,\n",
      "         0.87474747],\n",
      "       [ 0.93737374,  0.93737374,  0.93737374,  0.93737374,  0.93737374,\n",
      "         0.93737374,  0.93737374,  0.93737374,  0.93737374,  0.93737374,\n",
      "         0.93737374],\n",
      "       [ 0.2989899 ,  0.2989899 ,  0.2989899 ,  0.2989899 ,  0.2989899 ,\n",
      "         0.2989899 ,  0.2989899 ,  0.2989899 ,  0.2989899 ,  0.2989899 ,\n",
      "         0.2989899 ],\n",
      "       [ 0.5       ,  0.5       ,  0.5       ,  0.5       ,  0.5       ,\n",
      "         0.5       ,  0.5       ,  0.5       ,  0.5       ,  0.5       ,\n",
      "         0.5       ],\n",
      "       [ 0.64040404,  0.64040404,  0.64040404,  0.64040404,  0.64040404,\n",
      "         0.64040404,  0.64040404,  0.64040404,  0.64040404,  0.64040404,\n",
      "         0.64040404],\n",
      "       [ 0.75757576,  0.75757576,  0.75757576,  0.75757576,  0.75757576,\n",
      "         0.75757576,  0.75757576,  0.75757576,  0.75757576,  0.75757576,\n",
      "         0.75757576],\n",
      "       [ 0.87474747,  0.87474747,  0.87474747,  0.87474747,  0.87474747,\n",
      "         0.87474747,  0.87474747,  0.87474747,  0.87474747,  0.87474747,\n",
      "         0.87474747],\n",
      "       [ 0.1959596 ,  0.1959596 ,  0.1959596 ,  0.1959596 ,  0.1959596 ,\n",
      "         0.1959596 ,  0.1959596 ,  0.1959596 ,  0.1959596 ,  0.1959596 ,\n",
      "         0.1959596 ],\n",
      "       [ 0.35959596,  0.35959596,  0.35959596,  0.35959596,  0.35959596,\n",
      "         0.35959596,  0.35959596,  0.35959596,  0.35959596,  0.35959596,\n",
      "         0.35959596],\n",
      "       [ 0.5       ,  0.5       ,  0.5       ,  0.5       ,  0.5       ,\n",
      "         0.5       ,  0.5       ,  0.5       ,  0.5       ,  0.5       ,\n",
      "         0.5       ],\n",
      "       [ 0.64040404,  0.64040404,  0.64040404,  0.64040404,  0.64040404,\n",
      "         0.64040404,  0.64040404,  0.64040404,  0.64040404,  0.64040404,\n",
      "         0.64040404],\n",
      "       [ 0.8040404 ,  0.8040404 ,  0.8040404 ,  0.8040404 ,  0.8040404 ,\n",
      "         0.8040404 ,  0.8040404 ,  0.8040404 ,  0.8040404 ,  0.8040404 ,\n",
      "         0.8040404 ],\n",
      "       [ 0.12525253,  0.12525253,  0.12525253,  0.12525253,  0.12525253,\n",
      "         0.12525253,  0.12525253,  0.12525253,  0.12525253,  0.12525253,\n",
      "         0.12525253],\n",
      "       [ 0.24242424,  0.24242424,  0.24242424,  0.24242424,  0.24242424,\n",
      "         0.24242424,  0.24242424,  0.24242424,  0.24242424,  0.24242424,\n",
      "         0.24242424],\n",
      "       [ 0.35959596,  0.35959596,  0.35959596,  0.35959596,  0.35959596,\n",
      "         0.35959596,  0.35959596,  0.35959596,  0.35959596,  0.35959596,\n",
      "         0.35959596],\n",
      "       [ 0.5       ,  0.5       ,  0.5       ,  0.5       ,  0.5       ,\n",
      "         0.5       ,  0.5       ,  0.5       ,  0.5       ,  0.5       ,\n",
      "         0.5       ],\n",
      "       [ 0.7010101 ,  0.7010101 ,  0.7010101 ,  0.7010101 ,  0.7010101 ,\n",
      "         0.7010101 ,  0.7010101 ,  0.7010101 ,  0.7010101 ,  0.7010101 ,\n",
      "         0.7010101 ],\n",
      "       [ 0.06262626,  0.06262626,  0.06262626,  0.06262626,  0.06262626,\n",
      "         0.06262626,  0.06262626,  0.06262626,  0.06262626,  0.06262626,\n",
      "         0.06262626],\n",
      "       [ 0.12525253,  0.12525253,  0.12525253,  0.12525253,  0.12525253,\n",
      "         0.12525253,  0.12525253,  0.12525253,  0.12525253,  0.12525253,\n",
      "         0.12525253],\n",
      "       [ 0.1959596 ,  0.1959596 ,  0.1959596 ,  0.1959596 ,  0.1959596 ,\n",
      "         0.1959596 ,  0.1959596 ,  0.1959596 ,  0.1959596 ,  0.1959596 ,\n",
      "         0.1959596 ],\n",
      "       [ 0.2989899 ,  0.2989899 ,  0.2989899 ,  0.2989899 ,  0.2989899 ,\n",
      "         0.2989899 ,  0.2989899 ,  0.2989899 ,  0.2989899 ,  0.2989899 ,\n",
      "         0.2989899 ],\n",
      "       [ 0.5       ,  0.5       ,  0.5       ,  0.5       ,  0.5       ,\n",
      "         0.5       ,  0.5       ,  0.5       ,  0.5       ,  0.5       ,\n",
      "         0.5       ]]), matrix([[  0.00000000e+00,  -6.24177463e-17,  -3.17686073e-18,\n",
      "           1.90588845e-17,   1.24173802e-17,   7.27168222e-18,\n",
      "           1.39086825e-18,  -7.89647006e-19,  -5.65937076e-19,\n",
      "          -6.43542668e-19,  -2.31551256e-20,  -1.20445655e-20,\n",
      "          -6.12994948e-21,   2.50521356e-34,   1.50801578e-28,\n",
      "           6.08137427e-27,  -5.91327448e-27,  -3.96454884e-26,\n",
      "          -9.82840394e-26,  -3.66238898e-24],\n",
      "        [ -4.44089210e-16,  -2.79709014e-17,   2.35165965e-17,\n",
      "           2.48552328e-17,   2.77883824e-17,   6.72105474e-18,\n",
      "          -4.57106077e-18,  -2.18257106e-18,  -5.30863792e-19,\n",
      "          -1.30800822e-19,  -1.66322926e-19,  -2.82164683e-20,\n",
      "          -5.09535800e-21,   1.25150088e-31,  -1.87751122e-28,\n",
      "           2.90118043e-27,   1.59494268e-26,   5.37835370e-26,\n",
      "          -7.72426833e-25,   5.00128535e-26],\n",
      "        [  2.22044605e-16,  -4.84322956e-17,   2.16121001e-17,\n",
      "           5.43682784e-17,   1.44425082e-17,  -7.59032790e-18,\n",
      "          -5.80246976e-18,  -5.76804391e-19,  -1.08714962e-18,\n",
      "          -2.56356719e-19,  -1.34232828e-19,  -1.00324551e-20,\n",
      "          -7.79851849e-21,  -5.68660909e-32,   1.30177013e-28,\n",
      "          -3.83836131e-29,   1.34002094e-26,  -1.60238313e-26,\n",
      "           6.84676659e-25,   1.62178505e-24],\n",
      "        [  0.00000000e+00,   1.24835493e-16,   6.76588012e-17,\n",
      "           4.21320831e-17,  -9.21756506e-18,  -1.76526657e-17,\n",
      "           5.95484040e-18,  -7.43894574e-19,  -1.32943753e-18,\n",
      "          -4.35637647e-19,  -5.05316100e-20,  -3.65405303e-20,\n",
      "           2.56783086e-22,  -1.13750378e-31,  -4.15508694e-29,\n",
      "          -1.03149985e-27,  -6.54276828e-27,   8.76679477e-26,\n",
      "           1.69291448e-25,   1.09293294e-24],\n",
      "        [  0.00000000e+00,   1.04029577e-16,   1.01575182e-16,\n",
      "           2.76005220e-18,  -1.51225013e-17,  -1.16901475e-18,\n",
      "          -3.38931241e-18,   1.26968766e-18,  -7.89399461e-19,\n",
      "          -5.18446870e-19,  -1.40798924e-19,   5.48834100e-21,\n",
      "          -2.10443906e-21,  -6.19972648e-32,  -7.75659906e-30,\n",
      "          -1.18938755e-27,  -6.34129553e-27,  -5.85545045e-26,\n",
      "           1.45076793e-25,  -8.11672468e-25],\n",
      "        [  1.11022302e-16,   7.46119505e-17,  -1.74983276e-18,\n",
      "           1.64455005e-17,   1.78646899e-17,   1.35754353e-17,\n",
      "           5.96555080e-18,   9.14603087e-19,  -2.07717843e-18,\n",
      "           2.21238078e-19,  -6.21411295e-20,   9.57412578e-22,\n",
      "          -3.70170368e-21,  -1.12727839e-31,  -1.83641422e-28,\n",
      "           7.62845470e-27,   2.10603206e-27,  -5.50114862e-26,\n",
      "          -5.44677615e-25,  -1.34197232e-24],\n",
      "        [  2.22044605e-16,  -6.82046472e-18,   4.69159028e-17,\n",
      "           3.05852563e-17,   2.51588653e-17,   2.31243744e-17,\n",
      "           3.67306620e-18,  -3.53671669e-18,  -8.12939363e-19,\n",
      "           1.11736884e-19,   3.35744658e-20,  -2.51356851e-20,\n",
      "           1.24267876e-21,  -3.50617051e-33,   2.51007958e-28,\n",
      "           6.35152163e-27,   1.10483313e-26,   2.50587668e-26,\n",
      "           8.19693650e-26,  -1.16655685e-25],\n",
      "        [ -1.11022302e-16,   1.69857556e-16,   5.71257422e-17,\n",
      "           3.84790327e-17,   3.82820041e-17,   1.02432434e-17,\n",
      "          -5.59625878e-18,  -3.83150537e-18,  -2.25144629e-19,\n",
      "          -1.74812890e-19,   1.22529630e-19,   1.20914023e-20,\n",
      "          -4.79141408e-21,  -9.83142098e-32,  -1.26540950e-28,\n",
      "           3.78274618e-27,  -9.04376080e-27,  -9.91396525e-27,\n",
      "           6.91950066e-25,   2.14034982e-24],\n",
      "        [  4.44089210e-16,   1.21597521e-16,   1.00911495e-16,\n",
      "           3.30497543e-17,   1.45669416e-17,   6.72299092e-18,\n",
      "          -1.02967519e-17,  -1.81814976e-18,  -9.78863450e-19,\n",
      "           4.18710428e-19,   1.58694893e-20,  -2.08167274e-21,\n",
      "          -6.63070404e-22,  -1.20794364e-31,  -1.63729706e-29,\n",
      "          -3.70077548e-27,  -3.44283641e-27,  -2.06019568e-26,\n",
      "          -1.93553927e-25,   2.37212791e-25],\n",
      "        [  5.55111512e-16,   2.22216866e-16,   1.78610395e-17,\n",
      "           2.89553824e-17,   1.04832240e-17,  -8.53106070e-18,\n",
      "           2.16862036e-19,  -3.13345742e-18,   3.38679909e-19,\n",
      "          -1.06519225e-19,  -5.86504217e-20,   4.29721858e-21,\n",
      "          -4.36361271e-22,  -3.70442939e-31,   5.42009554e-29,\n",
      "          -4.09488945e-27,  -4.56076519e-27,  -5.54642632e-26,\n",
      "          -7.63065755e-25,  -1.47142912e-24],\n",
      "        [  2.77555756e-17,   5.11622305e-17,   5.76836545e-17,\n",
      "           1.31770446e-18,   2.06779216e-17,   9.81984390e-18,\n",
      "           4.74082994e-18,   1.44972567e-18,   5.23899433e-19,\n",
      "          -4.43249241e-19,   6.53092611e-20,   1.22949191e-20,\n",
      "           2.00444119e-21,  -2.92857961e-32,   1.49619196e-28,\n",
      "           4.15709729e-27,   1.84659337e-26,   3.06733952e-26,\n",
      "          -3.57400958e-25,   2.69771660e-25],\n",
      "        [  1.11022302e-16,   1.21425260e-16,   2.09695941e-17,\n",
      "           4.75216169e-17,   1.90810702e-17,   1.57366194e-17,\n",
      "           5.11432594e-18,   3.37349817e-18,  -3.84619596e-19,\n",
      "          -6.42983072e-20,   3.68919857e-20,   2.63588443e-20,\n",
      "           7.23186401e-21,  -1.68926626e-31,  -1.45484597e-28,\n",
      "           3.94353974e-27,   1.89267279e-26,   4.85483260e-26,\n",
      "           6.47503757e-25,  -7.04523222e-25],\n",
      "        [  1.66533454e-16,  -4.15257005e-17,   7.06669800e-17,\n",
      "           5.36261957e-17,   2.60679215e-17,   1.12644021e-17,\n",
      "           8.49126765e-18,   8.52691403e-19,  -6.30269762e-19,\n",
      "           2.78899752e-19,   6.44936742e-20,   3.93100101e-20,\n",
      "           6.69064165e-21,   4.95483094e-32,   5.24110480e-30,\n",
      "           1.39155438e-27,  -9.17072287e-27,   3.05829717e-26,\n",
      "          -2.92036157e-25,   2.06808229e-24],\n",
      "        [ -3.88578059e-16,   5.87491230e-17,   5.29109978e-17,\n",
      "           5.14131224e-17,   2.44430138e-17,   9.32765821e-18,\n",
      "           3.64018384e-18,  -1.60044047e-18,  -1.74091503e-19,\n",
      "           2.78868211e-19,   9.70380693e-20,   2.03535705e-20,\n",
      "           3.78953871e-21,   9.07917982e-32,   1.33275591e-28,\n",
      "          -7.86226574e-27,   3.74734813e-27,  -3.57661533e-26,\n",
      "          -7.06719598e-28,  -1.97082398e-24],\n",
      "        [  0.00000000e+00,  -5.20147886e-17,   3.64542535e-17,\n",
      "           3.21340276e-17,   1.90457464e-17,   3.91263569e-18,\n",
      "          -4.86762395e-18,   6.47498924e-19,  -5.04418788e-19,\n",
      "           4.03241158e-21,   1.18688574e-19,  -1.51942663e-20,\n",
      "           3.66276825e-21,   8.34476857e-32,  -1.52028301e-28,\n",
      "          -5.49756391e-27,  -1.16395177e-26,   4.66858061e-26,\n",
      "          -2.49573664e-25,  -3.26548960e-24],\n",
      "        [  1.38777878e-17,   2.42807455e-17,   2.34458341e-17,\n",
      "           3.49315331e-17,  -1.00059030e-17,   9.71457962e-18,\n",
      "          -1.18789330e-18,   4.35509254e-19,   3.07018306e-18,\n",
      "           5.11036944e-19,  -6.38353979e-20,  -8.79621366e-21,\n",
      "           1.81296352e-21,   3.30680667e-33,  -5.21432283e-29,\n",
      "           4.99852885e-27,   3.60672677e-28,   4.04322375e-26,\n",
      "           3.11922787e-25,  -3.34508339e-25],\n",
      "        [  8.32667268e-17,   3.38526777e-17,   5.97763362e-17,\n",
      "           2.16450720e-17,   3.59960726e-17,  -3.94781002e-18,\n",
      "           4.56190448e-18,   3.99624162e-18,   2.94184711e-18,\n",
      "           1.35444533e-19,  -8.54554668e-20,   6.99144468e-21,\n",
      "           4.02670005e-21,  -1.94473785e-32,   1.68963799e-29,\n",
      "           3.97440945e-27,   2.05174353e-27,   1.22064844e-26,\n",
      "           1.84667788e-25,  -1.44263793e-25],\n",
      "        [ -5.55111512e-17,   9.53317356e-17,   2.39835912e-17,\n",
      "           3.82868882e-17,   2.28877788e-17,   1.97671387e-17,\n",
      "           3.15443189e-18,   5.04401296e-18,   1.43730887e-18,\n",
      "          -9.57086667e-20,  -3.36406417e-20,  -2.30805884e-20,\n",
      "           1.10944340e-20,  -9.59805243e-32,   1.33513702e-28,\n",
      "          -7.30021679e-28,  -6.86048554e-27,  -9.63943517e-26,\n",
      "          -3.69239123e-25,   1.00900415e-24],\n",
      "        [  2.22044605e-16,  -6.92382110e-17,   2.47600762e-18,\n",
      "           3.41249889e-17,   3.68663328e-17,   1.85104842e-17,\n",
      "           5.03237945e-18,   1.22351240e-18,   1.36430229e-18,\n",
      "          -4.89360058e-19,  -5.35401312e-20,   8.55595259e-21,\n",
      "          -4.42070901e-22,  -5.37476454e-32,  -2.52464765e-28,\n",
      "          -6.92893271e-27,  -8.11505221e-27,  -7.35417191e-27,\n",
      "          -6.32300277e-26,  -7.93620065e-26],\n",
      "        [ -4.44089210e-16,  -6.95827322e-17,   4.10751301e-18,\n",
      "           2.60741277e-17,   2.03127747e-17,   1.02547718e-17,\n",
      "           4.52925988e-18,   7.19504967e-19,  -1.63403921e-19,\n",
      "           1.87719371e-19,  -1.11643850e-19,   1.01000441e-20,\n",
      "          -4.70591212e-21,   1.61779620e-31,   1.91250194e-28,\n",
      "          -4.60612998e-27,  -1.70679057e-26,  -2.49772027e-26,\n",
      "           2.47815851e-26,   2.55209637e-25],\n",
      "        [  0.00000000e+00,   2.60073943e-18,   1.43288180e-17,\n",
      "           1.53473787e-17,   1.84484470e-17,  -1.67902234e-17,\n",
      "           2.33249824e-19,   3.59906248e-18,   1.04148195e-18,\n",
      "           6.30277970e-19,   1.42003999e-19,  -2.29272677e-20,\n",
      "          -7.07719122e-21,   6.01582274e-32,   8.91704618e-30,\n",
      "           2.41901478e-27,   2.19498577e-27,  -5.24059317e-26,\n",
      "           6.18842513e-26,  -3.66507697e-25],\n",
      "        [  0.00000000e+00,   3.64103520e-17,   2.96565944e-17,\n",
      "           3.16975990e-17,  -1.25551150e-17,   5.93494951e-18,\n",
      "           2.74058289e-18,   4.16324763e-18,   2.09696909e-18,\n",
      "           4.70723160e-20,   1.37964400e-19,   6.30548274e-21,\n",
      "          -1.46322673e-20,  -1.53081338e-32,   4.39607719e-29,\n",
      "           9.93093318e-28,   3.97226243e-27,   2.08894534e-26,\n",
      "          -6.87657237e-25,   2.38996871e-25],\n",
      "        [  1.11022302e-16,   5.90075139e-17,   5.55189363e-17,\n",
      "          -1.07030356e-18,   6.29977978e-18,   1.53480804e-17,\n",
      "           1.40332743e-17,   1.85282173e-18,   1.33084418e-18,\n",
      "           3.92068219e-19,  -3.73060453e-20,  -1.71727081e-20,\n",
      "          -7.60077912e-21,  -1.30060457e-32,  -1.39256768e-28,\n",
      "          -2.60399880e-27,   2.10978051e-27,  -1.24547838e-26,\n",
      "           2.98441903e-25,  -1.57393230e-24],\n",
      "        [  2.22044605e-16,   1.18015028e-16,  -1.39301747e-17,\n",
      "          -4.50442297e-18,   2.80347811e-17,   2.20552569e-17,\n",
      "           3.86953478e-18,   3.25612901e-18,   6.11567757e-20,\n",
      "           5.46668107e-20,  -5.25031205e-20,  -1.84276759e-20,\n",
      "          -8.03064057e-21,  -1.92236396e-31,   1.85088139e-28,\n",
      "          -5.05779411e-27,  -7.75767335e-27,   1.19731006e-25,\n",
      "           3.22814589e-25,   5.62742734e-25],\n",
      "        [  0.00000000e+00,  -4.16118308e-17,   1.81190565e-18,\n",
      "           5.13193448e-18,   7.25593710e-18,   1.58141460e-17,\n",
      "           7.33873474e-18,   3.49404914e-19,  -5.33309487e-20,\n",
      "          -1.38691111e-19,   4.27609602e-20,  -3.07980145e-20,\n",
      "          -4.26363683e-21,   3.75210274e-32,  -1.47538317e-28,\n",
      "          -4.00057940e-27,  -2.55728463e-27,  -9.74148925e-26,\n",
      "           2.77619732e-25,   2.77317565e-24]]), matrix([[-0.05851657, -0.15591481, -0.13186476,  0.05664258,  0.05955308,\n",
      "          0.10052109,  0.08588125, -0.02098807,  0.01259875, -0.38999123,\n",
      "         -0.02553192, -0.06468098, -0.20829166, -0.21864424, -0.26977622,\n",
      "          0.28735843,  0.12986308,  0.02871204,  0.4869688 , -0.19407075],\n",
      "        [ 0.39011048, -0.13550883, -0.00793852, -0.02501559,  0.24382003,\n",
      "          0.19301678, -0.09407249, -0.15496026, -0.06494755,  0.02233009,\n",
      "         -0.31736687, -0.25284752, -0.17313692,  0.27239856, -0.14051262,\n",
      "         -0.3125997 , -0.14565466,  0.40454926, -0.11237112, -0.15696105],\n",
      "        [-0.25357182, -0.18434833, -0.19425414,  0.34051002,  0.25499422,\n",
      "         -0.03055996, -0.20581681,  0.04787969, -0.13487368, -0.07677015,\n",
      "         -0.28541086, -0.02442985, -0.26498854, -0.18882385,  0.00766767,\n",
      "         -0.32195132,  0.11327737, -0.34309406, -0.12803847, -0.03474778],\n",
      "        [ 0.11703315,  0.1504821 ,  0.15138123,  0.43793945,  0.09762256,\n",
      "         -0.40352446,  0.26383478,  0.0549346 , -0.14510244, -0.24208735,\n",
      "         -0.03215132, -0.40240755,  0.00872532,  0.06007896,  0.04503186,\n",
      "          0.13203467, -0.36269465, -0.03996649, -0.12619847,  0.01210949],\n",
      "        [ 0.09752762,  0.00645967,  0.58600389,  0.15251274, -0.1614889 ,\n",
      "          0.03795168, -0.18349827,  0.19317991, -0.04398734, -0.23739901,\n",
      "         -0.33616626,  0.08303302, -0.07150746,  0.01115627,  0.05375129,\n",
      "          0.12342539,  0.20101165, -0.09970692,  0.13072203,  0.14755627],\n",
      "        [-0.03413467,  0.20097493, -0.10790388, -0.01210367,  0.04964114,\n",
      "          0.13007619,  0.19893542,  0.28068365, -0.37313256,  0.1781393 ,\n",
      "         -0.14499964,  0.0509511 , -0.12578146,  0.26609509, -0.35536497,\n",
      "          0.13230189,  0.21989238,  0.23976227,  0.10893553,  0.27087128],\n",
      "        [-0.21456077, -0.14142759,  0.09684572,  0.0462794 ,  0.02354592,\n",
      "          0.33248233,  0.28396279, -0.25553997, -0.15011501,  0.04913486,\n",
      "          0.13491517, -0.28846815,  0.04222541, -0.36393719, -0.27750668,\n",
      "         -0.1125225 , -0.05393771, -0.02786595,  0.02713843,  0.02644793],\n",
      "        [ 0.26332458,  0.29669643,  0.11058068,  0.00168037,  0.32450302,\n",
      "          0.27074552, -0.06950616, -0.33834239, -0.00817102, -0.18691699,\n",
      "          0.25378563,  0.18462687, -0.1628091 ,  0.183327  , -0.17782983,\n",
      "          0.30728744,  0.00335013, -0.34366378, -0.19789695, -0.10960846],\n",
      "        [-0.30233563,  0.05444311,  0.40244084,  0.1576321 ,  0.09078096,\n",
      "          0.29091944, -0.3339362 , -0.07874036, -0.22688678,  0.25323596,\n",
      "          0.04125154, -0.01551353, -0.0225307 ,  0.02356375,  0.16760004,\n",
      "         -0.0061795 ,  0.06605959,  0.08468496, -0.05885628, -0.10359745],\n",
      "        [-0.31208839,  0.53783969, -0.06579284,  0.15754123,  0.2200594 ,\n",
      "         -0.14952875,  0.13195488, -0.32574978,  0.0722751 , -0.03009154,\n",
      "         -0.14465287,  0.05176542, -0.01482727, -0.07912213,  0.18873825,\n",
      "          0.01116109,  0.1959695 ,  0.34647309,  0.09678471,  0.13089762],\n",
      "        [ 0.02194371, -0.0171636 ,  0.3342673 , -0.16511511,  0.12566458,\n",
      "          0.08681588,  0.12962265,  0.08685938,  0.15701013, -0.31969268,\n",
      "          0.12182628,  0.11253447,  0.0681096 , -0.21697275, -0.18229644,\n",
      "         -0.34279993, -0.04699658,  0.19001843, -0.0856915 ,  0.34288995],\n",
      "        [ 0.00975276,  0.2643871 , -0.1574616 ,  0.2425574 ,  0.03870658,\n",
      "          0.18156747,  0.06856383,  0.35257996, -0.05200202, -0.06361077,\n",
      "          0.02420502,  0.20916857,  0.24573399,  0.21069068, -0.1860059 ,\n",
      "         -0.35895553, -0.11403793, -0.29327516,  0.1847294 , -0.02572791],\n",
      "        [-0.19505524, -0.2952775 ,  0.10105705,  0.23503287,  0.17132665,\n",
      "          0.04740135,  0.30085114,  0.13912879, -0.1475976 ,  0.13478106,\n",
      "          0.05787174,  0.35671844,  0.22734361, -0.00752715, -0.0630621 ,\n",
      "          0.25304279, -0.15304472,  0.15796864, -0.32246639, -0.16280729],\n",
      "        [ 0.41936877,  0.01536524,  0.00888286,  0.23001666,  0.17493564,\n",
      "          0.09721633,  0.20640598, -0.13381754, -0.07353498,  0.11430301,\n",
      "          0.17622   ,  0.18114071,  0.12876604, -0.19310234,  0.36370972,\n",
      "         -0.27813407,  0.15212002, -0.01716665,  0.26917997,  0.04295001],\n",
      "        [-0.04876381, -0.23283976,  0.02562026,  0.11162442,  0.17514113,\n",
      "          0.15008148, -0.21721732,  0.10807088, -0.08254366, -0.07207575,\n",
      "          0.30766105, -0.2062165 ,  0.12445846,  0.2205442 ,  0.24316343,\n",
      "          0.14714413, -0.22454222,  0.14506178,  0.41206895,  0.23317165],\n",
      "        [ 0.00975276,  0.00219739, -0.0681137 ,  0.3832524 , -0.22823249,\n",
      "          0.1863566 , -0.06393895, -0.24718044,  0.41546027,  0.36137923,\n",
      "         -0.12647934, -0.11601969,  0.06160331,  0.07560636, -0.22975036,\n",
      "          0.11111014, -0.15426846, -0.13293382,  0.08832282,  0.33367193],\n",
      "        [-0.04632562, -0.06822792,  0.22613004, -0.12239362,  0.46228544,\n",
      "         -0.14545704,  0.02227906,  0.09892143,  0.45560071,  0.1388633 ,\n",
      "         -0.21244182,  0.03242181,  0.13682462, -0.02452597, -0.18002358,\n",
      "          0.04606173, -0.03909396, -0.08444471,  0.0449424 ,  0.10639832],\n",
      "        [ 0.14141505,  0.18777964, -0.08482292,  0.1313325 ,  0.03611633,\n",
      "          0.28396195, -0.07442259,  0.3383746 ,  0.24887515, -0.03901752,\n",
      "         -0.02426687, -0.37373074,  0.37698158, -0.19371837,  0.03928142,\n",
      "          0.14686887,  0.34468961,  0.13359691, -0.18831137, -0.31447988],\n",
      "        [-0.27307734, -0.1887431 , -0.18768812, -0.02337976,  0.21243907,\n",
      "          0.23038202,  0.15001513, -0.01320866,  0.3009297 , -0.27396738,\n",
      "         -0.142696  ,  0.09840046, -0.01502128,  0.36596638,  0.3037063 ,\n",
      "          0.02841613, -0.00292926,  0.0273593 ,  0.00220414, -0.0323545 ],\n",
      "        [ 0.35109944, -0.19394377, -0.13026873,  0.04913615,  0.11640501,\n",
      "          0.09786651,  0.1500501 ,  0.08283295, -0.05700252,  0.18818726,\n",
      "         -0.27976591,  0.16191477, -0.1599038 , -0.27705579,  0.21822835,\n",
      "          0.2985495 ,  0.0304494 , -0.02436411, -0.03148372,  0.21536909],\n",
      "        [ 0.00243819, -0.03086688, -0.00604038, -0.0264477 ,  0.40783026,\n",
      "         -0.29098321, -0.1325651 ,  0.23994768,  0.06675622,  0.30694131,\n",
      "          0.37900994, -0.17333305, -0.24047831, -0.01284145, -0.1096331 ,\n",
      "          0.00536711,  0.21020391, -0.05596155,  0.05853181,  0.04206644],\n",
      "        [ 0.03413467,  0.01777507, -0.01210378,  0.3774127 , -0.21399241,\n",
      "          0.05460149, -0.05603273,  0.1938546 ,  0.33278705, -0.05713705,\n",
      "          0.3025505 ,  0.22897076, -0.49719483, -0.06376016, -0.04317515,\n",
      "         -0.07137261, -0.0651282 ,  0.3469359 , -0.12661009, -0.06981271],\n",
      "        [-0.04876381,  0.00918151,  0.33559147, -0.06285633, -0.10471935,\n",
      "          0.02247406,  0.4797364 ,  0.04897101,  0.152404  ,  0.26991547,\n",
      "         -0.04626615, -0.10467657, -0.25826948,  0.20188713,  0.11211882,\n",
      "         -0.11292905,  0.05607101, -0.15222881,  0.25582519, -0.40501694],\n",
      "        [-0.09752762,  0.34726373, -0.05589759, -0.27751312,  0.06920326,\n",
      "          0.3108496 ,  0.02415945,  0.29974665,  0.0010536 ,  0.06736972,\n",
      "         -0.07830493, -0.11369975, -0.27287589, -0.26863482,  0.23849383,\n",
      "          0.0646816 , -0.49080895, -0.09943874, -0.03278173,  0.07758696],\n",
      "        [-0.03901105, -0.114286  , -0.01968878, -0.01811472, -0.09904734,\n",
      "          0.14487069,  0.27528008,  0.03778397,  0.01385765, -0.11406534,\n",
      "          0.16903758, -0.29017428, -0.14487558,  0.21396766,  0.17527125,\n",
      "         -0.03457733,  0.36518507, -0.1836336 , -0.34097141,  0.39240088]]), matrix([[ -5.69183894e-15,   5.97135472e-16,   7.61705293e-31,\n",
      "           8.55263359e-31,   8.76009235e-31,   8.90742599e-31,\n",
      "           8.76394421e-31,   8.75708309e-31,   8.73761314e-31,\n",
      "           8.73330989e-31,   8.73144414e-31,   8.73029310e-31,\n",
      "           8.73015345e-31,   8.73015530e-31,   8.73015531e-31,\n",
      "           8.73016856e-31,   8.73021633e-31,   8.73206619e-31,\n",
      "           8.84642191e-31,   1.03150714e-30],\n",
      "        [  0.00000000e+00,   1.67636234e-15,  -2.44133058e-16,\n",
      "          -1.51180686e-30,  -1.67671461e-30,  -1.78880373e-30,\n",
      "          -1.86391500e-30,  -1.87311132e-30,  -1.87686838e-30,\n",
      "          -1.87803447e-30,  -1.87857012e-30,  -1.87858367e-30,\n",
      "          -1.87860087e-30,  -1.87859702e-30,  -1.87859702e-30,\n",
      "          -1.87859735e-30,  -1.87859853e-30,  -1.87864453e-30,\n",
      "          -1.88148806e-30,  -1.91800701e-30],\n",
      "        [  0.00000000e+00,   0.00000000e+00,   5.50095161e-16,\n",
      "          -1.63763740e-16,   3.38145150e-31,   5.17978859e-31,\n",
      "           6.16538323e-31,   6.34539750e-31,   6.38577432e-31,\n",
      "           6.40377725e-31,   6.40948733e-31,   6.40900209e-31,\n",
      "           6.40908367e-31,   6.40906412e-31,   6.40906412e-31,\n",
      "           6.40906188e-31,   6.40905380e-31,   6.40874076e-31,\n",
      "           6.38938904e-31,   6.14085861e-31],\n",
      "        [  0.00000000e+00,   0.00000000e+00,   0.00000000e+00,\n",
      "           2.35514303e-16,  -1.66163981e-16,  -6.76964375e-32,\n",
      "          -1.29518789e-31,  -1.41664184e-31,  -1.46588471e-31,\n",
      "          -1.47739892e-31,  -1.47874556e-31,  -1.47868914e-31,\n",
      "          -1.47882197e-31,  -1.47881722e-31,  -1.47881722e-31,\n",
      "          -1.47881975e-31,  -1.47882888e-31,  -1.47918259e-31,\n",
      "          -1.50104786e-31,  -1.78185960e-31],\n",
      "        [  0.00000000e+00,   0.00000000e+00,   0.00000000e+00,\n",
      "           0.00000000e+00,   2.25486334e-16,  -9.88672556e-17,\n",
      "          -5.39260384e-33,  -3.70741514e-33,  -1.88380023e-33,\n",
      "          -2.45556068e-33,  -2.63009808e-33,  -2.53530622e-33,\n",
      "          -2.52223472e-33,  -2.51847025e-33,  -2.51847017e-33,\n",
      "          -2.51838442e-33,  -2.51807527e-33,  -2.50610315e-33,\n",
      "          -1.76599990e-33,   7.73900298e-33],\n",
      "        [  0.00000000e+00,   0.00000000e+00,   0.00000000e+00,\n",
      "           0.00000000e+00,   0.00000000e+00,   1.46019986e-16,\n",
      "          -4.28175657e-17,   4.28519413e-33,   3.14167322e-33,\n",
      "           3.97223051e-33,   4.11065673e-33,   4.15880497e-33,\n",
      "           4.16350695e-33,   4.16759826e-33,   4.16759814e-33,\n",
      "           4.16747885e-33,   4.16704878e-33,   4.15039405e-33,\n",
      "           3.12082023e-33,  -1.01018048e-32],\n",
      "        [  0.00000000e+00,   0.00000000e+00,   0.00000000e+00,\n",
      "           0.00000000e+00,   0.00000000e+00,   0.00000000e+00,\n",
      "           9.86600803e-17,  -1.39143502e-17,   9.13011164e-33,\n",
      "           8.95557424e-33,   9.11205605e-33,   9.10603752e-33,\n",
      "           9.12484543e-33,   9.11915829e-33,   9.11915830e-33,\n",
      "           9.11916690e-33,   9.11919792e-33,   9.12039880e-33,\n",
      "           9.19463545e-33,   1.01480482e-32],\n",
      "        [  0.00000000e+00,   0.00000000e+00,   0.00000000e+00,\n",
      "           0.00000000e+00,   0.00000000e+00,   0.00000000e+00,\n",
      "           0.00000000e+00,   3.31444581e-17,  -8.04632231e-18,\n",
      "          -7.03024615e-32,  -7.06033881e-32,  -7.05883417e-32,\n",
      "          -7.05930437e-32,  -7.05859065e-32,  -7.05859065e-32,\n",
      "          -7.05859277e-32,  -7.05860042e-32,  -7.05889661e-32,\n",
      "          -7.07720555e-32,  -7.31234457e-32],\n",
      "        [  0.00000000e+00,   0.00000000e+00,   0.00000000e+00,\n",
      "           0.00000000e+00,   0.00000000e+00,   0.00000000e+00,\n",
      "           0.00000000e+00,   0.00000000e+00,   1.39233776e-17,\n",
      "          -1.74989864e-18,  -1.07479680e-31,  -1.07361379e-31,\n",
      "          -1.07361837e-31,  -1.07363319e-31,  -1.07363319e-31,\n",
      "          -1.07363452e-31,  -1.07363931e-31,  -1.07382474e-31,\n",
      "          -1.08528804e-31,  -1.23250903e-31],\n",
      "        [  0.00000000e+00,   0.00000000e+00,   0.00000000e+00,\n",
      "           0.00000000e+00,   0.00000000e+00,   0.00000000e+00,\n",
      "           0.00000000e+00,   0.00000000e+00,   0.00000000e+00,\n",
      "           6.77595083e-18,  -4.57914021e-19,   4.02398988e-31,\n",
      "           4.02400210e-31,   4.02400802e-31,   4.02400802e-31,\n",
      "           4.02401166e-31,   4.02402477e-31,   4.02453260e-31,\n",
      "           4.05592615e-31,   4.45910764e-31],\n",
      "        [  0.00000000e+00,   0.00000000e+00,   0.00000000e+00,\n",
      "           0.00000000e+00,   0.00000000e+00,   0.00000000e+00,\n",
      "           0.00000000e+00,   0.00000000e+00,   0.00000000e+00,\n",
      "           0.00000000e+00,   1.67393955e-18,  -7.41092037e-20,\n",
      "           2.32807597e-31,   2.32809953e-31,   2.32809953e-31,\n",
      "           2.32809987e-31,   2.32810110e-31,   2.32814880e-31,\n",
      "           2.33109727e-31,   2.36896400e-31],\n",
      "        [  0.00000000e+00,   0.00000000e+00,   0.00000000e+00,\n",
      "           0.00000000e+00,   0.00000000e+00,   0.00000000e+00,\n",
      "           0.00000000e+00,   0.00000000e+00,   0.00000000e+00,\n",
      "           0.00000000e+00,   0.00000000e+00,   3.52674902e-19,\n",
      "          -2.69910552e-20,  -6.31818926e-32,  -6.31818927e-32,\n",
      "          -6.31819733e-32,  -6.31822640e-32,  -6.31935207e-32,\n",
      "          -6.38893997e-32,  -7.28264415e-32],\n",
      "        [  0.00000000e+00,   0.00000000e+00,   0.00000000e+00,\n",
      "           0.00000000e+00,   0.00000000e+00,   0.00000000e+00,\n",
      "           0.00000000e+00,   0.00000000e+00,   0.00000000e+00,\n",
      "           0.00000000e+00,   0.00000000e+00,   0.00000000e+00,\n",
      "           8.38657884e-20,   1.09938308e-32,   1.09938308e-32,\n",
      "           1.09937435e-32,   1.09934288e-32,   1.09812413e-32,\n",
      "           1.02278281e-32,   5.51876231e-34],\n",
      "        [  0.00000000e+00,   0.00000000e+00,   0.00000000e+00,\n",
      "           0.00000000e+00,   0.00000000e+00,   0.00000000e+00,\n",
      "           0.00000000e+00,   0.00000000e+00,   0.00000000e+00,\n",
      "           0.00000000e+00,   0.00000000e+00,   0.00000000e+00,\n",
      "           0.00000000e+00,   2.04356381e-33,  -4.63699774e-27,\n",
      "          -5.57826168e-31,  -5.57826173e-31,  -5.57826359e-31,\n",
      "          -5.57837881e-31,  -5.57985853e-31],\n",
      "        [  0.00000000e+00,   0.00000000e+00,   0.00000000e+00,\n",
      "           0.00000000e+00,   0.00000000e+00,   0.00000000e+00,\n",
      "           0.00000000e+00,   0.00000000e+00,   0.00000000e+00,\n",
      "           0.00000000e+00,   0.00000000e+00,   0.00000000e+00,\n",
      "           0.00000000e+00,   0.00000000e+00,   1.45465094e-28,\n",
      "          -3.27599656e-26,   1.75233405e-32,   1.75233422e-32,\n",
      "           1.75234457e-32,   1.75247771e-32],\n",
      "        [  0.00000000e+00,   0.00000000e+00,   0.00000000e+00,\n",
      "           0.00000000e+00,   0.00000000e+00,   0.00000000e+00,\n",
      "           0.00000000e+00,   0.00000000e+00,   0.00000000e+00,\n",
      "           0.00000000e+00,   0.00000000e+00,   0.00000000e+00,\n",
      "           0.00000000e+00,   0.00000000e+00,   0.00000000e+00,\n",
      "           1.72533346e-26,  -1.56511164e-25,  -2.53076820e-31,\n",
      "          -2.53076819e-31,  -2.53076813e-31],\n",
      "        [  0.00000000e+00,   0.00000000e+00,   0.00000000e+00,\n",
      "           0.00000000e+00,   0.00000000e+00,   0.00000000e+00,\n",
      "           0.00000000e+00,   0.00000000e+00,   0.00000000e+00,\n",
      "           0.00000000e+00,   0.00000000e+00,   0.00000000e+00,\n",
      "           0.00000000e+00,   0.00000000e+00,   0.00000000e+00,\n",
      "           0.00000000e+00,   2.51506409e-26,  -1.24675075e-24,\n",
      "           7.79207299e-32,   7.79208110e-32],\n",
      "        [  0.00000000e+00,   0.00000000e+00,   0.00000000e+00,\n",
      "           0.00000000e+00,   0.00000000e+00,   0.00000000e+00,\n",
      "           0.00000000e+00,   0.00000000e+00,   0.00000000e+00,\n",
      "           0.00000000e+00,   0.00000000e+00,   0.00000000e+00,\n",
      "           0.00000000e+00,   0.00000000e+00,   0.00000000e+00,\n",
      "           0.00000000e+00,   0.00000000e+00,   1.58569475e-25,\n",
      "          -8.62129382e-24,  -1.40055282e-31],\n",
      "        [  0.00000000e+00,   0.00000000e+00,   0.00000000e+00,\n",
      "           0.00000000e+00,   0.00000000e+00,   0.00000000e+00,\n",
      "           0.00000000e+00,   0.00000000e+00,   0.00000000e+00,\n",
      "           0.00000000e+00,   0.00000000e+00,   0.00000000e+00,\n",
      "           0.00000000e+00,   0.00000000e+00,   0.00000000e+00,\n",
      "           0.00000000e+00,   0.00000000e+00,   0.00000000e+00,\n",
      "           2.40570474e-24,  -2.59978345e-23],\n",
      "        [  0.00000000e+00,   0.00000000e+00,   0.00000000e+00,\n",
      "           0.00000000e+00,   0.00000000e+00,   0.00000000e+00,\n",
      "           0.00000000e+00,   0.00000000e+00,   0.00000000e+00,\n",
      "           0.00000000e+00,   0.00000000e+00,   0.00000000e+00,\n",
      "           0.00000000e+00,   0.00000000e+00,   0.00000000e+00,\n",
      "           0.00000000e+00,   0.00000000e+00,   0.00000000e+00,\n",
      "           0.00000000e+00,   3.59385507e-24]]))\n"
     ]
    }
   ],
   "source": [
    "print(restarting(10, 20, K, f, v0))"
   ]
  },
  {
   "cell_type": "markdown",
   "metadata": {},
   "source": [
    "### (d) Mettre le résultat obtenu sous forme de graphes pour avoir une vue d'ensemble."
   ]
  },
  {
   "cell_type": "markdown",
   "metadata": {},
   "source": [
    "Tracer les solutions obtenues $vk$ avec la fonction graphique contour (ou contourf). Pour cela il est necessaire de transformer le vecteur v k ∈ IR m en matrice n × n (m = n 2 ). Le réarrangement se fait ligne par ligne à l’aide de la fonction python reshape. "
   ]
  },
  {
   "cell_type": "code",
   "execution_count": 232,
   "metadata": {},
   "outputs": [
    {
     "data": {
      "text/plain": [
       "<matplotlib.contour.QuadContourSet at 0x7f9fd24b0d68>"
      ]
     },
     "execution_count": 232,
     "metadata": {},
     "output_type": "execute_result"
    },
    {
     "data": {
      "image/png": "[encoded data removed]",
      "text/plain": [
       "<Figure size 432x288 with 1 Axes>"
      ]
     },
     "metadata": {
      "needs_background": "light"
     },
     "output_type": "display_data"
    }
   ],
   "source": [
    "contourf(restarting(10, 20, K, f, v0)[1])"
   ]
  },
  {
   "cell_type": "markdown",
   "metadata": {},
   "source": [
    "De même tracer la courbe de décroissance de la norme des résidus en fonction des itérés."
   ]
  },
  {
   "cell_type": "code",
   "execution_count": 165,
   "metadata": {},
   "outputs": [
    {
     "data": {
      "text/plain": [
       "[<matplotlib.lines.Line2D at 0x7f9fd27cb828>]"
      ]
     },
     "execution_count": 165,
     "metadata": {},
     "output_type": "execute_result"
    },
    {
     "data": {
      "image/png": "[encoded data removed]",
      "text/plain": [
       "<Figure size 432x288 with 1 Axes>"
      ]
     },
     "metadata": {
      "needs_background": "light"
     },
     "output_type": "display_data"
    }
   ],
   "source": [
    "semilogy(restarting(10, 20, K, f, v0)[0])"
   ]
  }
 ],
 "metadata": {
  "kernelspec": {
   "display_name": "Python 3",
   "language": "python",
   "name": "python3"
  },
  "language_info": {
   "codemirror_mode": {
    "name": "ipython",
    "version": 3
   },
   "file_extension": ".py",
   "mimetype": "text/x-python",
   "name": "python",
   "nbconvert_exporter": "python",
   "pygments_lexer": "ipython3",
   "version": "3.6.7"
  }
 },
 "nbformat": 4,
 "nbformat_minor": 1
}
